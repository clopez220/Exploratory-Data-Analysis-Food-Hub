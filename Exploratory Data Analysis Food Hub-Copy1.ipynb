{
 "cells": [
  {
   "cell_type": "markdown",
   "metadata": {
    "id": "Gc8x8QimJY_H"
   },
   "source": [
    "# Project Python Foundations:  FoodHub Data Analysis \n"
   ]
  },
  {
   "cell_type": "markdown",
   "metadata": {
    "id": "NqikjkWwJY_L"
   },
   "source": [
    "### Context\n",
    "\n",
    "The number of restaurants in New York is increasing day by day. Lots of students and busy professionals rely on those restaurants due to their hectic lifestyles. Online food delivery service is a great option for them. It provides them with good food from their favorite restaurants. A food aggregator company FoodHub offers access to multiple restaurants through a single smartphone app.\n",
    "\n",
    "The app allows the restaurants to receive a direct online order from a customer. The app assigns a delivery person from the company to pick up the order after it is confirmed by the restaurant. The delivery person then uses the map to reach the restaurant and waits for the food package. Once the food package is handed over to the delivery person, he/she confirms the pick-up in the app and travels to the customer's location to deliver the food. The delivery person confirms the drop-off in the app after delivering the food package to the customer. The customer can rate the order in the app. The food aggregator earns money by collecting a fixed margin of the delivery order from the restaurants.\n",
    "\n",
    "### Objective\n",
    "\n",
    "The food aggregator company has stored the data of the different orders made by the registered customers in their online portal. They want to analyze the data to get a fair idea about the demand of different restaurants which will help them in enhancing their customer experience. Suppose you are hired as a Data Scientist in this company and the Data Science team has shared some of the key questions that need to be answered. Perform the data analysis to find answers to these questions that will help the company to improve the business. \n",
    "\n",
    "### Data Description\n",
    "\n",
    "The data contains the different data related to a food order. The detailed data dictionary is given below.\n",
    "\n",
    "### Data Dictionary\n",
    "\n",
    "* order_id: Unique ID of the order\n",
    "* customer_id: ID of the customer who ordered the food\n",
    "* restaurant_name: Name of the restaurant\n",
    "* cuisine_type: Cuisine ordered by the customer\n",
    "* cost: Cost of the order\n",
    "* day_of_the_week: Indicates whether the order is placed on a weekday or weekend (The weekday is from Monday to Friday and the weekend is Saturday and Sunday)\n",
    "* rating: Rating given by the customer out of 5\n",
    "* food_preparation_time: Time (in minutes) taken by the restaurant to prepare the food. This is calculated by taking the difference between the timestamps of the restaurant's order confirmation and the delivery person's pick-up confirmation.\n",
    "* delivery_time: Time (in minutes) taken by the delivery person to deliver the food package. This is calculated by taking the difference between the timestamps of the delivery person's pick-up confirmation and drop-off information"
   ]
  },
  {
   "cell_type": "markdown",
   "metadata": {
    "id": "cEtNUxNAJY_M"
   },
   "source": [
    "### Let us start by importing the required libraries"
   ]
  },
  {
   "cell_type": "code",
   "execution_count": 1,
   "metadata": {
    "id": "u6PlpJAPJY_N"
   },
   "outputs": [],
   "source": [
    "# import libraries for data manipulation\n",
    "import numpy as np\n",
    "import pandas as pd\n",
    "\n",
    "# import libraries for data visualization\n",
    "import matplotlib.pyplot as plt\n",
    "import seaborn as sns"
   ]
  },
  {
   "cell_type": "markdown",
   "metadata": {
    "id": "AdracY0HJY_O"
   },
   "source": [
    "### 1. Understanding the structure of the data"
   ]
  },
  {
   "cell_type": "code",
   "execution_count": 2,
   "metadata": {
    "id": "GF01IZDbJY_O",
    "scrolled": true
   },
   "outputs": [
    {
     "data": {
      "text/html": [
       "<div>\n",
       "<style scoped>\n",
       "    .dataframe tbody tr th:only-of-type {\n",
       "        vertical-align: middle;\n",
       "    }\n",
       "\n",
       "    .dataframe tbody tr th {\n",
       "        vertical-align: top;\n",
       "    }\n",
       "\n",
       "    .dataframe thead th {\n",
       "        text-align: right;\n",
       "    }\n",
       "</style>\n",
       "<table border=\"1\" class=\"dataframe\">\n",
       "  <thead>\n",
       "    <tr style=\"text-align: right;\">\n",
       "      <th></th>\n",
       "      <th>order_id</th>\n",
       "      <th>customer_id</th>\n",
       "      <th>restaurant_name</th>\n",
       "      <th>cuisine_type</th>\n",
       "      <th>cost_of_the_order</th>\n",
       "      <th>day_of_the_week</th>\n",
       "      <th>rating</th>\n",
       "      <th>food_preparation_time</th>\n",
       "      <th>delivery_time</th>\n",
       "    </tr>\n",
       "  </thead>\n",
       "  <tbody>\n",
       "    <tr>\n",
       "      <th>0</th>\n",
       "      <td>1477147</td>\n",
       "      <td>337525</td>\n",
       "      <td>Hangawi</td>\n",
       "      <td>Korean</td>\n",
       "      <td>30.75</td>\n",
       "      <td>Weekend</td>\n",
       "      <td>Not given</td>\n",
       "      <td>25</td>\n",
       "      <td>20</td>\n",
       "    </tr>\n",
       "    <tr>\n",
       "      <th>1</th>\n",
       "      <td>1477685</td>\n",
       "      <td>358141</td>\n",
       "      <td>Blue Ribbon Sushi Izakaya</td>\n",
       "      <td>Japanese</td>\n",
       "      <td>12.08</td>\n",
       "      <td>Weekend</td>\n",
       "      <td>Not given</td>\n",
       "      <td>25</td>\n",
       "      <td>23</td>\n",
       "    </tr>\n",
       "    <tr>\n",
       "      <th>2</th>\n",
       "      <td>1477070</td>\n",
       "      <td>66393</td>\n",
       "      <td>Cafe Habana</td>\n",
       "      <td>Mexican</td>\n",
       "      <td>12.23</td>\n",
       "      <td>Weekday</td>\n",
       "      <td>5</td>\n",
       "      <td>23</td>\n",
       "      <td>28</td>\n",
       "    </tr>\n",
       "    <tr>\n",
       "      <th>3</th>\n",
       "      <td>1477334</td>\n",
       "      <td>106968</td>\n",
       "      <td>Blue Ribbon Fried Chicken</td>\n",
       "      <td>American</td>\n",
       "      <td>29.20</td>\n",
       "      <td>Weekend</td>\n",
       "      <td>3</td>\n",
       "      <td>25</td>\n",
       "      <td>15</td>\n",
       "    </tr>\n",
       "    <tr>\n",
       "      <th>4</th>\n",
       "      <td>1478249</td>\n",
       "      <td>76942</td>\n",
       "      <td>Dirty Bird to Go</td>\n",
       "      <td>American</td>\n",
       "      <td>11.59</td>\n",
       "      <td>Weekday</td>\n",
       "      <td>4</td>\n",
       "      <td>25</td>\n",
       "      <td>24</td>\n",
       "    </tr>\n",
       "  </tbody>\n",
       "</table>\n",
       "</div>"
      ],
      "text/plain": [
       "   order_id  customer_id            restaurant_name cuisine_type  \\\n",
       "0   1477147       337525                    Hangawi       Korean   \n",
       "1   1477685       358141  Blue Ribbon Sushi Izakaya     Japanese   \n",
       "2   1477070        66393                Cafe Habana      Mexican   \n",
       "3   1477334       106968  Blue Ribbon Fried Chicken     American   \n",
       "4   1478249        76942           Dirty Bird to Go     American   \n",
       "\n",
       "   cost_of_the_order day_of_the_week     rating  food_preparation_time  \\\n",
       "0              30.75         Weekend  Not given                     25   \n",
       "1              12.08         Weekend  Not given                     25   \n",
       "2              12.23         Weekday          5                     23   \n",
       "3              29.20         Weekend          3                     25   \n",
       "4              11.59         Weekday          4                     25   \n",
       "\n",
       "   delivery_time  \n",
       "0             20  \n",
       "1             23  \n",
       "2             28  \n",
       "3             15  \n",
       "4             24  "
      ]
     },
     "execution_count": 2,
     "metadata": {},
     "output_type": "execute_result"
    }
   ],
   "source": [
    "# read the data\n",
    "df = pd.read_csv('H:/Cursos/Data Science/Soluciones/M1Food Hub/foodhub_order.csv')\n",
    "# In excel archives use pd.read_excel(\"name.xlsx\",sheet_name=\"sheet1\")\n",
    "# To see the info  write at  the final \", sep= then\" shift + tab to see\n",
    "# returns the first 5 rows\n",
    "df.head()"
   ]
  },
  {
   "cell_type": "markdown",
   "metadata": {
    "id": "J_Y9aJDJJY_P"
   },
   "source": [
    "#### Observations:\n",
    "\n",
    "The DataFrame has 9 columns as mentioned in the Data Dictionary. Data in each row corresponds to the order placed by a customer."
   ]
  },
  {
   "cell_type": "markdown",
   "metadata": {
    "id": "c3kenV4vJY_Q"
   },
   "source": [
    "### 2. rows and columns are present in the data"
   ]
  },
  {
   "cell_type": "code",
   "execution_count": 3,
   "metadata": {
    "id": "Yvz5i-PhJY_Q"
   },
   "outputs": [
    {
     "data": {
      "text/plain": [
       "(1898, 9)"
      ]
     },
     "execution_count": 3,
     "metadata": {},
     "output_type": "execute_result"
    }
   ],
   "source": [
    "# Write your code here\n",
    "df.shape"
   ]
  },
  {
   "cell_type": "markdown",
   "metadata": {
    "id": "UsTNy3unJY_R"
   },
   "source": [
    "#### Observations:\n",
    "Observations:\n",
    "The DataFrame has 9 columns as mentioned in the Data Dictionary. Data in each row corresponds to the order placed by a customer."
   ]
  },
  {
   "cell_type": "markdown",
   "metadata": {
    "id": "jRXakVrUJY_R"
   },
   "source": [
    "### 3. Datatypes of the different columns in the dataset"
   ]
  },
  {
   "cell_type": "code",
   "execution_count": 4,
   "metadata": {
    "id": "Kp70Z0BNJY_R"
   },
   "outputs": [
    {
     "name": "stdout",
     "output_type": "stream",
     "text": [
      "<class 'pandas.core.frame.DataFrame'>\n",
      "RangeIndex: 1898 entries, 0 to 1897\n",
      "Data columns (total 9 columns):\n",
      " #   Column                 Non-Null Count  Dtype  \n",
      "---  ------                 --------------  -----  \n",
      " 0   order_id               1898 non-null   int64  \n",
      " 1   customer_id            1898 non-null   int64  \n",
      " 2   restaurant_name        1898 non-null   object \n",
      " 3   cuisine_type           1898 non-null   object \n",
      " 4   cost_of_the_order      1898 non-null   float64\n",
      " 5   day_of_the_week        1898 non-null   object \n",
      " 6   rating                 1898 non-null   object \n",
      " 7   food_preparation_time  1898 non-null   int64  \n",
      " 8   delivery_time          1898 non-null   int64  \n",
      "dtypes: float64(1), int64(4), object(4)\n",
      "memory usage: 133.6+ KB\n"
     ]
    }
   ],
   "source": [
    "# Use info() to print a concise summary of the DataFrame\n",
    "df.info()"
   ]
  },
  {
   "cell_type": "markdown",
   "metadata": {
    "id": "WJes5GP2JY_S"
   },
   "source": [
    "#### Observations:Based on the provided DataFrame summary:\n",
    "\n",
    "* The DataFrame consists of 1898 entries, indexed from 0 to 1897.\n",
    "* There are 9 columns in total.\n",
    "* The DataFrame provides information about orders, customers, restaurants, cuisine types, costs, day of the week, ratings, food preparation time, and delivery time.\n",
    "* Further analysis could involve exploring relationships between variables, such as the relationship between rating and delivery time or the distribution of costs across different cuisine types."
   ]
  },
  {
   "cell_type": "markdown",
   "metadata": {
    "id": "pF_92MN6JY_S"
   },
   "source": [
    "### 4.  Are there any missing values in the data? If yes, treat them using an appropriate method."
   ]
  },
  {
   "cell_type": "code",
   "execution_count": 5,
   "metadata": {
    "id": "Zth-RR1PJY_S"
   },
   "outputs": [
    {
     "data": {
      "text/plain": [
       "order_id                 0\n",
       "customer_id              0\n",
       "restaurant_name          0\n",
       "cuisine_type             0\n",
       "cost_of_the_order        0\n",
       "day_of_the_week          0\n",
       "rating                   0\n",
       "food_preparation_time    0\n",
       "delivery_time            0\n",
       "dtype: int64"
      ]
     },
     "execution_count": 5,
     "metadata": {},
     "output_type": "execute_result"
    }
   ],
   "source": [
    "# Checking for missing values\n",
    "df.isnull().sum()"
   ]
  },
  {
   "cell_type": "markdown",
   "metadata": {
    "id": "jDHT3vD1JY_S"
   },
   "source": [
    "#### Observations:\n",
    "* There is not missing values in the data"
   ]
  },
  {
   "cell_type": "markdown",
   "metadata": {
    "id": "MnJo7MWrJY_S"
   },
   "source": [
    "### 5. Statistical summary of the data. "
   ]
  },
  {
   "cell_type": "code",
   "execution_count": 6,
   "metadata": {
    "id": "WprQBgOSJY_T"
   },
   "outputs": [
    {
     "data": {
      "text/html": [
       "<style type=\"text/css\">\n",
       "</style>\n",
       "<table id=\"T_60f8c\">\n",
       "  <thead>\n",
       "    <tr>\n",
       "      <th class=\"blank level0\" >&nbsp;</th>\n",
       "      <th id=\"T_60f8c_level0_col0\" class=\"col_heading level0 col0\" >count</th>\n",
       "      <th id=\"T_60f8c_level0_col1\" class=\"col_heading level0 col1\" >mean</th>\n",
       "      <th id=\"T_60f8c_level0_col2\" class=\"col_heading level0 col2\" >std</th>\n",
       "      <th id=\"T_60f8c_level0_col3\" class=\"col_heading level0 col3\" >min</th>\n",
       "      <th id=\"T_60f8c_level0_col4\" class=\"col_heading level0 col4\" >25%</th>\n",
       "      <th id=\"T_60f8c_level0_col5\" class=\"col_heading level0 col5\" >50%</th>\n",
       "      <th id=\"T_60f8c_level0_col6\" class=\"col_heading level0 col6\" >75%</th>\n",
       "      <th id=\"T_60f8c_level0_col7\" class=\"col_heading level0 col7\" >max</th>\n",
       "    </tr>\n",
       "  </thead>\n",
       "  <tbody>\n",
       "    <tr>\n",
       "      <th id=\"T_60f8c_level0_row0\" class=\"row_heading level0 row0\" >order_id</th>\n",
       "      <td id=\"T_60f8c_row0_col0\" class=\"data row0 col0\" >1,898.000</td>\n",
       "      <td id=\"T_60f8c_row0_col1\" class=\"data row0 col1\" >1,477,495.500</td>\n",
       "      <td id=\"T_60f8c_row0_col2\" class=\"data row0 col2\" >548.050</td>\n",
       "      <td id=\"T_60f8c_row0_col3\" class=\"data row0 col3\" >1,476,547.000</td>\n",
       "      <td id=\"T_60f8c_row0_col4\" class=\"data row0 col4\" >1,477,021.250</td>\n",
       "      <td id=\"T_60f8c_row0_col5\" class=\"data row0 col5\" >1,477,495.500</td>\n",
       "      <td id=\"T_60f8c_row0_col6\" class=\"data row0 col6\" >1,477,969.750</td>\n",
       "      <td id=\"T_60f8c_row0_col7\" class=\"data row0 col7\" >1,478,444.000</td>\n",
       "    </tr>\n",
       "    <tr>\n",
       "      <th id=\"T_60f8c_level0_row1\" class=\"row_heading level0 row1\" >customer_id</th>\n",
       "      <td id=\"T_60f8c_row1_col0\" class=\"data row1 col0\" >1,898.000</td>\n",
       "      <td id=\"T_60f8c_row1_col1\" class=\"data row1 col1\" >171,168.478</td>\n",
       "      <td id=\"T_60f8c_row1_col2\" class=\"data row1 col2\" >113,698.140</td>\n",
       "      <td id=\"T_60f8c_row1_col3\" class=\"data row1 col3\" >1,311.000</td>\n",
       "      <td id=\"T_60f8c_row1_col4\" class=\"data row1 col4\" >77,787.750</td>\n",
       "      <td id=\"T_60f8c_row1_col5\" class=\"data row1 col5\" >128,600.000</td>\n",
       "      <td id=\"T_60f8c_row1_col6\" class=\"data row1 col6\" >270,525.000</td>\n",
       "      <td id=\"T_60f8c_row1_col7\" class=\"data row1 col7\" >405,334.000</td>\n",
       "    </tr>\n",
       "    <tr>\n",
       "      <th id=\"T_60f8c_level0_row2\" class=\"row_heading level0 row2\" >cost_of_the_order</th>\n",
       "      <td id=\"T_60f8c_row2_col0\" class=\"data row2 col0\" >1,898.000</td>\n",
       "      <td id=\"T_60f8c_row2_col1\" class=\"data row2 col1\" >16.499</td>\n",
       "      <td id=\"T_60f8c_row2_col2\" class=\"data row2 col2\" >7.484</td>\n",
       "      <td id=\"T_60f8c_row2_col3\" class=\"data row2 col3\" >4.470</td>\n",
       "      <td id=\"T_60f8c_row2_col4\" class=\"data row2 col4\" >12.080</td>\n",
       "      <td id=\"T_60f8c_row2_col5\" class=\"data row2 col5\" >14.140</td>\n",
       "      <td id=\"T_60f8c_row2_col6\" class=\"data row2 col6\" >22.298</td>\n",
       "      <td id=\"T_60f8c_row2_col7\" class=\"data row2 col7\" >35.410</td>\n",
       "    </tr>\n",
       "    <tr>\n",
       "      <th id=\"T_60f8c_level0_row3\" class=\"row_heading level0 row3\" >food_preparation_time</th>\n",
       "      <td id=\"T_60f8c_row3_col0\" class=\"data row3 col0\" >1,898.000</td>\n",
       "      <td id=\"T_60f8c_row3_col1\" class=\"data row3 col1\" >27.372</td>\n",
       "      <td id=\"T_60f8c_row3_col2\" class=\"data row3 col2\" >4.632</td>\n",
       "      <td id=\"T_60f8c_row3_col3\" class=\"data row3 col3\" >20.000</td>\n",
       "      <td id=\"T_60f8c_row3_col4\" class=\"data row3 col4\" >23.000</td>\n",
       "      <td id=\"T_60f8c_row3_col5\" class=\"data row3 col5\" >27.000</td>\n",
       "      <td id=\"T_60f8c_row3_col6\" class=\"data row3 col6\" >31.000</td>\n",
       "      <td id=\"T_60f8c_row3_col7\" class=\"data row3 col7\" >35.000</td>\n",
       "    </tr>\n",
       "    <tr>\n",
       "      <th id=\"T_60f8c_level0_row4\" class=\"row_heading level0 row4\" >delivery_time</th>\n",
       "      <td id=\"T_60f8c_row4_col0\" class=\"data row4 col0\" >1,898.000</td>\n",
       "      <td id=\"T_60f8c_row4_col1\" class=\"data row4 col1\" >24.162</td>\n",
       "      <td id=\"T_60f8c_row4_col2\" class=\"data row4 col2\" >4.973</td>\n",
       "      <td id=\"T_60f8c_row4_col3\" class=\"data row4 col3\" >15.000</td>\n",
       "      <td id=\"T_60f8c_row4_col4\" class=\"data row4 col4\" >20.000</td>\n",
       "      <td id=\"T_60f8c_row4_col5\" class=\"data row4 col5\" >25.000</td>\n",
       "      <td id=\"T_60f8c_row4_col6\" class=\"data row4 col6\" >28.000</td>\n",
       "      <td id=\"T_60f8c_row4_col7\" class=\"data row4 col7\" >33.000</td>\n",
       "    </tr>\n",
       "  </tbody>\n",
       "</table>\n"
      ],
      "text/plain": [
       "<pandas.io.formats.style.Styler at 0x22f67a859d0>"
      ]
     },
     "execution_count": 6,
     "metadata": {},
     "output_type": "execute_result"
    }
   ],
   "source": [
    "# Write your code here# Define a custom formatting function\n",
    "def thousand_separator(x):\n",
    "    return \"{:,.3f}\".format(x)\n",
    "# get the summary statistics of the numerical data\n",
    "#to test df.describe(include= \"all\")\n",
    "df.describe().T.round(3).style.format(thousand_separator)"
   ]
  },
  {
   "cell_type": "markdown",
   "metadata": {
    "id": "9YbSOR5wJY_T"
   },
   "source": [
    "#### Observations: From the provided summary statistics table:\n",
    "\n",
    "##### Order Count: \n",
    "* There are 1,898 orders in total.\n",
    "##### Cost of the Order:\n",
    "* The average cost of an order is approximately 16.50 usd.\n",
    "* The standard deviation is approximately 7.48usd, indicating variability in the cost of orders.\n",
    "* The minimum cost of an order is 4.47usd, while the maximum cost is 35.41usd.\n",
    "* The majority of orders fall within the range of 12.08 usd to 22.30usd (25th to 75th percentile).\n",
    "##### Food Preparation Time:\n",
    "* The average food preparation time is approximately 27.37 minutes.\n",
    "* The standard deviation is approximately 4.63 minutes.\n",
    "* The minimum preparation time is 20 minutes, and the maximum is 35 minutes.\n",
    "* Most orders are prepared within 23 to 31 minutes (25th to 75th percentile).\n",
    "##### Delivery Time:\n",
    "* The average delivery time is approximately 24.16 minutes.\n",
    "* The standard deviation is approximately 4.97 minutes.\n",
    "* The minimum delivery time is 15 minutes, and the maximum is 33 minutes.\n",
    "* Delivery times range from 20 to 28 minutes for the majority of orders (25th to 75th percentile)."
   ]
  },
  {
   "cell_type": "markdown",
   "metadata": {
    "id": "cw3l58z_JY_T"
   },
   "source": [
    "### 6. Orders  not rated"
   ]
  },
  {
   "cell_type": "code",
   "execution_count": 7,
   "metadata": {
    "id": "hEzDUL9wgksi"
   },
   "outputs": [
    {
     "data": {
      "text/plain": [
       "rating\n",
       "Not given    736\n",
       "5            588\n",
       "4            386\n",
       "3            188\n",
       "Name: count, dtype: int64"
      ]
     },
     "execution_count": 7,
     "metadata": {},
     "output_type": "execute_result"
    }
   ],
   "source": [
    "# Write the code here\n",
    "df['rating'].value_counts()"
   ]
  },
  {
   "cell_type": "markdown",
   "metadata": {
    "id": "5E0O_oviJY_T"
   },
   "source": [
    "#### Observations:\n",
    "* There are   736 orders no rated."
   ]
  },
  {
   "cell_type": "markdown",
   "metadata": {
    "id": "7msIfXE-JY_T"
   },
   "source": [
    "## Exploratory Data Analysis (EDA)"
   ]
  },
  {
   "cell_type": "markdown",
   "metadata": {
    "id": "-2xfI28YJY_T"
   },
   "source": [
    "### Univariate Analysis"
   ]
  },
  {
   "cell_type": "markdown",
   "metadata": {},
   "source": [
    "#### 1. Order"
   ]
  },
  {
   "cell_type": "code",
   "execution_count": 8,
   "metadata": {},
   "outputs": [
    {
     "data": {
      "text/plain": [
       "1898"
      ]
     },
     "execution_count": 8,
     "metadata": {},
     "output_type": "execute_result"
    }
   ],
   "source": [
    "# check unique order ID\n",
    "df['order_id'].nunique()"
   ]
  },
  {
   "cell_type": "markdown",
   "metadata": {},
   "source": [
    "#### Observations:\n",
    "* There are 1898 unique orders. As mentioned earlier, 'order_id' is just an identifier for the orders"
   ]
  },
  {
   "cell_type": "markdown",
   "metadata": {},
   "source": [
    "#### 2. Client"
   ]
  },
  {
   "cell_type": "code",
   "execution_count": 9,
   "metadata": {},
   "outputs": [
    {
     "data": {
      "text/plain": [
       "1200"
      ]
     },
     "execution_count": 9,
     "metadata": {},
     "output_type": "execute_result"
    }
   ],
   "source": [
    "# check unique customer ID\n",
    "df['customer_id'].nunique()"
   ]
  },
  {
   "cell_type": "markdown",
   "metadata": {},
   "source": [
    "#### Observations:\n",
    "* There are 1200 clients"
   ]
  },
  {
   "cell_type": "markdown",
   "metadata": {},
   "source": [
    "#### 3. Restaurants"
   ]
  },
  {
   "cell_type": "code",
   "execution_count": 10,
   "metadata": {},
   "outputs": [
    {
     "data": {
      "text/plain": [
       "178"
      ]
     },
     "execution_count": 10,
     "metadata": {},
     "output_type": "execute_result"
    }
   ],
   "source": [
    "# check unique restaurant\n",
    "df['restaurant_name'].nunique()\n"
   ]
  },
  {
   "cell_type": "markdown",
   "metadata": {},
   "source": [
    "#### Observations:\n",
    "* There are 178 restaurants"
   ]
  },
  {
   "cell_type": "code",
   "execution_count": 11,
   "metadata": {
    "scrolled": false
   },
   "outputs": [
    {
     "name": "stdout",
     "output_type": "stream",
     "text": [
      "                           Count  Percentage\n",
      "restaurant_name                             \n",
      "Shake Shack                  219   11.538462\n",
      "The Meatball Shop            132    6.954689\n",
      "Blue Ribbon Sushi            119    6.269758\n",
      "Blue Ribbon Fried Chicken     96    5.057956\n",
      "Parm                          68    3.582719\n",
      "...                          ...         ...\n",
      "Sushi Choshi                   1    0.052687\n",
      "Dos Caminos Soho               1    0.052687\n",
      "La Follia                      1    0.052687\n",
      "Philippe Chow                  1    0.052687\n",
      "'wichcraft                     1    0.052687\n",
      "\n",
      "[178 rows x 2 columns]\n"
     ]
    }
   ],
   "source": [
    "# Get the count of observations for each restaurant name\n",
    "restaurant_counts = df['restaurant_name'].value_counts()\n",
    "\n",
    "# Calculate the total count of observations\n",
    "total_count = restaurant_counts.sum()\n",
    "\n",
    "# Calculate the percentage of each restaurant's count\n",
    "restaurant_percentage = (restaurant_counts / total_count) * 100\n",
    "\n",
    "# Create a new DataFrame to store the counts and percentages\n",
    "restaurant_summary = pd.DataFrame({'Count': restaurant_counts, 'Percentage': restaurant_percentage})\n",
    "\n",
    "# Display the DataFrame\n",
    "print(restaurant_summary)"
   ]
  },
  {
   "cell_type": "code",
   "execution_count": 12,
   "metadata": {},
   "outputs": [
    {
     "data": {
      "text/plain": [
       "0.33403582718651215"
      ]
     },
     "execution_count": 12,
     "metadata": {},
     "output_type": "execute_result"
    }
   ],
   "source": [
    "# sum % top 5\n",
    "(df[\"restaurant_name\"].value_counts().head()/df.shape[0]).sum()"
   ]
  },
  {
   "cell_type": "markdown",
   "metadata": {},
   "source": [
    "#### Observations:\n",
    "* Shake Shack reciebed 219 orders 11.53% of the total.\n",
    "* Top 5 popular restaurants that have received the highest number of orders **'Shake Shack', 'The Meatball Shop', 'Blue Ribbon Sushi', 'Blue Ribbon Fried Chicken' and 'Parm'**. \n",
    "\n",
    "* Almost 33% of the orders in the dataset are from these restaurants."
   ]
  },
  {
   "cell_type": "markdown",
   "metadata": {},
   "source": [
    "## ABC ANALYSIS"
   ]
  },
  {
   "cell_type": "markdown",
   "metadata": {},
   "source": [
    "### A. ABC ANALYSIS BY ORDER COUNT"
   ]
  },
  {
   "cell_type": "code",
   "execution_count": 13,
   "metadata": {
    "scrolled": false
   },
   "outputs": [
    {
     "data": {
      "text/html": [
       "<style type=\"text/css\">\n",
       "#T_74c84_row0_col0, #T_74c84_row0_col1, #T_74c84_row0_col2, #T_74c84_row1_col0, #T_74c84_row1_col1, #T_74c84_row1_col2, #T_74c84_row2_col0, #T_74c84_row2_col1, #T_74c84_row2_col2, #T_74c84_row3_col0, #T_74c84_row3_col1, #T_74c84_row3_col2, #T_74c84_row4_col0, #T_74c84_row4_col1, #T_74c84_row4_col2, #T_74c84_row5_col0, #T_74c84_row5_col1, #T_74c84_row5_col2, #T_74c84_row6_col0, #T_74c84_row6_col1, #T_74c84_row6_col2, #T_74c84_row7_col0, #T_74c84_row7_col1, #T_74c84_row7_col2, #T_74c84_row8_col0, #T_74c84_row8_col1, #T_74c84_row8_col2, #T_74c84_row9_col0, #T_74c84_row9_col1, #T_74c84_row9_col2, #T_74c84_row10_col0, #T_74c84_row10_col1, #T_74c84_row10_col2, #T_74c84_row11_col0, #T_74c84_row11_col1, #T_74c84_row11_col2, #T_74c84_row12_col0, #T_74c84_row12_col1, #T_74c84_row12_col2, #T_74c84_row13_col0, #T_74c84_row13_col1, #T_74c84_row13_col2, #T_74c84_row14_col0, #T_74c84_row14_col1, #T_74c84_row14_col2, #T_74c84_row15_col0, #T_74c84_row15_col1, #T_74c84_row15_col2, #T_74c84_row16_col0, #T_74c84_row16_col1, #T_74c84_row16_col2, #T_74c84_row17_col0, #T_74c84_row17_col1, #T_74c84_row17_col2, #T_74c84_row18_col0, #T_74c84_row18_col1, #T_74c84_row18_col2, #T_74c84_row19_col0, #T_74c84_row19_col1, #T_74c84_row19_col2, #T_74c84_row20_col0, #T_74c84_row20_col1, #T_74c84_row20_col2, #T_74c84_row21_col0, #T_74c84_row21_col1, #T_74c84_row21_col2, #T_74c84_row22_col0, #T_74c84_row22_col1, #T_74c84_row22_col2, #T_74c84_row23_col0, #T_74c84_row23_col1, #T_74c84_row23_col2, #T_74c84_row24_col0, #T_74c84_row24_col1, #T_74c84_row24_col2, #T_74c84_row25_col0, #T_74c84_row25_col1, #T_74c84_row25_col2, #T_74c84_row26_col0, #T_74c84_row26_col1, #T_74c84_row26_col2, #T_74c84_row27_col0, #T_74c84_row27_col1, #T_74c84_row27_col2, #T_74c84_row28_col0, #T_74c84_row28_col1, #T_74c84_row28_col2, #T_74c84_row29_col0, #T_74c84_row29_col1, #T_74c84_row29_col2, #T_74c84_row30_col0, #T_74c84_row30_col1, #T_74c84_row30_col2, #T_74c84_row31_col0, #T_74c84_row31_col1, #T_74c84_row31_col2, #T_74c84_row32_col0, #T_74c84_row32_col1, #T_74c84_row32_col2, #T_74c84_row33_col0, #T_74c84_row33_col1, #T_74c84_row33_col2, #T_74c84_row34_col0, #T_74c84_row34_col1, #T_74c84_row34_col2, #T_74c84_row35_col0, #T_74c84_row35_col1, #T_74c84_row35_col2, #T_74c84_row36_col0, #T_74c84_row36_col1, #T_74c84_row36_col2, #T_74c84_row37_col0, #T_74c84_row37_col1, #T_74c84_row37_col2, #T_74c84_row38_col0, #T_74c84_row38_col1, #T_74c84_row38_col2, #T_74c84_row39_col0, #T_74c84_row39_col1, #T_74c84_row39_col2, #T_74c84_row40_col0, #T_74c84_row40_col1, #T_74c84_row40_col2, #T_74c84_row41_col0, #T_74c84_row41_col1, #T_74c84_row41_col2, #T_74c84_row42_col0, #T_74c84_row42_col1, #T_74c84_row42_col2, #T_74c84_row43_col0, #T_74c84_row43_col1, #T_74c84_row43_col2, #T_74c84_row44_col0, #T_74c84_row44_col1, #T_74c84_row44_col2, #T_74c84_row45_col0, #T_74c84_row45_col1, #T_74c84_row45_col2, #T_74c84_row46_col0, #T_74c84_row46_col1, #T_74c84_row46_col2, #T_74c84_row47_col0, #T_74c84_row47_col1, #T_74c84_row47_col2, #T_74c84_row48_col0, #T_74c84_row48_col1, #T_74c84_row48_col2, #T_74c84_row49_col0, #T_74c84_row49_col1, #T_74c84_row49_col2, #T_74c84_row50_col0, #T_74c84_row50_col1, #T_74c84_row50_col2, #T_74c84_row51_col0, #T_74c84_row51_col1, #T_74c84_row51_col2, #T_74c84_row52_col0, #T_74c84_row52_col1, #T_74c84_row52_col2, #T_74c84_row53_col0, #T_74c84_row53_col1, #T_74c84_row53_col2, #T_74c84_row54_col0, #T_74c84_row54_col1, #T_74c84_row54_col2, #T_74c84_row55_col0, #T_74c84_row55_col1, #T_74c84_row55_col2, #T_74c84_row56_col0, #T_74c84_row56_col1, #T_74c84_row56_col2, #T_74c84_row57_col0, #T_74c84_row57_col1, #T_74c84_row57_col2, #T_74c84_row58_col0, #T_74c84_row58_col1, #T_74c84_row58_col2, #T_74c84_row59_col0, #T_74c84_row59_col1, #T_74c84_row59_col2, #T_74c84_row60_col0, #T_74c84_row60_col1, #T_74c84_row60_col2, #T_74c84_row61_col0, #T_74c84_row61_col1, #T_74c84_row61_col2, #T_74c84_row62_col0, #T_74c84_row62_col1, #T_74c84_row62_col2, #T_74c84_row63_col0, #T_74c84_row63_col1, #T_74c84_row63_col2, #T_74c84_row64_col0, #T_74c84_row64_col1, #T_74c84_row64_col2, #T_74c84_row65_col0, #T_74c84_row65_col1, #T_74c84_row65_col2, #T_74c84_row66_col0, #T_74c84_row66_col1, #T_74c84_row66_col2, #T_74c84_row67_col0, #T_74c84_row67_col1, #T_74c84_row67_col2, #T_74c84_row68_col0, #T_74c84_row68_col1, #T_74c84_row68_col2, #T_74c84_row69_col0, #T_74c84_row69_col1, #T_74c84_row69_col2, #T_74c84_row70_col0, #T_74c84_row70_col1, #T_74c84_row70_col2, #T_74c84_row71_col0, #T_74c84_row71_col1, #T_74c84_row71_col2, #T_74c84_row72_col0, #T_74c84_row72_col1, #T_74c84_row72_col2, #T_74c84_row73_col0, #T_74c84_row73_col1, #T_74c84_row73_col2, #T_74c84_row74_col0, #T_74c84_row74_col1, #T_74c84_row74_col2, #T_74c84_row75_col0, #T_74c84_row75_col1, #T_74c84_row75_col2, #T_74c84_row76_col0, #T_74c84_row76_col1, #T_74c84_row76_col2, #T_74c84_row77_col0, #T_74c84_row77_col1, #T_74c84_row77_col2, #T_74c84_row78_col0, #T_74c84_row78_col1, #T_74c84_row78_col2, #T_74c84_row79_col0, #T_74c84_row79_col1, #T_74c84_row79_col2, #T_74c84_row80_col0, #T_74c84_row80_col1, #T_74c84_row80_col2, #T_74c84_row81_col0, #T_74c84_row81_col1, #T_74c84_row81_col2, #T_74c84_row82_col0, #T_74c84_row82_col1, #T_74c84_row82_col2, #T_74c84_row83_col0, #T_74c84_row83_col1, #T_74c84_row83_col2, #T_74c84_row84_col0, #T_74c84_row84_col1, #T_74c84_row84_col2, #T_74c84_row85_col0, #T_74c84_row85_col1, #T_74c84_row85_col2, #T_74c84_row86_col0, #T_74c84_row86_col1, #T_74c84_row86_col2, #T_74c84_row87_col0, #T_74c84_row87_col1, #T_74c84_row87_col2, #T_74c84_row88_col0, #T_74c84_row88_col1, #T_74c84_row88_col2, #T_74c84_row89_col0, #T_74c84_row89_col1, #T_74c84_row89_col2, #T_74c84_row90_col0, #T_74c84_row90_col1, #T_74c84_row90_col2, #T_74c84_row91_col0, #T_74c84_row91_col1, #T_74c84_row91_col2, #T_74c84_row92_col0, #T_74c84_row92_col1, #T_74c84_row92_col2, #T_74c84_row93_col0, #T_74c84_row93_col1, #T_74c84_row93_col2, #T_74c84_row94_col0, #T_74c84_row94_col1, #T_74c84_row94_col2, #T_74c84_row95_col0, #T_74c84_row95_col1, #T_74c84_row95_col2, #T_74c84_row96_col0, #T_74c84_row96_col1, #T_74c84_row96_col2, #T_74c84_row97_col0, #T_74c84_row97_col1, #T_74c84_row97_col2, #T_74c84_row98_col0, #T_74c84_row98_col1, #T_74c84_row98_col2, #T_74c84_row99_col0, #T_74c84_row99_col1, #T_74c84_row99_col2, #T_74c84_row100_col0, #T_74c84_row100_col1, #T_74c84_row100_col2, #T_74c84_row101_col0, #T_74c84_row101_col1, #T_74c84_row101_col2, #T_74c84_row102_col0, #T_74c84_row102_col1, #T_74c84_row102_col2, #T_74c84_row103_col0, #T_74c84_row103_col1, #T_74c84_row103_col2, #T_74c84_row104_col0, #T_74c84_row104_col1, #T_74c84_row104_col2, #T_74c84_row105_col0, #T_74c84_row105_col1, #T_74c84_row105_col2, #T_74c84_row106_col0, #T_74c84_row106_col1, #T_74c84_row106_col2, #T_74c84_row107_col0, #T_74c84_row107_col1, #T_74c84_row107_col2, #T_74c84_row108_col0, #T_74c84_row108_col1, #T_74c84_row108_col2, #T_74c84_row109_col0, #T_74c84_row109_col1, #T_74c84_row109_col2, #T_74c84_row110_col0, #T_74c84_row110_col1, #T_74c84_row110_col2, #T_74c84_row111_col0, #T_74c84_row111_col1, #T_74c84_row111_col2, #T_74c84_row112_col0, #T_74c84_row112_col1, #T_74c84_row112_col2, #T_74c84_row113_col0, #T_74c84_row113_col1, #T_74c84_row113_col2, #T_74c84_row114_col0, #T_74c84_row114_col1, #T_74c84_row114_col2, #T_74c84_row115_col0, #T_74c84_row115_col1, #T_74c84_row115_col2, #T_74c84_row116_col0, #T_74c84_row116_col1, #T_74c84_row116_col2, #T_74c84_row117_col0, #T_74c84_row117_col1, #T_74c84_row117_col2, #T_74c84_row118_col0, #T_74c84_row118_col1, #T_74c84_row118_col2, #T_74c84_row119_col0, #T_74c84_row119_col1, #T_74c84_row119_col2, #T_74c84_row120_col0, #T_74c84_row120_col1, #T_74c84_row120_col2, #T_74c84_row121_col0, #T_74c84_row121_col1, #T_74c84_row121_col2, #T_74c84_row122_col0, #T_74c84_row122_col1, #T_74c84_row122_col2, #T_74c84_row123_col0, #T_74c84_row123_col1, #T_74c84_row123_col2, #T_74c84_row124_col0, #T_74c84_row124_col1, #T_74c84_row124_col2, #T_74c84_row125_col0, #T_74c84_row125_col1, #T_74c84_row125_col2, #T_74c84_row126_col0, #T_74c84_row126_col1, #T_74c84_row126_col2, #T_74c84_row127_col0, #T_74c84_row127_col1, #T_74c84_row127_col2, #T_74c84_row128_col0, #T_74c84_row128_col1, #T_74c84_row128_col2, #T_74c84_row129_col0, #T_74c84_row129_col1, #T_74c84_row129_col2, #T_74c84_row130_col0, #T_74c84_row130_col1, #T_74c84_row130_col2, #T_74c84_row131_col0, #T_74c84_row131_col1, #T_74c84_row131_col2, #T_74c84_row132_col0, #T_74c84_row132_col1, #T_74c84_row132_col2, #T_74c84_row133_col0, #T_74c84_row133_col1, #T_74c84_row133_col2, #T_74c84_row134_col0, #T_74c84_row134_col1, #T_74c84_row134_col2, #T_74c84_row135_col0, #T_74c84_row135_col1, #T_74c84_row135_col2, #T_74c84_row136_col0, #T_74c84_row136_col1, #T_74c84_row136_col2, #T_74c84_row137_col0, #T_74c84_row137_col1, #T_74c84_row137_col2, #T_74c84_row138_col0, #T_74c84_row138_col1, #T_74c84_row138_col2, #T_74c84_row139_col0, #T_74c84_row139_col1, #T_74c84_row139_col2, #T_74c84_row140_col0, #T_74c84_row140_col1, #T_74c84_row140_col2, #T_74c84_row141_col0, #T_74c84_row141_col1, #T_74c84_row141_col2, #T_74c84_row142_col0, #T_74c84_row142_col1, #T_74c84_row142_col2, #T_74c84_row143_col0, #T_74c84_row143_col1, #T_74c84_row143_col2, #T_74c84_row144_col0, #T_74c84_row144_col1, #T_74c84_row144_col2, #T_74c84_row145_col0, #T_74c84_row145_col1, #T_74c84_row145_col2, #T_74c84_row146_col0, #T_74c84_row146_col1, #T_74c84_row146_col2, #T_74c84_row147_col0, #T_74c84_row147_col1, #T_74c84_row147_col2, #T_74c84_row148_col0, #T_74c84_row148_col1, #T_74c84_row148_col2, #T_74c84_row149_col0, #T_74c84_row149_col1, #T_74c84_row149_col2, #T_74c84_row150_col0, #T_74c84_row150_col1, #T_74c84_row150_col2, #T_74c84_row151_col0, #T_74c84_row151_col1, #T_74c84_row151_col2, #T_74c84_row152_col0, #T_74c84_row152_col1, #T_74c84_row152_col2, #T_74c84_row153_col0, #T_74c84_row153_col1, #T_74c84_row153_col2, #T_74c84_row154_col0, #T_74c84_row154_col1, #T_74c84_row154_col2, #T_74c84_row155_col0, #T_74c84_row155_col1, #T_74c84_row155_col2, #T_74c84_row156_col0, #T_74c84_row156_col1, #T_74c84_row156_col2, #T_74c84_row157_col0, #T_74c84_row157_col1, #T_74c84_row157_col2, #T_74c84_row158_col0, #T_74c84_row158_col1, #T_74c84_row158_col2, #T_74c84_row159_col0, #T_74c84_row159_col1, #T_74c84_row159_col2, #T_74c84_row160_col0, #T_74c84_row160_col1, #T_74c84_row160_col2, #T_74c84_row161_col0, #T_74c84_row161_col1, #T_74c84_row161_col2, #T_74c84_row162_col0, #T_74c84_row162_col1, #T_74c84_row162_col2, #T_74c84_row163_col0, #T_74c84_row163_col1, #T_74c84_row163_col2, #T_74c84_row164_col0, #T_74c84_row164_col1, #T_74c84_row164_col2, #T_74c84_row165_col0, #T_74c84_row165_col1, #T_74c84_row165_col2, #T_74c84_row166_col0, #T_74c84_row166_col1, #T_74c84_row166_col2, #T_74c84_row167_col0, #T_74c84_row167_col1, #T_74c84_row167_col2, #T_74c84_row168_col0, #T_74c84_row168_col1, #T_74c84_row168_col2, #T_74c84_row169_col0, #T_74c84_row169_col1, #T_74c84_row169_col2, #T_74c84_row170_col0, #T_74c84_row170_col1, #T_74c84_row170_col2, #T_74c84_row171_col0, #T_74c84_row171_col1, #T_74c84_row171_col2, #T_74c84_row172_col0, #T_74c84_row172_col1, #T_74c84_row172_col2, #T_74c84_row173_col0, #T_74c84_row173_col1, #T_74c84_row173_col2, #T_74c84_row174_col0, #T_74c84_row174_col1, #T_74c84_row174_col2, #T_74c84_row175_col0, #T_74c84_row175_col1, #T_74c84_row175_col2, #T_74c84_row176_col0, #T_74c84_row176_col1, #T_74c84_row176_col2, #T_74c84_row177_col0, #T_74c84_row177_col1, #T_74c84_row177_col2 {\n",
       "  text-align: center;\n",
       "}\n",
       "</style>\n",
       "<table id=\"T_74c84\">\n",
       "  <thead>\n",
       "    <tr>\n",
       "      <th class=\"blank level0\" >&nbsp;</th>\n",
       "      <th id=\"T_74c84_level0_col0\" class=\"col_heading level0 col0\" >Count</th>\n",
       "      <th id=\"T_74c84_level0_col1\" class=\"col_heading level0 col1\" >Percentage</th>\n",
       "      <th id=\"T_74c84_level0_col2\" class=\"col_heading level0 col2\" >ABC Rank</th>\n",
       "    </tr>\n",
       "    <tr>\n",
       "      <th class=\"index_name level0\" >restaurant_name</th>\n",
       "      <th class=\"blank col0\" >&nbsp;</th>\n",
       "      <th class=\"blank col1\" >&nbsp;</th>\n",
       "      <th class=\"blank col2\" >&nbsp;</th>\n",
       "    </tr>\n",
       "  </thead>\n",
       "  <tbody>\n",
       "    <tr>\n",
       "      <th id=\"T_74c84_level0_row0\" class=\"row_heading level0 row0\" >Shake Shack</th>\n",
       "      <td id=\"T_74c84_row0_col0\" class=\"data row0 col0\" >219</td>\n",
       "      <td id=\"T_74c84_row0_col1\" class=\"data row0 col1\" >11.54%</td>\n",
       "      <td id=\"T_74c84_row0_col2\" class=\"data row0 col2\" >A</td>\n",
       "    </tr>\n",
       "    <tr>\n",
       "      <th id=\"T_74c84_level0_row1\" class=\"row_heading level0 row1\" >The Meatball Shop</th>\n",
       "      <td id=\"T_74c84_row1_col0\" class=\"data row1 col0\" >132</td>\n",
       "      <td id=\"T_74c84_row1_col1\" class=\"data row1 col1\" >6.95%</td>\n",
       "      <td id=\"T_74c84_row1_col2\" class=\"data row1 col2\" >A</td>\n",
       "    </tr>\n",
       "    <tr>\n",
       "      <th id=\"T_74c84_level0_row2\" class=\"row_heading level0 row2\" >Blue Ribbon Sushi</th>\n",
       "      <td id=\"T_74c84_row2_col0\" class=\"data row2 col0\" >119</td>\n",
       "      <td id=\"T_74c84_row2_col1\" class=\"data row2 col1\" >6.27%</td>\n",
       "      <td id=\"T_74c84_row2_col2\" class=\"data row2 col2\" >A</td>\n",
       "    </tr>\n",
       "    <tr>\n",
       "      <th id=\"T_74c84_level0_row3\" class=\"row_heading level0 row3\" >Blue Ribbon Fried Chicken</th>\n",
       "      <td id=\"T_74c84_row3_col0\" class=\"data row3 col0\" >96</td>\n",
       "      <td id=\"T_74c84_row3_col1\" class=\"data row3 col1\" >5.06%</td>\n",
       "      <td id=\"T_74c84_row3_col2\" class=\"data row3 col2\" >A</td>\n",
       "    </tr>\n",
       "    <tr>\n",
       "      <th id=\"T_74c84_level0_row4\" class=\"row_heading level0 row4\" >Parm</th>\n",
       "      <td id=\"T_74c84_row4_col0\" class=\"data row4 col0\" >68</td>\n",
       "      <td id=\"T_74c84_row4_col1\" class=\"data row4 col1\" >3.58%</td>\n",
       "      <td id=\"T_74c84_row4_col2\" class=\"data row4 col2\" >A</td>\n",
       "    </tr>\n",
       "    <tr>\n",
       "      <th id=\"T_74c84_level0_row5\" class=\"row_heading level0 row5\" >RedFarm Broadway</th>\n",
       "      <td id=\"T_74c84_row5_col0\" class=\"data row5 col0\" >59</td>\n",
       "      <td id=\"T_74c84_row5_col1\" class=\"data row5 col1\" >3.11%</td>\n",
       "      <td id=\"T_74c84_row5_col2\" class=\"data row5 col2\" >A</td>\n",
       "    </tr>\n",
       "    <tr>\n",
       "      <th id=\"T_74c84_level0_row6\" class=\"row_heading level0 row6\" >RedFarm Hudson</th>\n",
       "      <td id=\"T_74c84_row6_col0\" class=\"data row6 col0\" >55</td>\n",
       "      <td id=\"T_74c84_row6_col1\" class=\"data row6 col1\" >2.90%</td>\n",
       "      <td id=\"T_74c84_row6_col2\" class=\"data row6 col2\" >A</td>\n",
       "    </tr>\n",
       "    <tr>\n",
       "      <th id=\"T_74c84_level0_row7\" class=\"row_heading level0 row7\" >TAO</th>\n",
       "      <td id=\"T_74c84_row7_col0\" class=\"data row7 col0\" >49</td>\n",
       "      <td id=\"T_74c84_row7_col1\" class=\"data row7 col1\" >2.58%</td>\n",
       "      <td id=\"T_74c84_row7_col2\" class=\"data row7 col2\" >A</td>\n",
       "    </tr>\n",
       "    <tr>\n",
       "      <th id=\"T_74c84_level0_row8\" class=\"row_heading level0 row8\" >Han Dynasty</th>\n",
       "      <td id=\"T_74c84_row8_col0\" class=\"data row8 col0\" >46</td>\n",
       "      <td id=\"T_74c84_row8_col1\" class=\"data row8 col1\" >2.42%</td>\n",
       "      <td id=\"T_74c84_row8_col2\" class=\"data row8 col2\" >A</td>\n",
       "    </tr>\n",
       "    <tr>\n",
       "      <th id=\"T_74c84_level0_row9\" class=\"row_heading level0 row9\" >Blue Ribbon Sushi Bar & Grill</th>\n",
       "      <td id=\"T_74c84_row9_col0\" class=\"data row9 col0\" >44</td>\n",
       "      <td id=\"T_74c84_row9_col1\" class=\"data row9 col1\" >2.32%</td>\n",
       "      <td id=\"T_74c84_row9_col2\" class=\"data row9 col2\" >B</td>\n",
       "    </tr>\n",
       "    <tr>\n",
       "      <th id=\"T_74c84_level0_row10\" class=\"row_heading level0 row10\" >Nobu Next Door</th>\n",
       "      <td id=\"T_74c84_row10_col0\" class=\"data row10 col0\" >42</td>\n",
       "      <td id=\"T_74c84_row10_col1\" class=\"data row10 col1\" >2.21%</td>\n",
       "      <td id=\"T_74c84_row10_col2\" class=\"data row10 col2\" >B</td>\n",
       "    </tr>\n",
       "    <tr>\n",
       "      <th id=\"T_74c84_level0_row11\" class=\"row_heading level0 row11\" >Rubirosa</th>\n",
       "      <td id=\"T_74c84_row11_col0\" class=\"data row11 col0\" >37</td>\n",
       "      <td id=\"T_74c84_row11_col1\" class=\"data row11 col1\" >1.95%</td>\n",
       "      <td id=\"T_74c84_row11_col2\" class=\"data row11 col2\" >B</td>\n",
       "    </tr>\n",
       "    <tr>\n",
       "      <th id=\"T_74c84_level0_row12\" class=\"row_heading level0 row12\" >Sushi of Gari 46</th>\n",
       "      <td id=\"T_74c84_row12_col0\" class=\"data row12 col0\" >37</td>\n",
       "      <td id=\"T_74c84_row12_col1\" class=\"data row12 col1\" >1.95%</td>\n",
       "      <td id=\"T_74c84_row12_col2\" class=\"data row12 col2\" >B</td>\n",
       "    </tr>\n",
       "    <tr>\n",
       "      <th id=\"T_74c84_level0_row13\" class=\"row_heading level0 row13\" >Momoya</th>\n",
       "      <td id=\"T_74c84_row13_col0\" class=\"data row13 col0\" >30</td>\n",
       "      <td id=\"T_74c84_row13_col1\" class=\"data row13 col1\" >1.58%</td>\n",
       "      <td id=\"T_74c84_row13_col2\" class=\"data row13 col2\" >B</td>\n",
       "    </tr>\n",
       "    <tr>\n",
       "      <th id=\"T_74c84_level0_row14\" class=\"row_heading level0 row14\" >Five Guys Burgers and Fries</th>\n",
       "      <td id=\"T_74c84_row14_col0\" class=\"data row14 col0\" >29</td>\n",
       "      <td id=\"T_74c84_row14_col1\" class=\"data row14 col1\" >1.53%</td>\n",
       "      <td id=\"T_74c84_row14_col2\" class=\"data row14 col2\" >B</td>\n",
       "    </tr>\n",
       "    <tr>\n",
       "      <th id=\"T_74c84_level0_row15\" class=\"row_heading level0 row15\" >Blue Ribbon Sushi Izakaya</th>\n",
       "      <td id=\"T_74c84_row15_col0\" class=\"data row15 col0\" >29</td>\n",
       "      <td id=\"T_74c84_row15_col1\" class=\"data row15 col1\" >1.53%</td>\n",
       "      <td id=\"T_74c84_row15_col2\" class=\"data row15 col2\" >B</td>\n",
       "    </tr>\n",
       "    <tr>\n",
       "      <th id=\"T_74c84_level0_row16\" class=\"row_heading level0 row16\" >Bareburger</th>\n",
       "      <td id=\"T_74c84_row16_col0\" class=\"data row16 col0\" >27</td>\n",
       "      <td id=\"T_74c84_row16_col1\" class=\"data row16 col1\" >1.42%</td>\n",
       "      <td id=\"T_74c84_row16_col2\" class=\"data row16 col2\" >B</td>\n",
       "    </tr>\n",
       "    <tr>\n",
       "      <th id=\"T_74c84_level0_row17\" class=\"row_heading level0 row17\" >Tamarind TriBeCa</th>\n",
       "      <td id=\"T_74c84_row17_col0\" class=\"data row17 col0\" >27</td>\n",
       "      <td id=\"T_74c84_row17_col1\" class=\"data row17 col1\" >1.42%</td>\n",
       "      <td id=\"T_74c84_row17_col2\" class=\"data row17 col2\" >B</td>\n",
       "    </tr>\n",
       "    <tr>\n",
       "      <th id=\"T_74c84_level0_row18\" class=\"row_heading level0 row18\" >Jack's Wife Freda</th>\n",
       "      <td id=\"T_74c84_row18_col0\" class=\"data row18 col0\" >25</td>\n",
       "      <td id=\"T_74c84_row18_col1\" class=\"data row18 col1\" >1.32%</td>\n",
       "      <td id=\"T_74c84_row18_col2\" class=\"data row18 col2\" >B</td>\n",
       "    </tr>\n",
       "    <tr>\n",
       "      <th id=\"T_74c84_level0_row19\" class=\"row_heading level0 row19\" >Sushi of Gari Tribeca</th>\n",
       "      <td id=\"T_74c84_row19_col0\" class=\"data row19 col0\" >24</td>\n",
       "      <td id=\"T_74c84_row19_col1\" class=\"data row19 col1\" >1.26%</td>\n",
       "      <td id=\"T_74c84_row19_col2\" class=\"data row19 col2\" >B</td>\n",
       "    </tr>\n",
       "    <tr>\n",
       "      <th id=\"T_74c84_level0_row20\" class=\"row_heading level0 row20\" >Chipotle Mexican Grill $1.99 Delivery</th>\n",
       "      <td id=\"T_74c84_row20_col0\" class=\"data row20 col0\" >23</td>\n",
       "      <td id=\"T_74c84_row20_col1\" class=\"data row20 col1\" >1.21%</td>\n",
       "      <td id=\"T_74c84_row20_col2\" class=\"data row20 col2\" >B</td>\n",
       "    </tr>\n",
       "    <tr>\n",
       "      <th id=\"T_74c84_level0_row21\" class=\"row_heading level0 row21\" >The Smile</th>\n",
       "      <td id=\"T_74c84_row21_col0\" class=\"data row21 col0\" >18</td>\n",
       "      <td id=\"T_74c84_row21_col1\" class=\"data row21 col1\" >0.95%</td>\n",
       "      <td id=\"T_74c84_row21_col2\" class=\"data row21 col2\" >B</td>\n",
       "    </tr>\n",
       "    <tr>\n",
       "      <th id=\"T_74c84_level0_row22\" class=\"row_heading level0 row22\" >ilili Restaurant</th>\n",
       "      <td id=\"T_74c84_row22_col0\" class=\"data row22 col0\" >18</td>\n",
       "      <td id=\"T_74c84_row22_col1\" class=\"data row22 col1\" >0.95%</td>\n",
       "      <td id=\"T_74c84_row22_col2\" class=\"data row22 col2\" >B</td>\n",
       "    </tr>\n",
       "    <tr>\n",
       "      <th id=\"T_74c84_level0_row23\" class=\"row_heading level0 row23\" >Cafe Mogador</th>\n",
       "      <td id=\"T_74c84_row23_col0\" class=\"data row23 col0\" >18</td>\n",
       "      <td id=\"T_74c84_row23_col1\" class=\"data row23 col1\" >0.95%</td>\n",
       "      <td id=\"T_74c84_row23_col2\" class=\"data row23 col2\" >B</td>\n",
       "    </tr>\n",
       "    <tr>\n",
       "      <th id=\"T_74c84_level0_row24\" class=\"row_heading level0 row24\" >Yama Japanese Restaurant</th>\n",
       "      <td id=\"T_74c84_row24_col0\" class=\"data row24 col0\" >18</td>\n",
       "      <td id=\"T_74c84_row24_col1\" class=\"data row24 col1\" >0.95%</td>\n",
       "      <td id=\"T_74c84_row24_col2\" class=\"data row24 col2\" >B</td>\n",
       "    </tr>\n",
       "    <tr>\n",
       "      <th id=\"T_74c84_level0_row25\" class=\"row_heading level0 row25\" >The Kati Roll Company</th>\n",
       "      <td id=\"T_74c84_row25_col0\" class=\"data row25 col0\" >16</td>\n",
       "      <td id=\"T_74c84_row25_col1\" class=\"data row25 col1\" >0.84%</td>\n",
       "      <td id=\"T_74c84_row25_col2\" class=\"data row25 col2\" >B</td>\n",
       "    </tr>\n",
       "    <tr>\n",
       "      <th id=\"T_74c84_level0_row26\" class=\"row_heading level0 row26\" >Sushi of Gari</th>\n",
       "      <td id=\"T_74c84_row26_col0\" class=\"data row26 col0\" >16</td>\n",
       "      <td id=\"T_74c84_row26_col1\" class=\"data row26 col1\" >0.84%</td>\n",
       "      <td id=\"T_74c84_row26_col2\" class=\"data row26 col2\" >B</td>\n",
       "    </tr>\n",
       "    <tr>\n",
       "      <th id=\"T_74c84_level0_row27\" class=\"row_heading level0 row27\" >Cafe Habana</th>\n",
       "      <td id=\"T_74c84_row27_col0\" class=\"data row27 col0\" >16</td>\n",
       "      <td id=\"T_74c84_row27_col1\" class=\"data row27 col1\" >0.84%</td>\n",
       "      <td id=\"T_74c84_row27_col2\" class=\"data row27 col2\" >B</td>\n",
       "    </tr>\n",
       "    <tr>\n",
       "      <th id=\"T_74c84_level0_row28\" class=\"row_heading level0 row28\" >P.J. Clarke's</th>\n",
       "      <td id=\"T_74c84_row28_col0\" class=\"data row28 col0\" >15</td>\n",
       "      <td id=\"T_74c84_row28_col1\" class=\"data row28 col1\" >0.79%</td>\n",
       "      <td id=\"T_74c84_row28_col2\" class=\"data row28 col2\" >B</td>\n",
       "    </tr>\n",
       "    <tr>\n",
       "      <th id=\"T_74c84_level0_row29\" class=\"row_heading level0 row29\" >J. G. Melon</th>\n",
       "      <td id=\"T_74c84_row29_col0\" class=\"data row29 col0\" >15</td>\n",
       "      <td id=\"T_74c84_row29_col1\" class=\"data row29 col1\" >0.79%</td>\n",
       "      <td id=\"T_74c84_row29_col2\" class=\"data row29 col2\" >B</td>\n",
       "    </tr>\n",
       "    <tr>\n",
       "      <th id=\"T_74c84_level0_row30\" class=\"row_heading level0 row30\" >Westville Hudson</th>\n",
       "      <td id=\"T_74c84_row30_col0\" class=\"data row30 col0\" >15</td>\n",
       "      <td id=\"T_74c84_row30_col1\" class=\"data row30 col1\" >0.79%</td>\n",
       "      <td id=\"T_74c84_row30_col2\" class=\"data row30 col2\" >B</td>\n",
       "    </tr>\n",
       "    <tr>\n",
       "      <th id=\"T_74c84_level0_row31\" class=\"row_heading level0 row31\" >Osteria Morini</th>\n",
       "      <td id=\"T_74c84_row31_col0\" class=\"data row31 col0\" >14</td>\n",
       "      <td id=\"T_74c84_row31_col1\" class=\"data row31 col1\" >0.74%</td>\n",
       "      <td id=\"T_74c84_row31_col2\" class=\"data row31 col2\" >B</td>\n",
       "    </tr>\n",
       "    <tr>\n",
       "      <th id=\"T_74c84_level0_row32\" class=\"row_heading level0 row32\" >Hill Country Fried Chicken</th>\n",
       "      <td id=\"T_74c84_row32_col0\" class=\"data row32 col0\" >14</td>\n",
       "      <td id=\"T_74c84_row32_col1\" class=\"data row32 col1\" >0.74%</td>\n",
       "      <td id=\"T_74c84_row32_col2\" class=\"data row32 col2\" >B</td>\n",
       "    </tr>\n",
       "    <tr>\n",
       "      <th id=\"T_74c84_level0_row33\" class=\"row_heading level0 row33\" >Empanada Mama (closed)</th>\n",
       "      <td id=\"T_74c84_row33_col0\" class=\"data row33 col0\" >13</td>\n",
       "      <td id=\"T_74c84_row33_col1\" class=\"data row33 col1\" >0.68%</td>\n",
       "      <td id=\"T_74c84_row33_col2\" class=\"data row33 col2\" >B</td>\n",
       "    </tr>\n",
       "    <tr>\n",
       "      <th id=\"T_74c84_level0_row34\" class=\"row_heading level0 row34\" >Vanessa's Dumplings</th>\n",
       "      <td id=\"T_74c84_row34_col0\" class=\"data row34 col0\" >13</td>\n",
       "      <td id=\"T_74c84_row34_col1\" class=\"data row34 col1\" >0.68%</td>\n",
       "      <td id=\"T_74c84_row34_col2\" class=\"data row34 col2\" >B</td>\n",
       "    </tr>\n",
       "    <tr>\n",
       "      <th id=\"T_74c84_level0_row35\" class=\"row_heading level0 row35\" >Burger Joint</th>\n",
       "      <td id=\"T_74c84_row35_col0\" class=\"data row35 col0\" >12</td>\n",
       "      <td id=\"T_74c84_row35_col1\" class=\"data row35 col1\" >0.63%</td>\n",
       "      <td id=\"T_74c84_row35_col2\" class=\"data row35 col2\" >C</td>\n",
       "    </tr>\n",
       "    <tr>\n",
       "      <th id=\"T_74c84_level0_row36\" class=\"row_heading level0 row36\" >S'MAC</th>\n",
       "      <td id=\"T_74c84_row36_col0\" class=\"data row36 col0\" >12</td>\n",
       "      <td id=\"T_74c84_row36_col1\" class=\"data row36 col1\" >0.63%</td>\n",
       "      <td id=\"T_74c84_row36_col2\" class=\"data row36 col2\" >C</td>\n",
       "    </tr>\n",
       "    <tr>\n",
       "      <th id=\"T_74c84_level0_row37\" class=\"row_heading level0 row37\" >Otto Enoteca Pizzeria</th>\n",
       "      <td id=\"T_74c84_row37_col0\" class=\"data row37 col0\" >12</td>\n",
       "      <td id=\"T_74c84_row37_col1\" class=\"data row37 col1\" >0.63%</td>\n",
       "      <td id=\"T_74c84_row37_col2\" class=\"data row37 col2\" >C</td>\n",
       "    </tr>\n",
       "    <tr>\n",
       "      <th id=\"T_74c84_level0_row38\" class=\"row_heading level0 row38\" >Melt Shop</th>\n",
       "      <td id=\"T_74c84_row38_col0\" class=\"data row38 col0\" >11</td>\n",
       "      <td id=\"T_74c84_row38_col1\" class=\"data row38 col1\" >0.58%</td>\n",
       "      <td id=\"T_74c84_row38_col2\" class=\"data row38 col2\" >C</td>\n",
       "    </tr>\n",
       "    <tr>\n",
       "      <th id=\"T_74c84_level0_row39\" class=\"row_heading level0 row39\" >Sushi Samba</th>\n",
       "      <td id=\"T_74c84_row39_col0\" class=\"data row39 col0\" >11</td>\n",
       "      <td id=\"T_74c84_row39_col1\" class=\"data row39 col1\" >0.58%</td>\n",
       "      <td id=\"T_74c84_row39_col2\" class=\"data row39 col2\" >C</td>\n",
       "    </tr>\n",
       "    <tr>\n",
       "      <th id=\"T_74c84_level0_row40\" class=\"row_heading level0 row40\" >Balthazar Boulangerie</th>\n",
       "      <td id=\"T_74c84_row40_col0\" class=\"data row40 col0\" >10</td>\n",
       "      <td id=\"T_74c84_row40_col1\" class=\"data row40 col1\" >0.53%</td>\n",
       "      <td id=\"T_74c84_row40_col2\" class=\"data row40 col2\" >C</td>\n",
       "    </tr>\n",
       "    <tr>\n",
       "      <th id=\"T_74c84_level0_row41\" class=\"row_heading level0 row41\" >Boqueria</th>\n",
       "      <td id=\"T_74c84_row41_col0\" class=\"data row41 col0\" >9</td>\n",
       "      <td id=\"T_74c84_row41_col1\" class=\"data row41 col1\" >0.47%</td>\n",
       "      <td id=\"T_74c84_row41_col2\" class=\"data row41 col2\" >C</td>\n",
       "    </tr>\n",
       "    <tr>\n",
       "      <th id=\"T_74c84_level0_row42\" class=\"row_heading level0 row42\" >Vanessa's Dumpling House</th>\n",
       "      <td id=\"T_74c84_row42_col0\" class=\"data row42 col0\" >9</td>\n",
       "      <td id=\"T_74c84_row42_col1\" class=\"data row42 col1\" >0.47%</td>\n",
       "      <td id=\"T_74c84_row42_col2\" class=\"data row42 col2\" >C</td>\n",
       "    </tr>\n",
       "    <tr>\n",
       "      <th id=\"T_74c84_level0_row43\" class=\"row_heading level0 row43\" >Cafeteria</th>\n",
       "      <td id=\"T_74c84_row43_col0\" class=\"data row43 col0\" >9</td>\n",
       "      <td id=\"T_74c84_row43_col1\" class=\"data row43 col1\" >0.47%</td>\n",
       "      <td id=\"T_74c84_row43_col2\" class=\"data row43 col2\" >C</td>\n",
       "    </tr>\n",
       "    <tr>\n",
       "      <th id=\"T_74c84_level0_row44\" class=\"row_heading level0 row44\" >Xi'an Famous Foods</th>\n",
       "      <td id=\"T_74c84_row44_col0\" class=\"data row44 col0\" >9</td>\n",
       "      <td id=\"T_74c84_row44_col1\" class=\"data row44 col1\" >0.47%</td>\n",
       "      <td id=\"T_74c84_row44_col2\" class=\"data row44 col2\" >C</td>\n",
       "    </tr>\n",
       "    <tr>\n",
       "      <th id=\"T_74c84_level0_row45\" class=\"row_heading level0 row45\" >Dos Caminos</th>\n",
       "      <td id=\"T_74c84_row45_col0\" class=\"data row45 col0\" >8</td>\n",
       "      <td id=\"T_74c84_row45_col1\" class=\"data row45 col1\" >0.42%</td>\n",
       "      <td id=\"T_74c84_row45_col2\" class=\"data row45 col2\" >C</td>\n",
       "    </tr>\n",
       "    <tr>\n",
       "      <th id=\"T_74c84_level0_row46\" class=\"row_heading level0 row46\" >Waverly Diner</th>\n",
       "      <td id=\"T_74c84_row46_col0\" class=\"data row46 col0\" >7</td>\n",
       "      <td id=\"T_74c84_row46_col1\" class=\"data row46 col1\" >0.37%</td>\n",
       "      <td id=\"T_74c84_row46_col2\" class=\"data row46 col2\" >C</td>\n",
       "    </tr>\n",
       "    <tr>\n",
       "      <th id=\"T_74c84_level0_row47\" class=\"row_heading level0 row47\" >Sarabeth's Restaurant</th>\n",
       "      <td id=\"T_74c84_row47_col0\" class=\"data row47 col0\" >7</td>\n",
       "      <td id=\"T_74c84_row47_col1\" class=\"data row47 col1\" >0.37%</td>\n",
       "      <td id=\"T_74c84_row47_col2\" class=\"data row47 col2\" >C</td>\n",
       "    </tr>\n",
       "    <tr>\n",
       "      <th id=\"T_74c84_level0_row48\" class=\"row_heading level0 row48\" >Sarabeth's East</th>\n",
       "      <td id=\"T_74c84_row48_col0\" class=\"data row48 col0\" >7</td>\n",
       "      <td id=\"T_74c84_row48_col1\" class=\"data row48 col1\" >0.37%</td>\n",
       "      <td id=\"T_74c84_row48_col2\" class=\"data row48 col2\" >C</td>\n",
       "    </tr>\n",
       "    <tr>\n",
       "      <th id=\"T_74c84_level0_row49\" class=\"row_heading level0 row49\" >Pepe Rosso To Go</th>\n",
       "      <td id=\"T_74c84_row49_col0\" class=\"data row49 col0\" >7</td>\n",
       "      <td id=\"T_74c84_row49_col1\" class=\"data row49 col1\" >0.37%</td>\n",
       "      <td id=\"T_74c84_row49_col2\" class=\"data row49 col2\" >C</td>\n",
       "    </tr>\n",
       "    <tr>\n",
       "      <th id=\"T_74c84_level0_row50\" class=\"row_heading level0 row50\" >Mamoun's Falafel</th>\n",
       "      <td id=\"T_74c84_row50_col0\" class=\"data row50 col0\" >7</td>\n",
       "      <td id=\"T_74c84_row50_col1\" class=\"data row50 col1\" >0.37%</td>\n",
       "      <td id=\"T_74c84_row50_col2\" class=\"data row50 col2\" >C</td>\n",
       "    </tr>\n",
       "    <tr>\n",
       "      <th id=\"T_74c84_level0_row51\" class=\"row_heading level0 row51\" >Donburi-ya</th>\n",
       "      <td id=\"T_74c84_row51_col0\" class=\"data row51 col0\" >7</td>\n",
       "      <td id=\"T_74c84_row51_col1\" class=\"data row51 col1\" >0.37%</td>\n",
       "      <td id=\"T_74c84_row51_col2\" class=\"data row51 col2\" >C</td>\n",
       "    </tr>\n",
       "    <tr>\n",
       "      <th id=\"T_74c84_level0_row52\" class=\"row_heading level0 row52\" >Cho Dang Gol</th>\n",
       "      <td id=\"T_74c84_row52_col0\" class=\"data row52 col0\" >6</td>\n",
       "      <td id=\"T_74c84_row52_col1\" class=\"data row52 col1\" >0.32%</td>\n",
       "      <td id=\"T_74c84_row52_col2\" class=\"data row52 col2\" >C</td>\n",
       "    </tr>\n",
       "    <tr>\n",
       "      <th id=\"T_74c84_level0_row53\" class=\"row_heading level0 row53\" >CafÌ© China</th>\n",
       "      <td id=\"T_74c84_row53_col0\" class=\"data row53 col0\" >6</td>\n",
       "      <td id=\"T_74c84_row53_col1\" class=\"data row53 col1\" >0.32%</td>\n",
       "      <td id=\"T_74c84_row53_col2\" class=\"data row53 col2\" >C</td>\n",
       "    </tr>\n",
       "    <tr>\n",
       "      <th id=\"T_74c84_level0_row54\" class=\"row_heading level0 row54\" >Hatsuhana</th>\n",
       "      <td id=\"T_74c84_row54_col0\" class=\"data row54 col0\" >6</td>\n",
       "      <td id=\"T_74c84_row54_col1\" class=\"data row54 col1\" >0.32%</td>\n",
       "      <td id=\"T_74c84_row54_col2\" class=\"data row54 col2\" >C</td>\n",
       "    </tr>\n",
       "    <tr>\n",
       "      <th id=\"T_74c84_level0_row55\" class=\"row_heading level0 row55\" >L'Express</th>\n",
       "      <td id=\"T_74c84_row55_col0\" class=\"data row55 col0\" >6</td>\n",
       "      <td id=\"T_74c84_row55_col1\" class=\"data row55 col1\" >0.32%</td>\n",
       "      <td id=\"T_74c84_row55_col2\" class=\"data row55 col2\" >C</td>\n",
       "    </tr>\n",
       "    <tr>\n",
       "      <th id=\"T_74c84_level0_row56\" class=\"row_heading level0 row56\" >Barbounia</th>\n",
       "      <td id=\"T_74c84_row56_col0\" class=\"data row56 col0\" >6</td>\n",
       "      <td id=\"T_74c84_row56_col1\" class=\"data row56 col1\" >0.32%</td>\n",
       "      <td id=\"T_74c84_row56_col2\" class=\"data row56 col2\" >C</td>\n",
       "    </tr>\n",
       "    <tr>\n",
       "      <th id=\"T_74c84_level0_row57\" class=\"row_heading level0 row57\" >Lucky's Famous Burgers</th>\n",
       "      <td id=\"T_74c84_row57_col0\" class=\"data row57 col0\" >6</td>\n",
       "      <td id=\"T_74c84_row57_col1\" class=\"data row57 col1\" >0.32%</td>\n",
       "      <td id=\"T_74c84_row57_col2\" class=\"data row57 col2\" >C</td>\n",
       "    </tr>\n",
       "    <tr>\n",
       "      <th id=\"T_74c84_level0_row58\" class=\"row_heading level0 row58\" >Saravanaa Bhavan</th>\n",
       "      <td id=\"T_74c84_row58_col0\" class=\"data row58 col0\" >5</td>\n",
       "      <td id=\"T_74c84_row58_col1\" class=\"data row58 col1\" >0.26%</td>\n",
       "      <td id=\"T_74c84_row58_col2\" class=\"data row58 col2\" >C</td>\n",
       "    </tr>\n",
       "    <tr>\n",
       "      <th id=\"T_74c84_level0_row59\" class=\"row_heading level0 row59\" >Mission Cantina</th>\n",
       "      <td id=\"T_74c84_row59_col0\" class=\"data row59 col0\" >5</td>\n",
       "      <td id=\"T_74c84_row59_col1\" class=\"data row59 col1\" >0.26%</td>\n",
       "      <td id=\"T_74c84_row59_col2\" class=\"data row59 col2\" >C</td>\n",
       "    </tr>\n",
       "    <tr>\n",
       "      <th id=\"T_74c84_level0_row60\" class=\"row_heading level0 row60\" >5 Napkin Burger</th>\n",
       "      <td id=\"T_74c84_row60_col0\" class=\"data row60 col0\" >5</td>\n",
       "      <td id=\"T_74c84_row60_col1\" class=\"data row60 col1\" >0.26%</td>\n",
       "      <td id=\"T_74c84_row60_col2\" class=\"data row60 col2\" >C</td>\n",
       "    </tr>\n",
       "    <tr>\n",
       "      <th id=\"T_74c84_level0_row61\" class=\"row_heading level0 row61\" >Tony's Di Napoli</th>\n",
       "      <td id=\"T_74c84_row61_col0\" class=\"data row61 col0\" >5</td>\n",
       "      <td id=\"T_74c84_row61_col1\" class=\"data row61 col1\" >0.26%</td>\n",
       "      <td id=\"T_74c84_row61_col2\" class=\"data row61 col2\" >C</td>\n",
       "    </tr>\n",
       "    <tr>\n",
       "      <th id=\"T_74c84_level0_row62\" class=\"row_heading level0 row62\" >Benihana</th>\n",
       "      <td id=\"T_74c84_row62_col0\" class=\"data row62 col0\" >5</td>\n",
       "      <td id=\"T_74c84_row62_col1\" class=\"data row62 col1\" >0.26%</td>\n",
       "      <td id=\"T_74c84_row62_col2\" class=\"data row62 col2\" >C</td>\n",
       "    </tr>\n",
       "    <tr>\n",
       "      <th id=\"T_74c84_level0_row63\" class=\"row_heading level0 row63\" >Junoon</th>\n",
       "      <td id=\"T_74c84_row63_col0\" class=\"data row63 col0\" >5</td>\n",
       "      <td id=\"T_74c84_row63_col1\" class=\"data row63 col1\" >0.26%</td>\n",
       "      <td id=\"T_74c84_row63_col2\" class=\"data row63 col2\" >C</td>\n",
       "    </tr>\n",
       "    <tr>\n",
       "      <th id=\"T_74c84_level0_row64\" class=\"row_heading level0 row64\" >Pylos</th>\n",
       "      <td id=\"T_74c84_row64_col0\" class=\"data row64 col0\" >5</td>\n",
       "      <td id=\"T_74c84_row64_col1\" class=\"data row64 col1\" >0.26%</td>\n",
       "      <td id=\"T_74c84_row64_col2\" class=\"data row64 col2\" >C</td>\n",
       "    </tr>\n",
       "    <tr>\n",
       "      <th id=\"T_74c84_level0_row65\" class=\"row_heading level0 row65\" >Yama 49</th>\n",
       "      <td id=\"T_74c84_row65_col0\" class=\"data row65 col0\" >5</td>\n",
       "      <td id=\"T_74c84_row65_col1\" class=\"data row65 col1\" >0.26%</td>\n",
       "      <td id=\"T_74c84_row65_col2\" class=\"data row65 col2\" >C</td>\n",
       "    </tr>\n",
       "    <tr>\n",
       "      <th id=\"T_74c84_level0_row66\" class=\"row_heading level0 row66\" >Delicatessen</th>\n",
       "      <td id=\"T_74c84_row66_col0\" class=\"data row66 col0\" >5</td>\n",
       "      <td id=\"T_74c84_row66_col1\" class=\"data row66 col1\" >0.26%</td>\n",
       "      <td id=\"T_74c84_row66_col2\" class=\"data row66 col2\" >C</td>\n",
       "    </tr>\n",
       "    <tr>\n",
       "      <th id=\"T_74c84_level0_row67\" class=\"row_heading level0 row67\" >Serafina Fabulous Pizza</th>\n",
       "      <td id=\"T_74c84_row67_col0\" class=\"data row67 col0\" >5</td>\n",
       "      <td id=\"T_74c84_row67_col1\" class=\"data row67 col1\" >0.26%</td>\n",
       "      <td id=\"T_74c84_row67_col2\" class=\"data row67 col2\" >C</td>\n",
       "    </tr>\n",
       "    <tr>\n",
       "      <th id=\"T_74c84_level0_row68\" class=\"row_heading level0 row68\" >Vezzo Thin Crust Pizza</th>\n",
       "      <td id=\"T_74c84_row68_col0\" class=\"data row68 col0\" >5</td>\n",
       "      <td id=\"T_74c84_row68_col1\" class=\"data row68 col1\" >0.26%</td>\n",
       "      <td id=\"T_74c84_row68_col2\" class=\"data row68 col2\" >C</td>\n",
       "    </tr>\n",
       "    <tr>\n",
       "      <th id=\"T_74c84_level0_row69\" class=\"row_heading level0 row69\" >Amma</th>\n",
       "      <td id=\"T_74c84_row69_col0\" class=\"data row69 col0\" >4</td>\n",
       "      <td id=\"T_74c84_row69_col1\" class=\"data row69 col1\" >0.21%</td>\n",
       "      <td id=\"T_74c84_row69_col2\" class=\"data row69 col2\" >C</td>\n",
       "    </tr>\n",
       "    <tr>\n",
       "      <th id=\"T_74c84_level0_row70\" class=\"row_heading level0 row70\" >Lantern Thai Kitchen</th>\n",
       "      <td id=\"T_74c84_row70_col0\" class=\"data row70 col0\" >4</td>\n",
       "      <td id=\"T_74c84_row70_col1\" class=\"data row70 col1\" >0.21%</td>\n",
       "      <td id=\"T_74c84_row70_col2\" class=\"data row70 col2\" >C</td>\n",
       "    </tr>\n",
       "    <tr>\n",
       "      <th id=\"T_74c84_level0_row71\" class=\"row_heading level0 row71\" >V-Nam Cafe</th>\n",
       "      <td id=\"T_74c84_row71_col0\" class=\"data row71 col0\" >4</td>\n",
       "      <td id=\"T_74c84_row71_col1\" class=\"data row71 col1\" >0.21%</td>\n",
       "      <td id=\"T_74c84_row71_col2\" class=\"data row71 col2\" >C</td>\n",
       "    </tr>\n",
       "    <tr>\n",
       "      <th id=\"T_74c84_level0_row72\" class=\"row_heading level0 row72\" >Tortaria</th>\n",
       "      <td id=\"T_74c84_row72_col0\" class=\"data row72 col0\" >4</td>\n",
       "      <td id=\"T_74c84_row72_col1\" class=\"data row72 col1\" >0.21%</td>\n",
       "      <td id=\"T_74c84_row72_col2\" class=\"data row72 col2\" >C</td>\n",
       "    </tr>\n",
       "    <tr>\n",
       "      <th id=\"T_74c84_level0_row73\" class=\"row_heading level0 row73\" >Joe's Shanghai _Àü£¾÷´</th>\n",
       "      <td id=\"T_74c84_row73_col0\" class=\"data row73 col0\" >4</td>\n",
       "      <td id=\"T_74c84_row73_col1\" class=\"data row73 col1\" >0.21%</td>\n",
       "      <td id=\"T_74c84_row73_col2\" class=\"data row73 col2\" >C</td>\n",
       "    </tr>\n",
       "    <tr>\n",
       "      <th id=\"T_74c84_level0_row74\" class=\"row_heading level0 row74\" >indikitch</th>\n",
       "      <td id=\"T_74c84_row74_col0\" class=\"data row74 col0\" >4</td>\n",
       "      <td id=\"T_74c84_row74_col1\" class=\"data row74 col1\" >0.21%</td>\n",
       "      <td id=\"T_74c84_row74_col2\" class=\"data row74 col2\" >C</td>\n",
       "    </tr>\n",
       "    <tr>\n",
       "      <th id=\"T_74c84_level0_row75\" class=\"row_heading level0 row75\" >Blue Ribbon Brooklyn</th>\n",
       "      <td id=\"T_74c84_row75_col0\" class=\"data row75 col0\" >4</td>\n",
       "      <td id=\"T_74c84_row75_col1\" class=\"data row75 col1\" >0.21%</td>\n",
       "      <td id=\"T_74c84_row75_col2\" class=\"data row75 col2\" >C</td>\n",
       "    </tr>\n",
       "    <tr>\n",
       "      <th id=\"T_74c84_level0_row76\" class=\"row_heading level0 row76\" >12 Chairs</th>\n",
       "      <td id=\"T_74c84_row76_col0\" class=\"data row76 col0\" >4</td>\n",
       "      <td id=\"T_74c84_row76_col1\" class=\"data row76 col1\" >0.21%</td>\n",
       "      <td id=\"T_74c84_row76_col2\" class=\"data row76 col2\" >C</td>\n",
       "    </tr>\n",
       "    <tr>\n",
       "      <th id=\"T_74c84_level0_row77\" class=\"row_heading level0 row77\" >The Loop</th>\n",
       "      <td id=\"T_74c84_row77_col0\" class=\"data row77 col0\" >4</td>\n",
       "      <td id=\"T_74c84_row77_col1\" class=\"data row77 col1\" >0.21%</td>\n",
       "      <td id=\"T_74c84_row77_col2\" class=\"data row77 col2\" >C</td>\n",
       "    </tr>\n",
       "    <tr>\n",
       "      <th id=\"T_74c84_level0_row78\" class=\"row_heading level0 row78\" >Five Leaves</th>\n",
       "      <td id=\"T_74c84_row78_col0\" class=\"data row78 col0\" >4</td>\n",
       "      <td id=\"T_74c84_row78_col1\" class=\"data row78 col1\" >0.21%</td>\n",
       "      <td id=\"T_74c84_row78_col2\" class=\"data row78 col2\" >C</td>\n",
       "    </tr>\n",
       "    <tr>\n",
       "      <th id=\"T_74c84_level0_row79\" class=\"row_heading level0 row79\" >Dirty Bird to Go</th>\n",
       "      <td id=\"T_74c84_row79_col0\" class=\"data row79 col0\" >4</td>\n",
       "      <td id=\"T_74c84_row79_col1\" class=\"data row79 col1\" >0.21%</td>\n",
       "      <td id=\"T_74c84_row79_col2\" class=\"data row79 col2\" >C</td>\n",
       "    </tr>\n",
       "    <tr>\n",
       "      <th id=\"T_74c84_level0_row80\" class=\"row_heading level0 row80\" >Pinto Nouveau Thai Bistro</th>\n",
       "      <td id=\"T_74c84_row80_col0\" class=\"data row80 col0\" >4</td>\n",
       "      <td id=\"T_74c84_row80_col1\" class=\"data row80 col1\" >0.21%</td>\n",
       "      <td id=\"T_74c84_row80_col2\" class=\"data row80 col2\" >C</td>\n",
       "    </tr>\n",
       "    <tr>\n",
       "      <th id=\"T_74c84_level0_row81\" class=\"row_heading level0 row81\" >Grand Sichuan International</th>\n",
       "      <td id=\"T_74c84_row81_col0\" class=\"data row81 col0\" >4</td>\n",
       "      <td id=\"T_74c84_row81_col1\" class=\"data row81 col1\" >0.21%</td>\n",
       "      <td id=\"T_74c84_row81_col2\" class=\"data row81 col2\" >C</td>\n",
       "    </tr>\n",
       "    <tr>\n",
       "      <th id=\"T_74c84_level0_row82\" class=\"row_heading level0 row82\" >Friend of a Farmer</th>\n",
       "      <td id=\"T_74c84_row82_col0\" class=\"data row82 col0\" >3</td>\n",
       "      <td id=\"T_74c84_row82_col1\" class=\"data row82 col1\" >0.16%</td>\n",
       "      <td id=\"T_74c84_row82_col2\" class=\"data row82 col2\" >C</td>\n",
       "    </tr>\n",
       "    <tr>\n",
       "      <th id=\"T_74c84_level0_row83\" class=\"row_heading level0 row83\" >Room Service</th>\n",
       "      <td id=\"T_74c84_row83_col0\" class=\"data row83 col0\" >3</td>\n",
       "      <td id=\"T_74c84_row83_col1\" class=\"data row83 col1\" >0.16%</td>\n",
       "      <td id=\"T_74c84_row83_col2\" class=\"data row83 col2\" >C</td>\n",
       "    </tr>\n",
       "    <tr>\n",
       "      <th id=\"T_74c84_level0_row84\" class=\"row_heading level0 row84\" >Hummus Place</th>\n",
       "      <td id=\"T_74c84_row84_col0\" class=\"data row84 col0\" >3</td>\n",
       "      <td id=\"T_74c84_row84_col1\" class=\"data row84 col1\" >0.16%</td>\n",
       "      <td id=\"T_74c84_row84_col2\" class=\"data row84 col2\" >C</td>\n",
       "    </tr>\n",
       "    <tr>\n",
       "      <th id=\"T_74c84_level0_row85\" class=\"row_heading level0 row85\" >Ravagh Persian Grill</th>\n",
       "      <td id=\"T_74c84_row85_col0\" class=\"data row85 col0\" >3</td>\n",
       "      <td id=\"T_74c84_row85_col1\" class=\"data row85 col1\" >0.16%</td>\n",
       "      <td id=\"T_74c84_row85_col2\" class=\"data row85 col2\" >C</td>\n",
       "    </tr>\n",
       "    <tr>\n",
       "      <th id=\"T_74c84_level0_row86\" class=\"row_heading level0 row86\" >Sarabeth's</th>\n",
       "      <td id=\"T_74c84_row86_col0\" class=\"data row86 col0\" >3</td>\n",
       "      <td id=\"T_74c84_row86_col1\" class=\"data row86 col1\" >0.16%</td>\n",
       "      <td id=\"T_74c84_row86_col2\" class=\"data row86 col2\" >C</td>\n",
       "    </tr>\n",
       "    <tr>\n",
       "      <th id=\"T_74c84_level0_row87\" class=\"row_heading level0 row87\" >Terakawa Ramen</th>\n",
       "      <td id=\"T_74c84_row87_col0\" class=\"data row87 col0\" >3</td>\n",
       "      <td id=\"T_74c84_row87_col1\" class=\"data row87 col1\" >0.16%</td>\n",
       "      <td id=\"T_74c84_row87_col2\" class=\"data row87 col2\" >C</td>\n",
       "    </tr>\n",
       "    <tr>\n",
       "      <th id=\"T_74c84_level0_row88\" class=\"row_heading level0 row88\" >da Umberto</th>\n",
       "      <td id=\"T_74c84_row88_col0\" class=\"data row88 col0\" >3</td>\n",
       "      <td id=\"T_74c84_row88_col1\" class=\"data row88 col1\" >0.16%</td>\n",
       "      <td id=\"T_74c84_row88_col2\" class=\"data row88 col2\" >C</td>\n",
       "    </tr>\n",
       "    <tr>\n",
       "      <th id=\"T_74c84_level0_row89\" class=\"row_heading level0 row89\" >Olea</th>\n",
       "      <td id=\"T_74c84_row89_col0\" class=\"data row89 col0\" >3</td>\n",
       "      <td id=\"T_74c84_row89_col1\" class=\"data row89 col1\" >0.16%</td>\n",
       "      <td id=\"T_74c84_row89_col2\" class=\"data row89 col2\" >C</td>\n",
       "    </tr>\n",
       "    <tr>\n",
       "      <th id=\"T_74c84_level0_row90\" class=\"row_heading level0 row90\" >Dickson's Farmstand Meats</th>\n",
       "      <td id=\"T_74c84_row90_col0\" class=\"data row90 col0\" >3</td>\n",
       "      <td id=\"T_74c84_row90_col1\" class=\"data row90 col1\" >0.16%</td>\n",
       "      <td id=\"T_74c84_row90_col2\" class=\"data row90 col2\" >C</td>\n",
       "    </tr>\n",
       "    <tr>\n",
       "      <th id=\"T_74c84_level0_row91\" class=\"row_heading level0 row91\" >Dirty Bird To Go (archived)</th>\n",
       "      <td id=\"T_74c84_row91_col0\" class=\"data row91 col0\" >3</td>\n",
       "      <td id=\"T_74c84_row91_col1\" class=\"data row91 col1\" >0.16%</td>\n",
       "      <td id=\"T_74c84_row91_col2\" class=\"data row91 col2\" >C</td>\n",
       "    </tr>\n",
       "    <tr>\n",
       "      <th id=\"T_74c84_level0_row92\" class=\"row_heading level0 row92\" >Schnipper's Quality Kitchen</th>\n",
       "      <td id=\"T_74c84_row92_col0\" class=\"data row92 col0\" >3</td>\n",
       "      <td id=\"T_74c84_row92_col1\" class=\"data row92 col1\" >0.16%</td>\n",
       "      <td id=\"T_74c84_row92_col2\" class=\"data row92 col2\" >C</td>\n",
       "    </tr>\n",
       "    <tr>\n",
       "      <th id=\"T_74c84_level0_row93\" class=\"row_heading level0 row93\" >Prosperity Dumpling</th>\n",
       "      <td id=\"T_74c84_row93_col0\" class=\"data row93 col0\" >3</td>\n",
       "      <td id=\"T_74c84_row93_col1\" class=\"data row93 col1\" >0.16%</td>\n",
       "      <td id=\"T_74c84_row93_col2\" class=\"data row93 col2\" >C</td>\n",
       "    </tr>\n",
       "    <tr>\n",
       "      <th id=\"T_74c84_level0_row94\" class=\"row_heading level0 row94\" >DuMont Burger</th>\n",
       "      <td id=\"T_74c84_row94_col0\" class=\"data row94 col0\" >3</td>\n",
       "      <td id=\"T_74c84_row94_col1\" class=\"data row94 col1\" >0.16%</td>\n",
       "      <td id=\"T_74c84_row94_col2\" class=\"data row94 col2\" >C</td>\n",
       "    </tr>\n",
       "    <tr>\n",
       "      <th id=\"T_74c84_level0_row95\" class=\"row_heading level0 row95\" >Izakaya Ten</th>\n",
       "      <td id=\"T_74c84_row95_col0\" class=\"data row95 col0\" >3</td>\n",
       "      <td id=\"T_74c84_row95_col1\" class=\"data row95 col1\" >0.16%</td>\n",
       "      <td id=\"T_74c84_row95_col2\" class=\"data row95 col2\" >C</td>\n",
       "    </tr>\n",
       "    <tr>\n",
       "      <th id=\"T_74c84_level0_row96\" class=\"row_heading level0 row96\" >Carmine's</th>\n",
       "      <td id=\"T_74c84_row96_col0\" class=\"data row96 col0\" >3</td>\n",
       "      <td id=\"T_74c84_row96_col1\" class=\"data row96 col1\" >0.16%</td>\n",
       "      <td id=\"T_74c84_row96_col2\" class=\"data row96 col2\" >C</td>\n",
       "    </tr>\n",
       "    <tr>\n",
       "      <th id=\"T_74c84_level0_row97\" class=\"row_heading level0 row97\" >The Odeon</th>\n",
       "      <td id=\"T_74c84_row97_col0\" class=\"data row97 col0\" >3</td>\n",
       "      <td id=\"T_74c84_row97_col1\" class=\"data row97 col1\" >0.16%</td>\n",
       "      <td id=\"T_74c84_row97_col2\" class=\"data row97 col2\" >C</td>\n",
       "    </tr>\n",
       "    <tr>\n",
       "      <th id=\"T_74c84_level0_row98\" class=\"row_heading level0 row98\" >Tres Carnes</th>\n",
       "      <td id=\"T_74c84_row98_col0\" class=\"data row98 col0\" >3</td>\n",
       "      <td id=\"T_74c84_row98_col1\" class=\"data row98 col1\" >0.16%</td>\n",
       "      <td id=\"T_74c84_row98_col2\" class=\"data row98 col2\" >C</td>\n",
       "    </tr>\n",
       "    <tr>\n",
       "      <th id=\"T_74c84_level0_row99\" class=\"row_heading level0 row99\" >Amy Ruth's</th>\n",
       "      <td id=\"T_74c84_row99_col0\" class=\"data row99 col0\" >3</td>\n",
       "      <td id=\"T_74c84_row99_col1\" class=\"data row99 col1\" >0.16%</td>\n",
       "      <td id=\"T_74c84_row99_col2\" class=\"data row99 col2\" >C</td>\n",
       "    </tr>\n",
       "    <tr>\n",
       "      <th id=\"T_74c84_level0_row100\" class=\"row_heading level0 row100\" >Go! Go! Curry!</th>\n",
       "      <td id=\"T_74c84_row100_col0\" class=\"data row100 col0\" >3</td>\n",
       "      <td id=\"T_74c84_row100_col1\" class=\"data row100 col1\" >0.16%</td>\n",
       "      <td id=\"T_74c84_row100_col2\" class=\"data row100 col2\" >C</td>\n",
       "    </tr>\n",
       "    <tr>\n",
       "      <th id=\"T_74c84_level0_row101\" class=\"row_heading level0 row101\" >Kanoyama</th>\n",
       "      <td id=\"T_74c84_row101_col0\" class=\"data row101 col0\" >3</td>\n",
       "      <td id=\"T_74c84_row101_col1\" class=\"data row101 col1\" >0.16%</td>\n",
       "      <td id=\"T_74c84_row101_col2\" class=\"data row101 col2\" >C</td>\n",
       "    </tr>\n",
       "    <tr>\n",
       "      <th id=\"T_74c84_level0_row102\" class=\"row_heading level0 row102\" >Don's Bogam BBQ & Wine Bar</th>\n",
       "      <td id=\"T_74c84_row102_col0\" class=\"data row102 col0\" >3</td>\n",
       "      <td id=\"T_74c84_row102_col1\" class=\"data row102 col1\" >0.16%</td>\n",
       "      <td id=\"T_74c84_row102_col2\" class=\"data row102 col2\" >C</td>\n",
       "    </tr>\n",
       "    <tr>\n",
       "      <th id=\"T_74c84_level0_row103\" class=\"row_heading level0 row103\" >Asuka Sushi</th>\n",
       "      <td id=\"T_74c84_row103_col0\" class=\"data row103 col0\" >3</td>\n",
       "      <td id=\"T_74c84_row103_col1\" class=\"data row103 col1\" >0.16%</td>\n",
       "      <td id=\"T_74c84_row103_col2\" class=\"data row103 col2\" >C</td>\n",
       "    </tr>\n",
       "    <tr>\n",
       "      <th id=\"T_74c84_level0_row104\" class=\"row_heading level0 row104\" >Bubby's </th>\n",
       "      <td id=\"T_74c84_row104_col0\" class=\"data row104 col0\" >3</td>\n",
       "      <td id=\"T_74c84_row104_col1\" class=\"data row104 col1\" >0.16%</td>\n",
       "      <td id=\"T_74c84_row104_col2\" class=\"data row104 col2\" >C</td>\n",
       "    </tr>\n",
       "    <tr>\n",
       "      <th id=\"T_74c84_level0_row105\" class=\"row_heading level0 row105\" >Byblos Restaurant</th>\n",
       "      <td id=\"T_74c84_row105_col0\" class=\"data row105 col0\" >2</td>\n",
       "      <td id=\"T_74c84_row105_col1\" class=\"data row105 col1\" >0.11%</td>\n",
       "      <td id=\"T_74c84_row105_col2\" class=\"data row105 col2\" >C</td>\n",
       "    </tr>\n",
       "    <tr>\n",
       "      <th id=\"T_74c84_level0_row106\" class=\"row_heading level0 row106\" >Aurora</th>\n",
       "      <td id=\"T_74c84_row106_col0\" class=\"data row106 col0\" >2</td>\n",
       "      <td id=\"T_74c84_row106_col1\" class=\"data row106 col1\" >0.11%</td>\n",
       "      <td id=\"T_74c84_row106_col2\" class=\"data row106 col2\" >C</td>\n",
       "    </tr>\n",
       "    <tr>\n",
       "      <th id=\"T_74c84_level0_row107\" class=\"row_heading level0 row107\" >UVA Wine Bar & Restaurant</th>\n",
       "      <td id=\"T_74c84_row107_col0\" class=\"data row107 col0\" >2</td>\n",
       "      <td id=\"T_74c84_row107_col1\" class=\"data row107 col1\" >0.11%</td>\n",
       "      <td id=\"T_74c84_row107_col2\" class=\"data row107 col2\" >C</td>\n",
       "    </tr>\n",
       "    <tr>\n",
       "      <th id=\"T_74c84_level0_row108\" class=\"row_heading level0 row108\" >Zero Otto Nove</th>\n",
       "      <td id=\"T_74c84_row108_col0\" class=\"data row108 col0\" >2</td>\n",
       "      <td id=\"T_74c84_row108_col1\" class=\"data row108 col1\" >0.11%</td>\n",
       "      <td id=\"T_74c84_row108_col2\" class=\"data row108 col2\" >C</td>\n",
       "    </tr>\n",
       "    <tr>\n",
       "      <th id=\"T_74c84_level0_row109\" class=\"row_heading level0 row109\" >El Parador Cafe</th>\n",
       "      <td id=\"T_74c84_row109_col0\" class=\"data row109 col0\" >2</td>\n",
       "      <td id=\"T_74c84_row109_col1\" class=\"data row109 col1\" >0.11%</td>\n",
       "      <td id=\"T_74c84_row109_col2\" class=\"data row109 col2\" >C</td>\n",
       "    </tr>\n",
       "    <tr>\n",
       "      <th id=\"T_74c84_level0_row110\" class=\"row_heading level0 row110\" >brgr</th>\n",
       "      <td id=\"T_74c84_row110_col0\" class=\"data row110 col0\" >2</td>\n",
       "      <td id=\"T_74c84_row110_col1\" class=\"data row110 col1\" >0.11%</td>\n",
       "      <td id=\"T_74c84_row110_col2\" class=\"data row110 col2\" >C</td>\n",
       "    </tr>\n",
       "    <tr>\n",
       "      <th id=\"T_74c84_level0_row111\" class=\"row_heading level0 row111\" >Hot Kitchen</th>\n",
       "      <td id=\"T_74c84_row111_col0\" class=\"data row111 col0\" >2</td>\n",
       "      <td id=\"T_74c84_row111_col1\" class=\"data row111 col1\" >0.11%</td>\n",
       "      <td id=\"T_74c84_row111_col2\" class=\"data row111 col2\" >C</td>\n",
       "    </tr>\n",
       "    <tr>\n",
       "      <th id=\"T_74c84_level0_row112\" class=\"row_heading level0 row112\" >Le Grainne Cafe</th>\n",
       "      <td id=\"T_74c84_row112_col0\" class=\"data row112 col0\" >2</td>\n",
       "      <td id=\"T_74c84_row112_col1\" class=\"data row112 col1\" >0.11%</td>\n",
       "      <td id=\"T_74c84_row112_col2\" class=\"data row112 col2\" >C</td>\n",
       "    </tr>\n",
       "    <tr>\n",
       "      <th id=\"T_74c84_level0_row113\" class=\"row_heading level0 row113\" >Olive Garden</th>\n",
       "      <td id=\"T_74c84_row113_col0\" class=\"data row113 col0\" >2</td>\n",
       "      <td id=\"T_74c84_row113_col1\" class=\"data row113 col1\" >0.11%</td>\n",
       "      <td id=\"T_74c84_row113_col2\" class=\"data row113 col2\" >C</td>\n",
       "    </tr>\n",
       "    <tr>\n",
       "      <th id=\"T_74c84_level0_row114\" class=\"row_heading level0 row114\" >Hangawi</th>\n",
       "      <td id=\"T_74c84_row114_col0\" class=\"data row114 col0\" >2</td>\n",
       "      <td id=\"T_74c84_row114_col1\" class=\"data row114 col1\" >0.11%</td>\n",
       "      <td id=\"T_74c84_row114_col2\" class=\"data row114 col2\" >C</td>\n",
       "    </tr>\n",
       "    <tr>\n",
       "      <th id=\"T_74c84_level0_row115\" class=\"row_heading level0 row115\" >Bhatti Indian Grill</th>\n",
       "      <td id=\"T_74c84_row115_col0\" class=\"data row115 col0\" >2</td>\n",
       "      <td id=\"T_74c84_row115_col1\" class=\"data row115 col1\" >0.11%</td>\n",
       "      <td id=\"T_74c84_row115_col2\" class=\"data row115 col2\" >C</td>\n",
       "    </tr>\n",
       "    <tr>\n",
       "      <th id=\"T_74c84_level0_row116\" class=\"row_heading level0 row116\" >Haveli Indian Restaurant</th>\n",
       "      <td id=\"T_74c84_row116_col0\" class=\"data row116 col0\" >2</td>\n",
       "      <td id=\"T_74c84_row116_col1\" class=\"data row116 col1\" >0.11%</td>\n",
       "      <td id=\"T_74c84_row116_col2\" class=\"data row116 col2\" >C</td>\n",
       "    </tr>\n",
       "    <tr>\n",
       "      <th id=\"T_74c84_level0_row117\" class=\"row_heading level0 row117\" >Bukhara Grill</th>\n",
       "      <td id=\"T_74c84_row117_col0\" class=\"data row117 col0\" >2</td>\n",
       "      <td id=\"T_74c84_row117_col1\" class=\"data row117 col1\" >0.11%</td>\n",
       "      <td id=\"T_74c84_row117_col2\" class=\"data row117 col2\" >C</td>\n",
       "    </tr>\n",
       "    <tr>\n",
       "      <th id=\"T_74c84_level0_row118\" class=\"row_heading level0 row118\" >Bistango</th>\n",
       "      <td id=\"T_74c84_row118_col0\" class=\"data row118 col0\" >2</td>\n",
       "      <td id=\"T_74c84_row118_col1\" class=\"data row118 col1\" >0.11%</td>\n",
       "      <td id=\"T_74c84_row118_col2\" class=\"data row118 col2\" >C</td>\n",
       "    </tr>\n",
       "    <tr>\n",
       "      <th id=\"T_74c84_level0_row119\" class=\"row_heading level0 row119\" >Haandi</th>\n",
       "      <td id=\"T_74c84_row119_col0\" class=\"data row119 col0\" >2</td>\n",
       "      <td id=\"T_74c84_row119_col1\" class=\"data row119 col1\" >0.11%</td>\n",
       "      <td id=\"T_74c84_row119_col2\" class=\"data row119 col2\" >C</td>\n",
       "    </tr>\n",
       "    <tr>\n",
       "      <th id=\"T_74c84_level0_row120\" class=\"row_heading level0 row120\" >Pongsri Thai</th>\n",
       "      <td id=\"T_74c84_row120_col0\" class=\"data row120 col0\" >2</td>\n",
       "      <td id=\"T_74c84_row120_col1\" class=\"data row120 col1\" >0.11%</td>\n",
       "      <td id=\"T_74c84_row120_col2\" class=\"data row120 col2\" >C</td>\n",
       "    </tr>\n",
       "    <tr>\n",
       "      <th id=\"T_74c84_level0_row121\" class=\"row_heading level0 row121\" >Song Thai Restaurant & Bar</th>\n",
       "      <td id=\"T_74c84_row121_col0\" class=\"data row121 col0\" >2</td>\n",
       "      <td id=\"T_74c84_row121_col1\" class=\"data row121 col1\" >0.11%</td>\n",
       "      <td id=\"T_74c84_row121_col2\" class=\"data row121 col2\" >C</td>\n",
       "    </tr>\n",
       "    <tr>\n",
       "      <th id=\"T_74c84_level0_row122\" class=\"row_heading level0 row122\" >Piccolo Angolo</th>\n",
       "      <td id=\"T_74c84_row122_col0\" class=\"data row122 col0\" >2</td>\n",
       "      <td id=\"T_74c84_row122_col1\" class=\"data row122 col1\" >0.11%</td>\n",
       "      <td id=\"T_74c84_row122_col2\" class=\"data row122 col2\" >C</td>\n",
       "    </tr>\n",
       "    <tr>\n",
       "      <th id=\"T_74c84_level0_row123\" class=\"row_heading level0 row123\" >Tarallucci e Vino Restaurant</th>\n",
       "      <td id=\"T_74c84_row123_col0\" class=\"data row123 col0\" >2</td>\n",
       "      <td id=\"T_74c84_row123_col1\" class=\"data row123 col1\" >0.11%</td>\n",
       "      <td id=\"T_74c84_row123_col2\" class=\"data row123 col2\" >C</td>\n",
       "    </tr>\n",
       "    <tr>\n",
       "      <th id=\"T_74c84_level0_row124\" class=\"row_heading level0 row124\" >Big Daddy's</th>\n",
       "      <td id=\"T_74c84_row124_col0\" class=\"data row124 col0\" >2</td>\n",
       "      <td id=\"T_74c84_row124_col1\" class=\"data row124 col1\" >0.11%</td>\n",
       "      <td id=\"T_74c84_row124_col2\" class=\"data row124 col2\" >C</td>\n",
       "    </tr>\n",
       "    <tr>\n",
       "      <th id=\"T_74c84_level0_row125\" class=\"row_heading level0 row125\" >Xe May Sandwich Shop</th>\n",
       "      <td id=\"T_74c84_row125_col0\" class=\"data row125 col0\" >2</td>\n",
       "      <td id=\"T_74c84_row125_col1\" class=\"data row125 col1\" >0.11%</td>\n",
       "      <td id=\"T_74c84_row125_col2\" class=\"data row125 col2\" >C</td>\n",
       "    </tr>\n",
       "    <tr>\n",
       "      <th id=\"T_74c84_level0_row126\" class=\"row_heading level0 row126\" >DespaÌ±a</th>\n",
       "      <td id=\"T_74c84_row126_col0\" class=\"data row126 col0\" >2</td>\n",
       "      <td id=\"T_74c84_row126_col1\" class=\"data row126 col1\" >0.11%</td>\n",
       "      <td id=\"T_74c84_row126_col2\" class=\"data row126 col2\" >C</td>\n",
       "    </tr>\n",
       "    <tr>\n",
       "      <th id=\"T_74c84_level0_row127\" class=\"row_heading level0 row127\" >Mira Sushi</th>\n",
       "      <td id=\"T_74c84_row127_col0\" class=\"data row127 col0\" >2</td>\n",
       "      <td id=\"T_74c84_row127_col1\" class=\"data row127 col1\" >0.11%</td>\n",
       "      <td id=\"T_74c84_row127_col2\" class=\"data row127 col2\" >C</td>\n",
       "    </tr>\n",
       "    <tr>\n",
       "      <th id=\"T_74c84_level0_row128\" class=\"row_heading level0 row128\" >Le Zie 2000 Trattoria</th>\n",
       "      <td id=\"T_74c84_row128_col0\" class=\"data row128 col0\" >1</td>\n",
       "      <td id=\"T_74c84_row128_col1\" class=\"data row128 col1\" >0.05%</td>\n",
       "      <td id=\"T_74c84_row128_col2\" class=\"data row128 col2\" >C</td>\n",
       "    </tr>\n",
       "    <tr>\n",
       "      <th id=\"T_74c84_level0_row129\" class=\"row_heading level0 row129\" >Cafe de La Esquina</th>\n",
       "      <td id=\"T_74c84_row129_col0\" class=\"data row129 col0\" >1</td>\n",
       "      <td id=\"T_74c84_row129_col1\" class=\"data row129 col1\" >0.05%</td>\n",
       "      <td id=\"T_74c84_row129_col2\" class=\"data row129 col2\" >C</td>\n",
       "    </tr>\n",
       "    <tr>\n",
       "      <th id=\"T_74c84_level0_row130\" class=\"row_heading level0 row130\" >Sarabeth's West</th>\n",
       "      <td id=\"T_74c84_row130_col0\" class=\"data row130 col0\" >1</td>\n",
       "      <td id=\"T_74c84_row130_col1\" class=\"data row130 col1\" >0.05%</td>\n",
       "      <td id=\"T_74c84_row130_col2\" class=\"data row130 col2\" >C</td>\n",
       "    </tr>\n",
       "    <tr>\n",
       "      <th id=\"T_74c84_level0_row131\" class=\"row_heading level0 row131\" >Frank Restaurant</th>\n",
       "      <td id=\"T_74c84_row131_col0\" class=\"data row131 col0\" >1</td>\n",
       "      <td id=\"T_74c84_row131_col1\" class=\"data row131 col1\" >0.05%</td>\n",
       "      <td id=\"T_74c84_row131_col2\" class=\"data row131 col2\" >C</td>\n",
       "    </tr>\n",
       "    <tr>\n",
       "      <th id=\"T_74c84_level0_row132\" class=\"row_heading level0 row132\" >Hiroko's Place</th>\n",
       "      <td id=\"T_74c84_row132_col0\" class=\"data row132 col0\" >1</td>\n",
       "      <td id=\"T_74c84_row132_col1\" class=\"data row132 col1\" >0.05%</td>\n",
       "      <td id=\"T_74c84_row132_col2\" class=\"data row132 col2\" >C</td>\n",
       "    </tr>\n",
       "    <tr>\n",
       "      <th id=\"T_74c84_level0_row133\" class=\"row_heading level0 row133\" >Rye House</th>\n",
       "      <td id=\"T_74c84_row133_col0\" class=\"data row133 col0\" >1</td>\n",
       "      <td id=\"T_74c84_row133_col1\" class=\"data row133 col1\" >0.05%</td>\n",
       "      <td id=\"T_74c84_row133_col2\" class=\"data row133 col2\" >C</td>\n",
       "    </tr>\n",
       "    <tr>\n",
       "      <th id=\"T_74c84_level0_row134\" class=\"row_heading level0 row134\" >Lamarca Pasta</th>\n",
       "      <td id=\"T_74c84_row134_col0\" class=\"data row134 col0\" >1</td>\n",
       "      <td id=\"T_74c84_row134_col1\" class=\"data row134 col1\" >0.05%</td>\n",
       "      <td id=\"T_74c84_row134_col2\" class=\"data row134 col2\" >C</td>\n",
       "    </tr>\n",
       "    <tr>\n",
       "      <th id=\"T_74c84_level0_row135\" class=\"row_heading level0 row135\" >67 Burger</th>\n",
       "      <td id=\"T_74c84_row135_col0\" class=\"data row135 col0\" >1</td>\n",
       "      <td id=\"T_74c84_row135_col1\" class=\"data row135 col1\" >0.05%</td>\n",
       "      <td id=\"T_74c84_row135_col2\" class=\"data row135 col2\" >C</td>\n",
       "    </tr>\n",
       "    <tr>\n",
       "      <th id=\"T_74c84_level0_row136\" class=\"row_heading level0 row136\" >Lucky Strike</th>\n",
       "      <td id=\"T_74c84_row136_col0\" class=\"data row136 col0\" >1</td>\n",
       "      <td id=\"T_74c84_row136_col1\" class=\"data row136 col1\" >0.05%</td>\n",
       "      <td id=\"T_74c84_row136_col2\" class=\"data row136 col2\" >C</td>\n",
       "    </tr>\n",
       "    <tr>\n",
       "      <th id=\"T_74c84_level0_row137\" class=\"row_heading level0 row137\" >Paul & Jimmy's</th>\n",
       "      <td id=\"T_74c84_row137_col0\" class=\"data row137 col0\" >1</td>\n",
       "      <td id=\"T_74c84_row137_col1\" class=\"data row137 col1\" >0.05%</td>\n",
       "      <td id=\"T_74c84_row137_col2\" class=\"data row137 col2\" >C</td>\n",
       "    </tr>\n",
       "    <tr>\n",
       "      <th id=\"T_74c84_level0_row138\" class=\"row_heading level0 row138\" >Hampton Chutney Co.</th>\n",
       "      <td id=\"T_74c84_row138_col0\" class=\"data row138 col0\" >1</td>\n",
       "      <td id=\"T_74c84_row138_col1\" class=\"data row138 col1\" >0.05%</td>\n",
       "      <td id=\"T_74c84_row138_col2\" class=\"data row138 col2\" >C</td>\n",
       "    </tr>\n",
       "    <tr>\n",
       "      <th id=\"T_74c84_level0_row139\" class=\"row_heading level0 row139\" >Wa Jeal</th>\n",
       "      <td id=\"T_74c84_row139_col0\" class=\"data row139 col0\" >1</td>\n",
       "      <td id=\"T_74c84_row139_col1\" class=\"data row139 col1\" >0.05%</td>\n",
       "      <td id=\"T_74c84_row139_col2\" class=\"data row139 col2\" >C</td>\n",
       "    </tr>\n",
       "    <tr>\n",
       "      <th id=\"T_74c84_level0_row140\" class=\"row_heading level0 row140\" >Hunan Manor</th>\n",
       "      <td id=\"T_74c84_row140_col0\" class=\"data row140 col0\" >1</td>\n",
       "      <td id=\"T_74c84_row140_col1\" class=\"data row140 col1\" >0.05%</td>\n",
       "      <td id=\"T_74c84_row140_col2\" class=\"data row140 col2\" >C</td>\n",
       "    </tr>\n",
       "    <tr>\n",
       "      <th id=\"T_74c84_level0_row141\" class=\"row_heading level0 row141\" >Moonstruck on Second</th>\n",
       "      <td id=\"T_74c84_row141_col0\" class=\"data row141 col0\" >1</td>\n",
       "      <td id=\"T_74c84_row141_col1\" class=\"data row141 col1\" >0.05%</td>\n",
       "      <td id=\"T_74c84_row141_col2\" class=\"data row141 col2\" >C</td>\n",
       "    </tr>\n",
       "    <tr>\n",
       "      <th id=\"T_74c84_level0_row142\" class=\"row_heading level0 row142\" >Il Bambino</th>\n",
       "      <td id=\"T_74c84_row142_col0\" class=\"data row142 col0\" >1</td>\n",
       "      <td id=\"T_74c84_row142_col1\" class=\"data row142 col1\" >0.05%</td>\n",
       "      <td id=\"T_74c84_row142_col2\" class=\"data row142 col2\" >C</td>\n",
       "    </tr>\n",
       "    <tr>\n",
       "      <th id=\"T_74c84_level0_row143\" class=\"row_heading level0 row143\" >Nha Trang One</th>\n",
       "      <td id=\"T_74c84_row143_col0\" class=\"data row143 col0\" >1</td>\n",
       "      <td id=\"T_74c84_row143_col1\" class=\"data row143 col1\" >0.05%</td>\n",
       "      <td id=\"T_74c84_row143_col2\" class=\"data row143 col2\" >C</td>\n",
       "    </tr>\n",
       "    <tr>\n",
       "      <th id=\"T_74c84_level0_row144\" class=\"row_heading level0 row144\" >Market Table</th>\n",
       "      <td id=\"T_74c84_row144_col0\" class=\"data row144 col0\" >1</td>\n",
       "      <td id=\"T_74c84_row144_col1\" class=\"data row144 col1\" >0.05%</td>\n",
       "      <td id=\"T_74c84_row144_col2\" class=\"data row144 col2\" >C</td>\n",
       "    </tr>\n",
       "    <tr>\n",
       "      <th id=\"T_74c84_level0_row145\" class=\"row_heading level0 row145\" >Emporio</th>\n",
       "      <td id=\"T_74c84_row145_col0\" class=\"data row145 col0\" >1</td>\n",
       "      <td id=\"T_74c84_row145_col1\" class=\"data row145 col1\" >0.05%</td>\n",
       "      <td id=\"T_74c84_row145_col2\" class=\"data row145 col2\" >C</td>\n",
       "    </tr>\n",
       "    <tr>\n",
       "      <th id=\"T_74c84_level0_row146\" class=\"row_heading level0 row146\" >Galli Restaurant</th>\n",
       "      <td id=\"T_74c84_row146_col0\" class=\"data row146 col0\" >1</td>\n",
       "      <td id=\"T_74c84_row146_col1\" class=\"data row146 col1\" >0.05%</td>\n",
       "      <td id=\"T_74c84_row146_col2\" class=\"data row146 col2\" >C</td>\n",
       "    </tr>\n",
       "    <tr>\n",
       "      <th id=\"T_74c84_level0_row147\" class=\"row_heading level0 row147\" >Coppola's East</th>\n",
       "      <td id=\"T_74c84_row147_col0\" class=\"data row147 col0\" >1</td>\n",
       "      <td id=\"T_74c84_row147_col1\" class=\"data row147 col1\" >0.05%</td>\n",
       "      <td id=\"T_74c84_row147_col2\" class=\"data row147 col2\" >C</td>\n",
       "    </tr>\n",
       "    <tr>\n",
       "      <th id=\"T_74c84_level0_row148\" class=\"row_heading level0 row148\" >Kori Restaurant and Bar</th>\n",
       "      <td id=\"T_74c84_row148_col0\" class=\"data row148 col0\" >1</td>\n",
       "      <td id=\"T_74c84_row148_col1\" class=\"data row148 col1\" >0.05%</td>\n",
       "      <td id=\"T_74c84_row148_col2\" class=\"data row148 col2\" >C</td>\n",
       "    </tr>\n",
       "    <tr>\n",
       "      <th id=\"T_74c84_level0_row149\" class=\"row_heading level0 row149\" >Woorijip</th>\n",
       "      <td id=\"T_74c84_row149_col0\" class=\"data row149 col0\" >1</td>\n",
       "      <td id=\"T_74c84_row149_col1\" class=\"data row149 col1\" >0.05%</td>\n",
       "      <td id=\"T_74c84_row149_col2\" class=\"data row149 col2\" >C</td>\n",
       "    </tr>\n",
       "    <tr>\n",
       "      <th id=\"T_74c84_level0_row150\" class=\"row_heading level0 row150\" >Crema Restaurante</th>\n",
       "      <td id=\"T_74c84_row150_col0\" class=\"data row150 col0\" >1</td>\n",
       "      <td id=\"T_74c84_row150_col1\" class=\"data row150 col1\" >0.05%</td>\n",
       "      <td id=\"T_74c84_row150_col2\" class=\"data row150 col2\" >C</td>\n",
       "    </tr>\n",
       "    <tr>\n",
       "      <th id=\"T_74c84_level0_row151\" class=\"row_heading level0 row151\" >The MasalaWala</th>\n",
       "      <td id=\"T_74c84_row151_col0\" class=\"data row151 col0\" >1</td>\n",
       "      <td id=\"T_74c84_row151_col1\" class=\"data row151 col1\" >0.05%</td>\n",
       "      <td id=\"T_74c84_row151_col2\" class=\"data row151 col2\" >C</td>\n",
       "    </tr>\n",
       "    <tr>\n",
       "      <th id=\"T_74c84_level0_row152\" class=\"row_heading level0 row152\" >Anjappar Chettinad</th>\n",
       "      <td id=\"T_74c84_row152_col0\" class=\"data row152 col0\" >1</td>\n",
       "      <td id=\"T_74c84_row152_col1\" class=\"data row152 col1\" >0.05%</td>\n",
       "      <td id=\"T_74c84_row152_col2\" class=\"data row152 col2\" >C</td>\n",
       "    </tr>\n",
       "    <tr>\n",
       "      <th id=\"T_74c84_level0_row153\" class=\"row_heading level0 row153\" >Big Wong Restaurant _¤¾Ñ¼</th>\n",
       "      <td id=\"T_74c84_row153_col0\" class=\"data row153 col0\" >1</td>\n",
       "      <td id=\"T_74c84_row153_col1\" class=\"data row153 col1\" >0.05%</td>\n",
       "      <td id=\"T_74c84_row153_col2\" class=\"data row153 col2\" >C</td>\n",
       "    </tr>\n",
       "    <tr>\n",
       "      <th id=\"T_74c84_level0_row154\" class=\"row_heading level0 row154\" >Klong</th>\n",
       "      <td id=\"T_74c84_row154_col0\" class=\"data row154 col0\" >1</td>\n",
       "      <td id=\"T_74c84_row154_col1\" class=\"data row154 col1\" >0.05%</td>\n",
       "      <td id=\"T_74c84_row154_col2\" class=\"data row154 col2\" >C</td>\n",
       "    </tr>\n",
       "    <tr>\n",
       "      <th id=\"T_74c84_level0_row155\" class=\"row_heading level0 row155\" >Haru Gramercy Park</th>\n",
       "      <td id=\"T_74c84_row155_col0\" class=\"data row155 col0\" >1</td>\n",
       "      <td id=\"T_74c84_row155_col1\" class=\"data row155 col1\" >0.05%</td>\n",
       "      <td id=\"T_74c84_row155_col2\" class=\"data row155 col2\" >C</td>\n",
       "    </tr>\n",
       "    <tr>\n",
       "      <th id=\"T_74c84_level0_row156\" class=\"row_heading level0 row156\" >Chote Nawab</th>\n",
       "      <td id=\"T_74c84_row156_col0\" class=\"data row156 col0\" >1</td>\n",
       "      <td id=\"T_74c84_row156_col1\" class=\"data row156 col1\" >0.05%</td>\n",
       "      <td id=\"T_74c84_row156_col2\" class=\"data row156 col2\" >C</td>\n",
       "    </tr>\n",
       "    <tr>\n",
       "      <th id=\"T_74c84_level0_row157\" class=\"row_heading level0 row157\" >Pepe Giallo</th>\n",
       "      <td id=\"T_74c84_row157_col0\" class=\"data row157 col0\" >1</td>\n",
       "      <td id=\"T_74c84_row157_col1\" class=\"data row157 col1\" >0.05%</td>\n",
       "      <td id=\"T_74c84_row157_col2\" class=\"data row157 col2\" >C</td>\n",
       "    </tr>\n",
       "    <tr>\n",
       "      <th id=\"T_74c84_level0_row158\" class=\"row_heading level0 row158\" >Taro Sushi</th>\n",
       "      <td id=\"T_74c84_row158_col0\" class=\"data row158 col0\" >1</td>\n",
       "      <td id=\"T_74c84_row158_col1\" class=\"data row158 col1\" >0.05%</td>\n",
       "      <td id=\"T_74c84_row158_col2\" class=\"data row158 col2\" >C</td>\n",
       "    </tr>\n",
       "    <tr>\n",
       "      <th id=\"T_74c84_level0_row159\" class=\"row_heading level0 row159\" >Samurai Mama</th>\n",
       "      <td id=\"T_74c84_row159_col0\" class=\"data row159 col0\" >1</td>\n",
       "      <td id=\"T_74c84_row159_col1\" class=\"data row159 col1\" >0.05%</td>\n",
       "      <td id=\"T_74c84_row159_col2\" class=\"data row159 col2\" >C</td>\n",
       "    </tr>\n",
       "    <tr>\n",
       "      <th id=\"T_74c84_level0_row160\" class=\"row_heading level0 row160\" >Hibino</th>\n",
       "      <td id=\"T_74c84_row160_col0\" class=\"data row160 col0\" >1</td>\n",
       "      <td id=\"T_74c84_row160_col1\" class=\"data row160 col1\" >0.05%</td>\n",
       "      <td id=\"T_74c84_row160_col2\" class=\"data row160 col2\" >C</td>\n",
       "    </tr>\n",
       "    <tr>\n",
       "      <th id=\"T_74c84_level0_row161\" class=\"row_heading level0 row161\" >Balade</th>\n",
       "      <td id=\"T_74c84_row161_col0\" class=\"data row161 col0\" >1</td>\n",
       "      <td id=\"T_74c84_row161_col1\" class=\"data row161 col1\" >0.05%</td>\n",
       "      <td id=\"T_74c84_row161_col2\" class=\"data row161 col2\" >C</td>\n",
       "    </tr>\n",
       "    <tr>\n",
       "      <th id=\"T_74c84_level0_row162\" class=\"row_heading level0 row162\" >Posto</th>\n",
       "      <td id=\"T_74c84_row162_col0\" class=\"data row162 col0\" >1</td>\n",
       "      <td id=\"T_74c84_row162_col1\" class=\"data row162 col1\" >0.05%</td>\n",
       "      <td id=\"T_74c84_row162_col2\" class=\"data row162 col2\" >C</td>\n",
       "    </tr>\n",
       "    <tr>\n",
       "      <th id=\"T_74c84_level0_row163\" class=\"row_heading level0 row163\" >Kambi Ramen House</th>\n",
       "      <td id=\"T_74c84_row163_col0\" class=\"data row163 col0\" >1</td>\n",
       "      <td id=\"T_74c84_row163_col1\" class=\"data row163 col1\" >0.05%</td>\n",
       "      <td id=\"T_74c84_row163_col2\" class=\"data row163 col2\" >C</td>\n",
       "    </tr>\n",
       "    <tr>\n",
       "      <th id=\"T_74c84_level0_row164\" class=\"row_heading level0 row164\" >Wo Hop Restaurant</th>\n",
       "      <td id=\"T_74c84_row164_col0\" class=\"data row164 col0\" >1</td>\n",
       "      <td id=\"T_74c84_row164_col1\" class=\"data row164 col1\" >0.05%</td>\n",
       "      <td id=\"T_74c84_row164_col2\" class=\"data row164 col2\" >C</td>\n",
       "    </tr>\n",
       "    <tr>\n",
       "      <th id=\"T_74c84_level0_row165\" class=\"row_heading level0 row165\" >Spice Thai</th>\n",
       "      <td id=\"T_74c84_row165_col0\" class=\"data row165 col0\" >1</td>\n",
       "      <td id=\"T_74c84_row165_col1\" class=\"data row165 col1\" >0.05%</td>\n",
       "      <td id=\"T_74c84_row165_col2\" class=\"data row165 col2\" >C</td>\n",
       "    </tr>\n",
       "    <tr>\n",
       "      <th id=\"T_74c84_level0_row166\" class=\"row_heading level0 row166\" >Gaia Italian Cafe</th>\n",
       "      <td id=\"T_74c84_row166_col0\" class=\"data row166 col0\" >1</td>\n",
       "      <td id=\"T_74c84_row166_col1\" class=\"data row166 col1\" >0.05%</td>\n",
       "      <td id=\"T_74c84_row166_col2\" class=\"data row166 col2\" >C</td>\n",
       "    </tr>\n",
       "    <tr>\n",
       "      <th id=\"T_74c84_level0_row167\" class=\"row_heading level0 row167\" >Chola Eclectic Indian Cuisine</th>\n",
       "      <td id=\"T_74c84_row167_col0\" class=\"data row167 col0\" >1</td>\n",
       "      <td id=\"T_74c84_row167_col1\" class=\"data row167 col1\" >0.05%</td>\n",
       "      <td id=\"T_74c84_row167_col2\" class=\"data row167 col2\" >C</td>\n",
       "    </tr>\n",
       "    <tr>\n",
       "      <th id=\"T_74c84_level0_row168\" class=\"row_heading level0 row168\" >Rohm Thai</th>\n",
       "      <td id=\"T_74c84_row168_col0\" class=\"data row168 col0\" >1</td>\n",
       "      <td id=\"T_74c84_row168_col1\" class=\"data row168 col1\" >0.05%</td>\n",
       "      <td id=\"T_74c84_row168_col2\" class=\"data row168 col2\" >C</td>\n",
       "    </tr>\n",
       "    <tr>\n",
       "      <th id=\"T_74c84_level0_row169\" class=\"row_heading level0 row169\" >Dig Inn Seasonal Market</th>\n",
       "      <td id=\"T_74c84_row169_col0\" class=\"data row169 col0\" >1</td>\n",
       "      <td id=\"T_74c84_row169_col1\" class=\"data row169 col1\" >0.05%</td>\n",
       "      <td id=\"T_74c84_row169_col2\" class=\"data row169 col2\" >C</td>\n",
       "    </tr>\n",
       "    <tr>\n",
       "      <th id=\"T_74c84_level0_row170\" class=\"row_heading level0 row170\" >Socarrat Paella Bar</th>\n",
       "      <td id=\"T_74c84_row170_col0\" class=\"data row170 col0\" >1</td>\n",
       "      <td id=\"T_74c84_row170_col1\" class=\"data row170 col1\" >0.05%</td>\n",
       "      <td id=\"T_74c84_row170_col2\" class=\"data row170 col2\" >C</td>\n",
       "    </tr>\n",
       "    <tr>\n",
       "      <th id=\"T_74c84_level0_row171\" class=\"row_heading level0 row171\" >Alidoro</th>\n",
       "      <td id=\"T_74c84_row171_col0\" class=\"data row171 col0\" >1</td>\n",
       "      <td id=\"T_74c84_row171_col1\" class=\"data row171 col1\" >0.05%</td>\n",
       "      <td id=\"T_74c84_row171_col2\" class=\"data row171 col2\" >C</td>\n",
       "    </tr>\n",
       "    <tr>\n",
       "      <th id=\"T_74c84_level0_row172\" class=\"row_heading level0 row172\" >Cipriani Le Specialita</th>\n",
       "      <td id=\"T_74c84_row172_col0\" class=\"data row172 col0\" >1</td>\n",
       "      <td id=\"T_74c84_row172_col1\" class=\"data row172 col1\" >0.05%</td>\n",
       "      <td id=\"T_74c84_row172_col2\" class=\"data row172 col2\" >C</td>\n",
       "    </tr>\n",
       "    <tr>\n",
       "      <th id=\"T_74c84_level0_row173\" class=\"row_heading level0 row173\" >Sushi Choshi</th>\n",
       "      <td id=\"T_74c84_row173_col0\" class=\"data row173 col0\" >1</td>\n",
       "      <td id=\"T_74c84_row173_col1\" class=\"data row173 col1\" >0.05%</td>\n",
       "      <td id=\"T_74c84_row173_col2\" class=\"data row173 col2\" >C</td>\n",
       "    </tr>\n",
       "    <tr>\n",
       "      <th id=\"T_74c84_level0_row174\" class=\"row_heading level0 row174\" >Dos Caminos Soho</th>\n",
       "      <td id=\"T_74c84_row174_col0\" class=\"data row174 col0\" >1</td>\n",
       "      <td id=\"T_74c84_row174_col1\" class=\"data row174 col1\" >0.05%</td>\n",
       "      <td id=\"T_74c84_row174_col2\" class=\"data row174 col2\" >C</td>\n",
       "    </tr>\n",
       "    <tr>\n",
       "      <th id=\"T_74c84_level0_row175\" class=\"row_heading level0 row175\" >La Follia</th>\n",
       "      <td id=\"T_74c84_row175_col0\" class=\"data row175 col0\" >1</td>\n",
       "      <td id=\"T_74c84_row175_col1\" class=\"data row175 col1\" >0.05%</td>\n",
       "      <td id=\"T_74c84_row175_col2\" class=\"data row175 col2\" >C</td>\n",
       "    </tr>\n",
       "    <tr>\n",
       "      <th id=\"T_74c84_level0_row176\" class=\"row_heading level0 row176\" >Philippe Chow</th>\n",
       "      <td id=\"T_74c84_row176_col0\" class=\"data row176 col0\" >1</td>\n",
       "      <td id=\"T_74c84_row176_col1\" class=\"data row176 col1\" >0.05%</td>\n",
       "      <td id=\"T_74c84_row176_col2\" class=\"data row176 col2\" >C</td>\n",
       "    </tr>\n",
       "    <tr>\n",
       "      <th id=\"T_74c84_level0_row177\" class=\"row_heading level0 row177\" >'wichcraft</th>\n",
       "      <td id=\"T_74c84_row177_col0\" class=\"data row177 col0\" >1</td>\n",
       "      <td id=\"T_74c84_row177_col1\" class=\"data row177 col1\" >0.05%</td>\n",
       "      <td id=\"T_74c84_row177_col2\" class=\"data row177 col2\" >C</td>\n",
       "    </tr>\n",
       "  </tbody>\n",
       "</table>\n"
      ],
      "text/plain": [
       "<pandas.io.formats.style.Styler at 0x22f67a97f10>"
      ]
     },
     "execution_count": 13,
     "metadata": {},
     "output_type": "execute_result"
    }
   ],
   "source": [
    "# Get the count of observations for each restaurant name\n",
    "restaurant_counts = df['restaurant_name'].value_counts()\n",
    "\n",
    "# Calculate the percentage of counts\n",
    "restaurant_percentage = (restaurant_counts / restaurant_counts.sum()) * 100\n",
    "\n",
    "# Format count values to include the percentage\n",
    "restaurant_counts_with_percent = restaurant_counts.astype(str) + ' (' + restaurant_percentage.round(2).astype(str) + '%)'\n",
    "\n",
    "# Rank the restaurants based on the count of observations using ABC method\n",
    "restaurant_ranks = pd.qcut(restaurant_counts, q=[0, 0.8, 0.95, 1], labels=['C', 'B', 'A'])\n",
    "\n",
    "# Create a new DataFrame to store the counts, percentage, and ABC ranks\n",
    "restaurant_summary = pd.DataFrame({'Count': restaurant_counts, 'Percentage': restaurant_percentage, 'ABC Rank': restaurant_ranks})\n",
    "# Display the DataFrame\n",
    "#with pd.option_context('display.max_rows', None):\n",
    "    #print(restaurant_summary)\n",
    "# Format the DataFrame for display\n",
    "styled_table = restaurant_summary.style.format({\n",
    "    'Percentage': '{:.2f}%'\n",
    "}).set_properties(**{'text-align': 'center'})\n",
    "\n",
    "# Display the styled table\n",
    "styled_table"
   ]
  },
  {
   "cell_type": "code",
   "execution_count": 14,
   "metadata": {
    "scrolled": false
   },
   "outputs": [
    {
     "data": {
      "text/html": [
       "<style type=\"text/css\">\n",
       "#T_0ccd8_row0_col0, #T_0ccd8_row0_col1, #T_0ccd8_row1_col0, #T_0ccd8_row1_col1, #T_0ccd8_row2_col0, #T_0ccd8_row2_col1 {\n",
       "  text-align: center;\n",
       "}\n",
       "</style>\n",
       "<table id=\"T_0ccd8\">\n",
       "  <thead>\n",
       "    <tr>\n",
       "      <th class=\"blank level0\" >&nbsp;</th>\n",
       "      <th id=\"T_0ccd8_level0_col0\" class=\"col_heading level0 col0\" >Count</th>\n",
       "      <th id=\"T_0ccd8_level0_col1\" class=\"col_heading level0 col1\" >Percentage</th>\n",
       "    </tr>\n",
       "    <tr>\n",
       "      <th class=\"index_name level0\" >ABC Rank</th>\n",
       "      <th class=\"blank col0\" >&nbsp;</th>\n",
       "      <th class=\"blank col1\" >&nbsp;</th>\n",
       "    </tr>\n",
       "  </thead>\n",
       "  <tbody>\n",
       "    <tr>\n",
       "      <th id=\"T_0ccd8_level0_row0\" class=\"row_heading level0 row0\" >C</th>\n",
       "      <td id=\"T_0ccd8_row0_col0\" class=\"data row0 col0\" >143</td>\n",
       "      <td id=\"T_0ccd8_row0_col1\" class=\"data row0 col1\" >80.34%</td>\n",
       "    </tr>\n",
       "    <tr>\n",
       "      <th id=\"T_0ccd8_level0_row1\" class=\"row_heading level0 row1\" >B</th>\n",
       "      <td id=\"T_0ccd8_row1_col0\" class=\"data row1 col0\" >26</td>\n",
       "      <td id=\"T_0ccd8_row1_col1\" class=\"data row1 col1\" >14.61%</td>\n",
       "    </tr>\n",
       "    <tr>\n",
       "      <th id=\"T_0ccd8_level0_row2\" class=\"row_heading level0 row2\" >A</th>\n",
       "      <td id=\"T_0ccd8_row2_col0\" class=\"data row2 col0\" >9</td>\n",
       "      <td id=\"T_0ccd8_row2_col1\" class=\"data row2 col1\" >5.06%</td>\n",
       "    </tr>\n",
       "  </tbody>\n",
       "</table>\n"
      ],
      "text/plain": [
       "<pandas.io.formats.style.Styler at 0x22f67ca9150>"
      ]
     },
     "execution_count": 14,
     "metadata": {},
     "output_type": "execute_result"
    }
   ],
   "source": [
    "# Get the count of observations for each restaurant name\n",
    "restaurant_counts = df['restaurant_name'].value_counts()\n",
    "\n",
    "# Calculate the percentage of counts\n",
    "restaurant_percentage = (restaurant_counts / restaurant_counts.sum()) * 100\n",
    "\n",
    "# Rank the restaurants based on the count of observations using ABC method\n",
    "restaurant_ranks = pd.qcut(restaurant_counts, q=[0, 0.8, 0.95, 1], labels=['C', 'B', 'A'])\n",
    "\n",
    "# Create a new DataFrame to store the counts, percentage, and ABC ranks\n",
    "restaurant_summary = pd.DataFrame({'Count': restaurant_counts, 'Percentage': restaurant_percentage, 'ABC Rank': restaurant_ranks})\n",
    "\n",
    "# Calculate the percentage of A, B, and C restaurants\n",
    "abc_percentage = restaurant_summary['ABC Rank'].value_counts(normalize=True) * 100\n",
    "\n",
    "# Calculate the counts of A, B, and C restaurants\n",
    "abc_counts = restaurant_summary['ABC Rank'].value_counts()\n",
    "\n",
    "# Create a new DataFrame to store the counts, percentage, and counts of A, B, and C restaurants\n",
    "abc_summary_table = pd.DataFrame({'Count': abc_counts, 'Percentage': abc_percentage})\n",
    "\n",
    "# Display the DataFrame\n",
    "#with pd.option_context('display.max_rows', None):\n",
    "    #print(abc_summary_table)\n",
    "    \n",
    "# Format the DataFrame for display\n",
    "styled_table = abc_summary_table.style.format({\n",
    "    'Percentage': '{:.2f}%'\n",
    "}).set_properties(**{'text-align': 'center'})\n",
    "\n",
    "# Display the styled table\n",
    "styled_table"
   ]
  },
  {
   "cell_type": "code",
   "execution_count": 15,
   "metadata": {},
   "outputs": [
    {
     "data": {
      "image/png": "[encoded data removed]",
      "text/plain": [
       "<Figure size 800x400 with 1 Axes>"
      ]
     },
     "metadata": {},
     "output_type": "display_data"
    }
   ],
   "source": [
    "# Create a bar chart of the count column with numeric detail displayed\n",
    "plt.figure(figsize=(8, 4))\n",
    "bars = plt.bar(abc_summary_table.index, abc_summary_table['Count'], color='blue')\n",
    "\n",
    "# Add count values as annotations\n",
    "for bar in bars:\n",
    "    yval = bar.get_height()\n",
    "    plt.text(bar.get_x() + bar.get_width()/2, yval, int(yval), va='bottom', ha='center', fontsize=10)\n",
    "\n",
    "plt.title('Count of Restaurants by ABC Rank', fontsize=10)\n",
    "plt.xlabel('ABC Rank')\n",
    "plt.ylabel('Count')\n",
    "plt.xticks(rotation=0)\n",
    "plt.tight_layout()\n",
    "plt.show()"
   ]
  },
  {
   "cell_type": "code",
   "execution_count": 16,
   "metadata": {
    "scrolled": true
   },
   "outputs": [
    {
     "name": "stdout",
     "output_type": "stream",
     "text": [
      "                           Count  Percentage ABC Rank\n",
      "restaurant_name                                      \n",
      "Shake Shack                  219   11.538462        A\n",
      "The Meatball Shop            132    6.954689        A\n",
      "Blue Ribbon Sushi            119    6.269758        A\n",
      "Blue Ribbon Fried Chicken     96    5.057956        A\n",
      "Parm                          68    3.582719        A\n",
      "RedFarm Broadway              59    3.108535        A\n",
      "RedFarm Hudson                55    2.897787        A\n",
      "TAO                           49    2.581665        A\n",
      "Han Dynasty                   46    2.423604        A\n"
     ]
    }
   ],
   "source": [
    "# Filter the restaurant_summary DataFrame to get only \"A\" ranked restaurants\n",
    "a_restaurants = restaurant_summary[restaurant_summary['ABC Rank'] == 'A']\n",
    "\n",
    "# Display the list of \"A\" ranked restaurants\n",
    "print(a_restaurants)"
   ]
  },
  {
   "cell_type": "markdown",
   "metadata": {},
   "source": [
    "### B. ABC ANALYSIS BY cost_of_the_order"
   ]
  },
  {
   "cell_type": "code",
   "execution_count": 17,
   "metadata": {
    "scrolled": false
   },
   "outputs": [
    {
     "data": {
      "text/html": [
       "<style type=\"text/css\">\n",
       "#T_6c163_row0_col0, #T_6c163_row0_col1, #T_6c163_row0_col2, #T_6c163_row1_col0, #T_6c163_row1_col1, #T_6c163_row1_col2, #T_6c163_row2_col0, #T_6c163_row2_col1, #T_6c163_row2_col2, #T_6c163_row3_col0, #T_6c163_row3_col1, #T_6c163_row3_col2, #T_6c163_row4_col0, #T_6c163_row4_col1, #T_6c163_row4_col2, #T_6c163_row5_col0, #T_6c163_row5_col1, #T_6c163_row5_col2, #T_6c163_row6_col0, #T_6c163_row6_col1, #T_6c163_row6_col2, #T_6c163_row7_col0, #T_6c163_row7_col1, #T_6c163_row7_col2, #T_6c163_row8_col0, #T_6c163_row8_col1, #T_6c163_row8_col2, #T_6c163_row9_col0, #T_6c163_row9_col1, #T_6c163_row9_col2, #T_6c163_row10_col0, #T_6c163_row10_col1, #T_6c163_row10_col2, #T_6c163_row11_col0, #T_6c163_row11_col1, #T_6c163_row11_col2, #T_6c163_row12_col0, #T_6c163_row12_col1, #T_6c163_row12_col2, #T_6c163_row13_col0, #T_6c163_row13_col1, #T_6c163_row13_col2, #T_6c163_row14_col0, #T_6c163_row14_col1, #T_6c163_row14_col2, #T_6c163_row15_col0, #T_6c163_row15_col1, #T_6c163_row15_col2, #T_6c163_row16_col0, #T_6c163_row16_col1, #T_6c163_row16_col2, #T_6c163_row17_col0, #T_6c163_row17_col1, #T_6c163_row17_col2, #T_6c163_row18_col0, #T_6c163_row18_col1, #T_6c163_row18_col2, #T_6c163_row19_col0, #T_6c163_row19_col1, #T_6c163_row19_col2, #T_6c163_row20_col0, #T_6c163_row20_col1, #T_6c163_row20_col2, #T_6c163_row21_col0, #T_6c163_row21_col1, #T_6c163_row21_col2, #T_6c163_row22_col0, #T_6c163_row22_col1, #T_6c163_row22_col2, #T_6c163_row23_col0, #T_6c163_row23_col1, #T_6c163_row23_col2, #T_6c163_row24_col0, #T_6c163_row24_col1, #T_6c163_row24_col2, #T_6c163_row25_col0, #T_6c163_row25_col1, #T_6c163_row25_col2, #T_6c163_row26_col0, #T_6c163_row26_col1, #T_6c163_row26_col2, #T_6c163_row27_col0, #T_6c163_row27_col1, #T_6c163_row27_col2, #T_6c163_row28_col0, #T_6c163_row28_col1, #T_6c163_row28_col2, #T_6c163_row29_col0, #T_6c163_row29_col1, #T_6c163_row29_col2, #T_6c163_row30_col0, #T_6c163_row30_col1, #T_6c163_row30_col2, #T_6c163_row31_col0, #T_6c163_row31_col1, #T_6c163_row31_col2, #T_6c163_row32_col0, #T_6c163_row32_col1, #T_6c163_row32_col2, #T_6c163_row33_col0, #T_6c163_row33_col1, #T_6c163_row33_col2, #T_6c163_row34_col0, #T_6c163_row34_col1, #T_6c163_row34_col2, #T_6c163_row35_col0, #T_6c163_row35_col1, #T_6c163_row35_col2, #T_6c163_row36_col0, #T_6c163_row36_col1, #T_6c163_row36_col2, #T_6c163_row37_col0, #T_6c163_row37_col1, #T_6c163_row37_col2, #T_6c163_row38_col0, #T_6c163_row38_col1, #T_6c163_row38_col2, #T_6c163_row39_col0, #T_6c163_row39_col1, #T_6c163_row39_col2, #T_6c163_row40_col0, #T_6c163_row40_col1, #T_6c163_row40_col2, #T_6c163_row41_col0, #T_6c163_row41_col1, #T_6c163_row41_col2, #T_6c163_row42_col0, #T_6c163_row42_col1, #T_6c163_row42_col2, #T_6c163_row43_col0, #T_6c163_row43_col1, #T_6c163_row43_col2, #T_6c163_row44_col0, #T_6c163_row44_col1, #T_6c163_row44_col2, #T_6c163_row45_col0, #T_6c163_row45_col1, #T_6c163_row45_col2, #T_6c163_row46_col0, #T_6c163_row46_col1, #T_6c163_row46_col2, #T_6c163_row47_col0, #T_6c163_row47_col1, #T_6c163_row47_col2, #T_6c163_row48_col0, #T_6c163_row48_col1, #T_6c163_row48_col2, #T_6c163_row49_col0, #T_6c163_row49_col1, #T_6c163_row49_col2, #T_6c163_row50_col0, #T_6c163_row50_col1, #T_6c163_row50_col2, #T_6c163_row51_col0, #T_6c163_row51_col1, #T_6c163_row51_col2, #T_6c163_row52_col0, #T_6c163_row52_col1, #T_6c163_row52_col2, #T_6c163_row53_col0, #T_6c163_row53_col1, #T_6c163_row53_col2, #T_6c163_row54_col0, #T_6c163_row54_col1, #T_6c163_row54_col2, #T_6c163_row55_col0, #T_6c163_row55_col1, #T_6c163_row55_col2, #T_6c163_row56_col0, #T_6c163_row56_col1, #T_6c163_row56_col2, #T_6c163_row57_col0, #T_6c163_row57_col1, #T_6c163_row57_col2, #T_6c163_row58_col0, #T_6c163_row58_col1, #T_6c163_row58_col2, #T_6c163_row59_col0, #T_6c163_row59_col1, #T_6c163_row59_col2, #T_6c163_row60_col0, #T_6c163_row60_col1, #T_6c163_row60_col2, #T_6c163_row61_col0, #T_6c163_row61_col1, #T_6c163_row61_col2, #T_6c163_row62_col0, #T_6c163_row62_col1, #T_6c163_row62_col2, #T_6c163_row63_col0, #T_6c163_row63_col1, #T_6c163_row63_col2, #T_6c163_row64_col0, #T_6c163_row64_col1, #T_6c163_row64_col2, #T_6c163_row65_col0, #T_6c163_row65_col1, #T_6c163_row65_col2, #T_6c163_row66_col0, #T_6c163_row66_col1, #T_6c163_row66_col2, #T_6c163_row67_col0, #T_6c163_row67_col1, #T_6c163_row67_col2, #T_6c163_row68_col0, #T_6c163_row68_col1, #T_6c163_row68_col2, #T_6c163_row69_col0, #T_6c163_row69_col1, #T_6c163_row69_col2, #T_6c163_row70_col0, #T_6c163_row70_col1, #T_6c163_row70_col2, #T_6c163_row71_col0, #T_6c163_row71_col1, #T_6c163_row71_col2, #T_6c163_row72_col0, #T_6c163_row72_col1, #T_6c163_row72_col2, #T_6c163_row73_col0, #T_6c163_row73_col1, #T_6c163_row73_col2, #T_6c163_row74_col0, #T_6c163_row74_col1, #T_6c163_row74_col2, #T_6c163_row75_col0, #T_6c163_row75_col1, #T_6c163_row75_col2, #T_6c163_row76_col0, #T_6c163_row76_col1, #T_6c163_row76_col2, #T_6c163_row77_col0, #T_6c163_row77_col1, #T_6c163_row77_col2, #T_6c163_row78_col0, #T_6c163_row78_col1, #T_6c163_row78_col2, #T_6c163_row79_col0, #T_6c163_row79_col1, #T_6c163_row79_col2, #T_6c163_row80_col0, #T_6c163_row80_col1, #T_6c163_row80_col2, #T_6c163_row81_col0, #T_6c163_row81_col1, #T_6c163_row81_col2, #T_6c163_row82_col0, #T_6c163_row82_col1, #T_6c163_row82_col2, #T_6c163_row83_col0, #T_6c163_row83_col1, #T_6c163_row83_col2, #T_6c163_row84_col0, #T_6c163_row84_col1, #T_6c163_row84_col2, #T_6c163_row85_col0, #T_6c163_row85_col1, #T_6c163_row85_col2, #T_6c163_row86_col0, #T_6c163_row86_col1, #T_6c163_row86_col2, #T_6c163_row87_col0, #T_6c163_row87_col1, #T_6c163_row87_col2, #T_6c163_row88_col0, #T_6c163_row88_col1, #T_6c163_row88_col2, #T_6c163_row89_col0, #T_6c163_row89_col1, #T_6c163_row89_col2, #T_6c163_row90_col0, #T_6c163_row90_col1, #T_6c163_row90_col2, #T_6c163_row91_col0, #T_6c163_row91_col1, #T_6c163_row91_col2, #T_6c163_row92_col0, #T_6c163_row92_col1, #T_6c163_row92_col2, #T_6c163_row93_col0, #T_6c163_row93_col1, #T_6c163_row93_col2, #T_6c163_row94_col0, #T_6c163_row94_col1, #T_6c163_row94_col2, #T_6c163_row95_col0, #T_6c163_row95_col1, #T_6c163_row95_col2, #T_6c163_row96_col0, #T_6c163_row96_col1, #T_6c163_row96_col2, #T_6c163_row97_col0, #T_6c163_row97_col1, #T_6c163_row97_col2, #T_6c163_row98_col0, #T_6c163_row98_col1, #T_6c163_row98_col2, #T_6c163_row99_col0, #T_6c163_row99_col1, #T_6c163_row99_col2, #T_6c163_row100_col0, #T_6c163_row100_col1, #T_6c163_row100_col2, #T_6c163_row101_col0, #T_6c163_row101_col1, #T_6c163_row101_col2, #T_6c163_row102_col0, #T_6c163_row102_col1, #T_6c163_row102_col2, #T_6c163_row103_col0, #T_6c163_row103_col1, #T_6c163_row103_col2, #T_6c163_row104_col0, #T_6c163_row104_col1, #T_6c163_row104_col2, #T_6c163_row105_col0, #T_6c163_row105_col1, #T_6c163_row105_col2, #T_6c163_row106_col0, #T_6c163_row106_col1, #T_6c163_row106_col2, #T_6c163_row107_col0, #T_6c163_row107_col1, #T_6c163_row107_col2, #T_6c163_row108_col0, #T_6c163_row108_col1, #T_6c163_row108_col2, #T_6c163_row109_col0, #T_6c163_row109_col1, #T_6c163_row109_col2, #T_6c163_row110_col0, #T_6c163_row110_col1, #T_6c163_row110_col2, #T_6c163_row111_col0, #T_6c163_row111_col1, #T_6c163_row111_col2, #T_6c163_row112_col0, #T_6c163_row112_col1, #T_6c163_row112_col2, #T_6c163_row113_col0, #T_6c163_row113_col1, #T_6c163_row113_col2, #T_6c163_row114_col0, #T_6c163_row114_col1, #T_6c163_row114_col2, #T_6c163_row115_col0, #T_6c163_row115_col1, #T_6c163_row115_col2, #T_6c163_row116_col0, #T_6c163_row116_col1, #T_6c163_row116_col2, #T_6c163_row117_col0, #T_6c163_row117_col1, #T_6c163_row117_col2, #T_6c163_row118_col0, #T_6c163_row118_col1, #T_6c163_row118_col2, #T_6c163_row119_col0, #T_6c163_row119_col1, #T_6c163_row119_col2, #T_6c163_row120_col0, #T_6c163_row120_col1, #T_6c163_row120_col2, #T_6c163_row121_col0, #T_6c163_row121_col1, #T_6c163_row121_col2, #T_6c163_row122_col0, #T_6c163_row122_col1, #T_6c163_row122_col2, #T_6c163_row123_col0, #T_6c163_row123_col1, #T_6c163_row123_col2, #T_6c163_row124_col0, #T_6c163_row124_col1, #T_6c163_row124_col2, #T_6c163_row125_col0, #T_6c163_row125_col1, #T_6c163_row125_col2, #T_6c163_row126_col0, #T_6c163_row126_col1, #T_6c163_row126_col2, #T_6c163_row127_col0, #T_6c163_row127_col1, #T_6c163_row127_col2, #T_6c163_row128_col0, #T_6c163_row128_col1, #T_6c163_row128_col2, #T_6c163_row129_col0, #T_6c163_row129_col1, #T_6c163_row129_col2, #T_6c163_row130_col0, #T_6c163_row130_col1, #T_6c163_row130_col2, #T_6c163_row131_col0, #T_6c163_row131_col1, #T_6c163_row131_col2, #T_6c163_row132_col0, #T_6c163_row132_col1, #T_6c163_row132_col2, #T_6c163_row133_col0, #T_6c163_row133_col1, #T_6c163_row133_col2, #T_6c163_row134_col0, #T_6c163_row134_col1, #T_6c163_row134_col2, #T_6c163_row135_col0, #T_6c163_row135_col1, #T_6c163_row135_col2, #T_6c163_row136_col0, #T_6c163_row136_col1, #T_6c163_row136_col2, #T_6c163_row137_col0, #T_6c163_row137_col1, #T_6c163_row137_col2, #T_6c163_row138_col0, #T_6c163_row138_col1, #T_6c163_row138_col2, #T_6c163_row139_col0, #T_6c163_row139_col1, #T_6c163_row139_col2, #T_6c163_row140_col0, #T_6c163_row140_col1, #T_6c163_row140_col2, #T_6c163_row141_col0, #T_6c163_row141_col1, #T_6c163_row141_col2, #T_6c163_row142_col0, #T_6c163_row142_col1, #T_6c163_row142_col2, #T_6c163_row143_col0, #T_6c163_row143_col1, #T_6c163_row143_col2, #T_6c163_row144_col0, #T_6c163_row144_col1, #T_6c163_row144_col2, #T_6c163_row145_col0, #T_6c163_row145_col1, #T_6c163_row145_col2, #T_6c163_row146_col0, #T_6c163_row146_col1, #T_6c163_row146_col2, #T_6c163_row147_col0, #T_6c163_row147_col1, #T_6c163_row147_col2, #T_6c163_row148_col0, #T_6c163_row148_col1, #T_6c163_row148_col2, #T_6c163_row149_col0, #T_6c163_row149_col1, #T_6c163_row149_col2, #T_6c163_row150_col0, #T_6c163_row150_col1, #T_6c163_row150_col2, #T_6c163_row151_col0, #T_6c163_row151_col1, #T_6c163_row151_col2, #T_6c163_row152_col0, #T_6c163_row152_col1, #T_6c163_row152_col2, #T_6c163_row153_col0, #T_6c163_row153_col1, #T_6c163_row153_col2, #T_6c163_row154_col0, #T_6c163_row154_col1, #T_6c163_row154_col2, #T_6c163_row155_col0, #T_6c163_row155_col1, #T_6c163_row155_col2, #T_6c163_row156_col0, #T_6c163_row156_col1, #T_6c163_row156_col2, #T_6c163_row157_col0, #T_6c163_row157_col1, #T_6c163_row157_col2, #T_6c163_row158_col0, #T_6c163_row158_col1, #T_6c163_row158_col2, #T_6c163_row159_col0, #T_6c163_row159_col1, #T_6c163_row159_col2, #T_6c163_row160_col0, #T_6c163_row160_col1, #T_6c163_row160_col2, #T_6c163_row161_col0, #T_6c163_row161_col1, #T_6c163_row161_col2, #T_6c163_row162_col0, #T_6c163_row162_col1, #T_6c163_row162_col2, #T_6c163_row163_col0, #T_6c163_row163_col1, #T_6c163_row163_col2, #T_6c163_row164_col0, #T_6c163_row164_col1, #T_6c163_row164_col2, #T_6c163_row165_col0, #T_6c163_row165_col1, #T_6c163_row165_col2, #T_6c163_row166_col0, #T_6c163_row166_col1, #T_6c163_row166_col2, #T_6c163_row167_col0, #T_6c163_row167_col1, #T_6c163_row167_col2, #T_6c163_row168_col0, #T_6c163_row168_col1, #T_6c163_row168_col2, #T_6c163_row169_col0, #T_6c163_row169_col1, #T_6c163_row169_col2, #T_6c163_row170_col0, #T_6c163_row170_col1, #T_6c163_row170_col2, #T_6c163_row171_col0, #T_6c163_row171_col1, #T_6c163_row171_col2, #T_6c163_row172_col0, #T_6c163_row172_col1, #T_6c163_row172_col2, #T_6c163_row173_col0, #T_6c163_row173_col1, #T_6c163_row173_col2, #T_6c163_row174_col0, #T_6c163_row174_col1, #T_6c163_row174_col2, #T_6c163_row175_col0, #T_6c163_row175_col1, #T_6c163_row175_col2, #T_6c163_row176_col0, #T_6c163_row176_col1, #T_6c163_row176_col2, #T_6c163_row177_col0, #T_6c163_row177_col1, #T_6c163_row177_col2 {\n",
       "  text-align: center;\n",
       "}\n",
       "</style>\n",
       "<table id=\"T_6c163\">\n",
       "  <thead>\n",
       "    <tr>\n",
       "      <th class=\"blank level0\" >&nbsp;</th>\n",
       "      <th id=\"T_6c163_level0_col0\" class=\"col_heading level0 col0\" >Total Cost</th>\n",
       "      <th id=\"T_6c163_level0_col1\" class=\"col_heading level0 col1\" >Percentage</th>\n",
       "      <th id=\"T_6c163_level0_col2\" class=\"col_heading level0 col2\" >ABC Rank</th>\n",
       "    </tr>\n",
       "    <tr>\n",
       "      <th class=\"index_name level0\" >restaurant_name</th>\n",
       "      <th class=\"blank col0\" >&nbsp;</th>\n",
       "      <th class=\"blank col1\" >&nbsp;</th>\n",
       "      <th class=\"blank col2\" >&nbsp;</th>\n",
       "    </tr>\n",
       "  </thead>\n",
       "  <tbody>\n",
       "    <tr>\n",
       "      <th id=\"T_6c163_level0_row0\" class=\"row_heading level0 row0\" >Shake Shack</th>\n",
       "      <td id=\"T_6c163_row0_col0\" class=\"data row0 col0\" >3579.530000</td>\n",
       "      <td id=\"T_6c163_row0_col1\" class=\"data row0 col1\" >11.43%</td>\n",
       "      <td id=\"T_6c163_row0_col2\" class=\"data row0 col2\" >A</td>\n",
       "    </tr>\n",
       "    <tr>\n",
       "      <th id=\"T_6c163_level0_row1\" class=\"row_heading level0 row1\" >The Meatball Shop</th>\n",
       "      <td id=\"T_6c163_row1_col0\" class=\"data row1 col0\" >2145.210000</td>\n",
       "      <td id=\"T_6c163_row1_col1\" class=\"data row1 col1\" >6.85%</td>\n",
       "      <td id=\"T_6c163_row1_col2\" class=\"data row1 col2\" >A</td>\n",
       "    </tr>\n",
       "    <tr>\n",
       "      <th id=\"T_6c163_level0_row2\" class=\"row_heading level0 row2\" >Blue Ribbon Sushi</th>\n",
       "      <td id=\"T_6c163_row2_col0\" class=\"data row2 col0\" >1903.950000</td>\n",
       "      <td id=\"T_6c163_row2_col1\" class=\"data row2 col1\" >6.08%</td>\n",
       "      <td id=\"T_6c163_row2_col2\" class=\"data row2 col2\" >A</td>\n",
       "    </tr>\n",
       "    <tr>\n",
       "      <th id=\"T_6c163_level0_row3\" class=\"row_heading level0 row3\" >Blue Ribbon Fried Chicken</th>\n",
       "      <td id=\"T_6c163_row3_col0\" class=\"data row3 col0\" >1662.290000</td>\n",
       "      <td id=\"T_6c163_row3_col1\" class=\"data row3 col1\" >5.31%</td>\n",
       "      <td id=\"T_6c163_row3_col2\" class=\"data row3 col2\" >A</td>\n",
       "    </tr>\n",
       "    <tr>\n",
       "      <th id=\"T_6c163_level0_row4\" class=\"row_heading level0 row4\" >Parm</th>\n",
       "      <td id=\"T_6c163_row4_col0\" class=\"data row4 col0\" >1112.760000</td>\n",
       "      <td id=\"T_6c163_row4_col1\" class=\"data row4 col1\" >3.55%</td>\n",
       "      <td id=\"T_6c163_row4_col2\" class=\"data row4 col2\" >A</td>\n",
       "    </tr>\n",
       "    <tr>\n",
       "      <th id=\"T_6c163_level0_row5\" class=\"row_heading level0 row5\" >RedFarm Broadway</th>\n",
       "      <td id=\"T_6c163_row5_col0\" class=\"data row5 col0\" >965.130000</td>\n",
       "      <td id=\"T_6c163_row5_col1\" class=\"data row5 col1\" >3.08%</td>\n",
       "      <td id=\"T_6c163_row5_col2\" class=\"data row5 col2\" >A</td>\n",
       "    </tr>\n",
       "    <tr>\n",
       "      <th id=\"T_6c163_level0_row6\" class=\"row_heading level0 row6\" >RedFarm Hudson</th>\n",
       "      <td id=\"T_6c163_row6_col0\" class=\"data row6 col0\" >921.210000</td>\n",
       "      <td id=\"T_6c163_row6_col1\" class=\"data row6 col1\" >2.94%</td>\n",
       "      <td id=\"T_6c163_row6_col2\" class=\"data row6 col2\" >A</td>\n",
       "    </tr>\n",
       "    <tr>\n",
       "      <th id=\"T_6c163_level0_row7\" class=\"row_heading level0 row7\" >TAO</th>\n",
       "      <td id=\"T_6c163_row7_col0\" class=\"data row7 col0\" >834.500000</td>\n",
       "      <td id=\"T_6c163_row7_col1\" class=\"data row7 col1\" >2.66%</td>\n",
       "      <td id=\"T_6c163_row7_col2\" class=\"data row7 col2\" >A</td>\n",
       "    </tr>\n",
       "    <tr>\n",
       "      <th id=\"T_6c163_level0_row8\" class=\"row_heading level0 row8\" >Han Dynasty</th>\n",
       "      <td id=\"T_6c163_row8_col0\" class=\"data row8 col0\" >755.290000</td>\n",
       "      <td id=\"T_6c163_row8_col1\" class=\"data row8 col1\" >2.41%</td>\n",
       "      <td id=\"T_6c163_row8_col2\" class=\"data row8 col2\" >A</td>\n",
       "    </tr>\n",
       "    <tr>\n",
       "      <th id=\"T_6c163_level0_row9\" class=\"row_heading level0 row9\" >Blue Ribbon Sushi Bar & Grill</th>\n",
       "      <td id=\"T_6c163_row9_col0\" class=\"data row9 col0\" >666.620000</td>\n",
       "      <td id=\"T_6c163_row9_col1\" class=\"data row9 col1\" >2.13%</td>\n",
       "      <td id=\"T_6c163_row9_col2\" class=\"data row9 col2\" >B</td>\n",
       "    </tr>\n",
       "    <tr>\n",
       "      <th id=\"T_6c163_level0_row10\" class=\"row_heading level0 row10\" >Rubirosa</th>\n",
       "      <td id=\"T_6c163_row10_col0\" class=\"data row10 col0\" >660.450000</td>\n",
       "      <td id=\"T_6c163_row10_col1\" class=\"data row10 col1\" >2.11%</td>\n",
       "      <td id=\"T_6c163_row10_col2\" class=\"data row10 col2\" >B</td>\n",
       "    </tr>\n",
       "    <tr>\n",
       "      <th id=\"T_6c163_level0_row11\" class=\"row_heading level0 row11\" >Sushi of Gari 46</th>\n",
       "      <td id=\"T_6c163_row11_col0\" class=\"data row11 col0\" >640.870000</td>\n",
       "      <td id=\"T_6c163_row11_col1\" class=\"data row11 col1\" >2.05%</td>\n",
       "      <td id=\"T_6c163_row11_col2\" class=\"data row11 col2\" >B</td>\n",
       "    </tr>\n",
       "    <tr>\n",
       "      <th id=\"T_6c163_level0_row12\" class=\"row_heading level0 row12\" >Nobu Next Door</th>\n",
       "      <td id=\"T_6c163_row12_col0\" class=\"data row12 col0\" >623.670000</td>\n",
       "      <td id=\"T_6c163_row12_col1\" class=\"data row12 col1\" >1.99%</td>\n",
       "      <td id=\"T_6c163_row12_col2\" class=\"data row12 col2\" >B</td>\n",
       "    </tr>\n",
       "    <tr>\n",
       "      <th id=\"T_6c163_level0_row13\" class=\"row_heading level0 row13\" >Five Guys Burgers and Fries</th>\n",
       "      <td id=\"T_6c163_row13_col0\" class=\"data row13 col0\" >506.470000</td>\n",
       "      <td id=\"T_6c163_row13_col1\" class=\"data row13 col1\" >1.62%</td>\n",
       "      <td id=\"T_6c163_row13_col2\" class=\"data row13 col2\" >B</td>\n",
       "    </tr>\n",
       "    <tr>\n",
       "      <th id=\"T_6c163_level0_row14\" class=\"row_heading level0 row14\" >Momoya</th>\n",
       "      <td id=\"T_6c163_row14_col0\" class=\"data row14 col0\" >492.130000</td>\n",
       "      <td id=\"T_6c163_row14_col1\" class=\"data row14 col1\" >1.57%</td>\n",
       "      <td id=\"T_6c163_row14_col2\" class=\"data row14 col2\" >B</td>\n",
       "    </tr>\n",
       "    <tr>\n",
       "      <th id=\"T_6c163_level0_row15\" class=\"row_heading level0 row15\" >Chipotle Mexican Grill $1.99 Delivery</th>\n",
       "      <td id=\"T_6c163_row15_col0\" class=\"data row15 col0\" >491.690000</td>\n",
       "      <td id=\"T_6c163_row15_col1\" class=\"data row15 col1\" >1.57%</td>\n",
       "      <td id=\"T_6c163_row15_col2\" class=\"data row15 col2\" >B</td>\n",
       "    </tr>\n",
       "    <tr>\n",
       "      <th id=\"T_6c163_level0_row16\" class=\"row_heading level0 row16\" >Blue Ribbon Sushi Izakaya</th>\n",
       "      <td id=\"T_6c163_row16_col0\" class=\"data row16 col0\" >485.090000</td>\n",
       "      <td id=\"T_6c163_row16_col1\" class=\"data row16 col1\" >1.55%</td>\n",
       "      <td id=\"T_6c163_row16_col2\" class=\"data row16 col2\" >B</td>\n",
       "    </tr>\n",
       "    <tr>\n",
       "      <th id=\"T_6c163_level0_row17\" class=\"row_heading level0 row17\" >Tamarind TriBeCa</th>\n",
       "      <td id=\"T_6c163_row17_col0\" class=\"data row17 col0\" >426.710000</td>\n",
       "      <td id=\"T_6c163_row17_col1\" class=\"data row17 col1\" >1.36%</td>\n",
       "      <td id=\"T_6c163_row17_col2\" class=\"data row17 col2\" >B</td>\n",
       "    </tr>\n",
       "    <tr>\n",
       "      <th id=\"T_6c163_level0_row18\" class=\"row_heading level0 row18\" >Jack's Wife Freda</th>\n",
       "      <td id=\"T_6c163_row18_col0\" class=\"data row18 col0\" >416.750000</td>\n",
       "      <td id=\"T_6c163_row18_col1\" class=\"data row18 col1\" >1.33%</td>\n",
       "      <td id=\"T_6c163_row18_col2\" class=\"data row18 col2\" >B</td>\n",
       "    </tr>\n",
       "    <tr>\n",
       "      <th id=\"T_6c163_level0_row19\" class=\"row_heading level0 row19\" >Bareburger</th>\n",
       "      <td id=\"T_6c163_row19_col0\" class=\"data row19 col0\" >399.740000</td>\n",
       "      <td id=\"T_6c163_row19_col1\" class=\"data row19 col1\" >1.28%</td>\n",
       "      <td id=\"T_6c163_row19_col2\" class=\"data row19 col2\" >B</td>\n",
       "    </tr>\n",
       "    <tr>\n",
       "      <th id=\"T_6c163_level0_row20\" class=\"row_heading level0 row20\" >Sushi of Gari Tribeca</th>\n",
       "      <td id=\"T_6c163_row20_col0\" class=\"data row20 col0\" >375.790000</td>\n",
       "      <td id=\"T_6c163_row20_col1\" class=\"data row20 col1\" >1.20%</td>\n",
       "      <td id=\"T_6c163_row20_col2\" class=\"data row20 col2\" >B</td>\n",
       "    </tr>\n",
       "    <tr>\n",
       "      <th id=\"T_6c163_level0_row21\" class=\"row_heading level0 row21\" >ilili Restaurant</th>\n",
       "      <td id=\"T_6c163_row21_col0\" class=\"data row21 col0\" >343.220000</td>\n",
       "      <td id=\"T_6c163_row21_col1\" class=\"data row21 col1\" >1.10%</td>\n",
       "      <td id=\"T_6c163_row21_col2\" class=\"data row21 col2\" >B</td>\n",
       "    </tr>\n",
       "    <tr>\n",
       "      <th id=\"T_6c163_level0_row22\" class=\"row_heading level0 row22\" >Cafe Mogador</th>\n",
       "      <td id=\"T_6c163_row22_col0\" class=\"data row22 col0\" >329.720000</td>\n",
       "      <td id=\"T_6c163_row22_col1\" class=\"data row22 col1\" >1.05%</td>\n",
       "      <td id=\"T_6c163_row22_col2\" class=\"data row22 col2\" >B</td>\n",
       "    </tr>\n",
       "    <tr>\n",
       "      <th id=\"T_6c163_level0_row23\" class=\"row_heading level0 row23\" >The Kati Roll Company</th>\n",
       "      <td id=\"T_6c163_row23_col0\" class=\"data row23 col0\" >302.140000</td>\n",
       "      <td id=\"T_6c163_row23_col1\" class=\"data row23 col1\" >0.96%</td>\n",
       "      <td id=\"T_6c163_row23_col2\" class=\"data row23 col2\" >B</td>\n",
       "    </tr>\n",
       "    <tr>\n",
       "      <th id=\"T_6c163_level0_row24\" class=\"row_heading level0 row24\" >Westville Hudson</th>\n",
       "      <td id=\"T_6c163_row24_col0\" class=\"data row24 col0\" >292.590000</td>\n",
       "      <td id=\"T_6c163_row24_col1\" class=\"data row24 col1\" >0.93%</td>\n",
       "      <td id=\"T_6c163_row24_col2\" class=\"data row24 col2\" >B</td>\n",
       "    </tr>\n",
       "    <tr>\n",
       "      <th id=\"T_6c163_level0_row25\" class=\"row_heading level0 row25\" >Hill Country Fried Chicken</th>\n",
       "      <td id=\"T_6c163_row25_col0\" class=\"data row25 col0\" >292.390000</td>\n",
       "      <td id=\"T_6c163_row25_col1\" class=\"data row25 col1\" >0.93%</td>\n",
       "      <td id=\"T_6c163_row25_col2\" class=\"data row25 col2\" >B</td>\n",
       "    </tr>\n",
       "    <tr>\n",
       "      <th id=\"T_6c163_level0_row26\" class=\"row_heading level0 row26\" >Sushi of Gari</th>\n",
       "      <td id=\"T_6c163_row26_col0\" class=\"data row26 col0\" >291.180000</td>\n",
       "      <td id=\"T_6c163_row26_col1\" class=\"data row26 col1\" >0.93%</td>\n",
       "      <td id=\"T_6c163_row26_col2\" class=\"data row26 col2\" >B</td>\n",
       "    </tr>\n",
       "    <tr>\n",
       "      <th id=\"T_6c163_level0_row27\" class=\"row_heading level0 row27\" >P.J. Clarke's</th>\n",
       "      <td id=\"T_6c163_row27_col0\" class=\"data row27 col0\" >280.950000</td>\n",
       "      <td id=\"T_6c163_row27_col1\" class=\"data row27 col1\" >0.90%</td>\n",
       "      <td id=\"T_6c163_row27_col2\" class=\"data row27 col2\" >B</td>\n",
       "    </tr>\n",
       "    <tr>\n",
       "      <th id=\"T_6c163_level0_row28\" class=\"row_heading level0 row28\" >The Smile</th>\n",
       "      <td id=\"T_6c163_row28_col0\" class=\"data row28 col0\" >262.280000</td>\n",
       "      <td id=\"T_6c163_row28_col1\" class=\"data row28 col1\" >0.84%</td>\n",
       "      <td id=\"T_6c163_row28_col2\" class=\"data row28 col2\" >B</td>\n",
       "    </tr>\n",
       "    <tr>\n",
       "      <th id=\"T_6c163_level0_row29\" class=\"row_heading level0 row29\" >Yama Japanese Restaurant</th>\n",
       "      <td id=\"T_6c163_row29_col0\" class=\"data row29 col0\" >256.590000</td>\n",
       "      <td id=\"T_6c163_row29_col1\" class=\"data row29 col1\" >0.82%</td>\n",
       "      <td id=\"T_6c163_row29_col2\" class=\"data row29 col2\" >B</td>\n",
       "    </tr>\n",
       "    <tr>\n",
       "      <th id=\"T_6c163_level0_row30\" class=\"row_heading level0 row30\" >Cafe Habana</th>\n",
       "      <td id=\"T_6c163_row30_col0\" class=\"data row30 col0\" >217.310000</td>\n",
       "      <td id=\"T_6c163_row30_col1\" class=\"data row30 col1\" >0.69%</td>\n",
       "      <td id=\"T_6c163_row30_col2\" class=\"data row30 col2\" >B</td>\n",
       "    </tr>\n",
       "    <tr>\n",
       "      <th id=\"T_6c163_level0_row31\" class=\"row_heading level0 row31\" >Empanada Mama (closed)</th>\n",
       "      <td id=\"T_6c163_row31_col0\" class=\"data row31 col0\" >213.310000</td>\n",
       "      <td id=\"T_6c163_row31_col1\" class=\"data row31 col1\" >0.68%</td>\n",
       "      <td id=\"T_6c163_row31_col2\" class=\"data row31 col2\" >B</td>\n",
       "    </tr>\n",
       "    <tr>\n",
       "      <th id=\"T_6c163_level0_row32\" class=\"row_heading level0 row32\" >Otto Enoteca Pizzeria</th>\n",
       "      <td id=\"T_6c163_row32_col0\" class=\"data row32 col0\" >211.390000</td>\n",
       "      <td id=\"T_6c163_row32_col1\" class=\"data row32 col1\" >0.68%</td>\n",
       "      <td id=\"T_6c163_row32_col2\" class=\"data row32 col2\" >B</td>\n",
       "    </tr>\n",
       "    <tr>\n",
       "      <th id=\"T_6c163_level0_row33\" class=\"row_heading level0 row33\" >Vanessa's Dumplings</th>\n",
       "      <td id=\"T_6c163_row33_col0\" class=\"data row33 col0\" >205.930000</td>\n",
       "      <td id=\"T_6c163_row33_col1\" class=\"data row33 col1\" >0.66%</td>\n",
       "      <td id=\"T_6c163_row33_col2\" class=\"data row33 col2\" >B</td>\n",
       "    </tr>\n",
       "    <tr>\n",
       "      <th id=\"T_6c163_level0_row34\" class=\"row_heading level0 row34\" >J. G. Melon</th>\n",
       "      <td id=\"T_6c163_row34_col0\" class=\"data row34 col0\" >191.660000</td>\n",
       "      <td id=\"T_6c163_row34_col1\" class=\"data row34 col1\" >0.61%</td>\n",
       "      <td id=\"T_6c163_row34_col2\" class=\"data row34 col2\" >B</td>\n",
       "    </tr>\n",
       "    <tr>\n",
       "      <th id=\"T_6c163_level0_row35\" class=\"row_heading level0 row35\" >Balthazar Boulangerie</th>\n",
       "      <td id=\"T_6c163_row35_col0\" class=\"data row35 col0\" >187.010000</td>\n",
       "      <td id=\"T_6c163_row35_col1\" class=\"data row35 col1\" >0.60%</td>\n",
       "      <td id=\"T_6c163_row35_col2\" class=\"data row35 col2\" >B</td>\n",
       "    </tr>\n",
       "    <tr>\n",
       "      <th id=\"T_6c163_level0_row36\" class=\"row_heading level0 row36\" >Sushi Samba</th>\n",
       "      <td id=\"T_6c163_row36_col0\" class=\"data row36 col0\" >186.590000</td>\n",
       "      <td id=\"T_6c163_row36_col1\" class=\"data row36 col1\" >0.60%</td>\n",
       "      <td id=\"T_6c163_row36_col2\" class=\"data row36 col2\" >C</td>\n",
       "    </tr>\n",
       "    <tr>\n",
       "      <th id=\"T_6c163_level0_row37\" class=\"row_heading level0 row37\" >S'MAC</th>\n",
       "      <td id=\"T_6c163_row37_col0\" class=\"data row37 col0\" >182.580000</td>\n",
       "      <td id=\"T_6c163_row37_col1\" class=\"data row37 col1\" >0.58%</td>\n",
       "      <td id=\"T_6c163_row37_col2\" class=\"data row37 col2\" >C</td>\n",
       "    </tr>\n",
       "    <tr>\n",
       "      <th id=\"T_6c163_level0_row38\" class=\"row_heading level0 row38\" >Melt Shop</th>\n",
       "      <td id=\"T_6c163_row38_col0\" class=\"data row38 col0\" >177.380000</td>\n",
       "      <td id=\"T_6c163_row38_col1\" class=\"data row38 col1\" >0.57%</td>\n",
       "      <td id=\"T_6c163_row38_col2\" class=\"data row38 col2\" >C</td>\n",
       "    </tr>\n",
       "    <tr>\n",
       "      <th id=\"T_6c163_level0_row39\" class=\"row_heading level0 row39\" >Osteria Morini</th>\n",
       "      <td id=\"T_6c163_row39_col0\" class=\"data row39 col0\" >174.240000</td>\n",
       "      <td id=\"T_6c163_row39_col1\" class=\"data row39 col1\" >0.56%</td>\n",
       "      <td id=\"T_6c163_row39_col2\" class=\"data row39 col2\" >C</td>\n",
       "    </tr>\n",
       "    <tr>\n",
       "      <th id=\"T_6c163_level0_row40\" class=\"row_heading level0 row40\" >Boqueria</th>\n",
       "      <td id=\"T_6c163_row40_col0\" class=\"data row40 col0\" >169.670000</td>\n",
       "      <td id=\"T_6c163_row40_col1\" class=\"data row40 col1\" >0.54%</td>\n",
       "      <td id=\"T_6c163_row40_col2\" class=\"data row40 col2\" >C</td>\n",
       "    </tr>\n",
       "    <tr>\n",
       "      <th id=\"T_6c163_level0_row41\" class=\"row_heading level0 row41\" >Burger Joint</th>\n",
       "      <td id=\"T_6c163_row41_col0\" class=\"data row41 col0\" >154.710000</td>\n",
       "      <td id=\"T_6c163_row41_col1\" class=\"data row41 col1\" >0.49%</td>\n",
       "      <td id=\"T_6c163_row41_col2\" class=\"data row41 col2\" >C</td>\n",
       "    </tr>\n",
       "    <tr>\n",
       "      <th id=\"T_6c163_level0_row42\" class=\"row_heading level0 row42\" >Vanessa's Dumpling House</th>\n",
       "      <td id=\"T_6c163_row42_col0\" class=\"data row42 col0\" >127.850000</td>\n",
       "      <td id=\"T_6c163_row42_col1\" class=\"data row42 col1\" >0.41%</td>\n",
       "      <td id=\"T_6c163_row42_col2\" class=\"data row42 col2\" >C</td>\n",
       "    </tr>\n",
       "    <tr>\n",
       "      <th id=\"T_6c163_level0_row43\" class=\"row_heading level0 row43\" >Sarabeth's Restaurant</th>\n",
       "      <td id=\"T_6c163_row43_col0\" class=\"data row43 col0\" >127.820000</td>\n",
       "      <td id=\"T_6c163_row43_col1\" class=\"data row43 col1\" >0.41%</td>\n",
       "      <td id=\"T_6c163_row43_col2\" class=\"data row43 col2\" >C</td>\n",
       "    </tr>\n",
       "    <tr>\n",
       "      <th id=\"T_6c163_level0_row44\" class=\"row_heading level0 row44\" >Cafeteria</th>\n",
       "      <td id=\"T_6c163_row44_col0\" class=\"data row44 col0\" >125.100000</td>\n",
       "      <td id=\"T_6c163_row44_col1\" class=\"data row44 col1\" >0.40%</td>\n",
       "      <td id=\"T_6c163_row44_col2\" class=\"data row44 col2\" >C</td>\n",
       "    </tr>\n",
       "    <tr>\n",
       "      <th id=\"T_6c163_level0_row45\" class=\"row_heading level0 row45\" >L'Express</th>\n",
       "      <td id=\"T_6c163_row45_col0\" class=\"data row45 col0\" >124.070000</td>\n",
       "      <td id=\"T_6c163_row45_col1\" class=\"data row45 col1\" >0.40%</td>\n",
       "      <td id=\"T_6c163_row45_col2\" class=\"data row45 col2\" >C</td>\n",
       "    </tr>\n",
       "    <tr>\n",
       "      <th id=\"T_6c163_level0_row46\" class=\"row_heading level0 row46\" >Xi'an Famous Foods</th>\n",
       "      <td id=\"T_6c163_row46_col0\" class=\"data row46 col0\" >123.270000</td>\n",
       "      <td id=\"T_6c163_row46_col1\" class=\"data row46 col1\" >0.39%</td>\n",
       "      <td id=\"T_6c163_row46_col2\" class=\"data row46 col2\" >C</td>\n",
       "    </tr>\n",
       "    <tr>\n",
       "      <th id=\"T_6c163_level0_row47\" class=\"row_heading level0 row47\" >CafÌ© China</th>\n",
       "      <td id=\"T_6c163_row47_col0\" class=\"data row47 col0\" >119.370000</td>\n",
       "      <td id=\"T_6c163_row47_col1\" class=\"data row47 col1\" >0.38%</td>\n",
       "      <td id=\"T_6c163_row47_col2\" class=\"data row47 col2\" >C</td>\n",
       "    </tr>\n",
       "    <tr>\n",
       "      <th id=\"T_6c163_level0_row48\" class=\"row_heading level0 row48\" >Pepe Rosso To Go</th>\n",
       "      <td id=\"T_6c163_row48_col0\" class=\"data row48 col0\" >116.960000</td>\n",
       "      <td id=\"T_6c163_row48_col1\" class=\"data row48 col1\" >0.37%</td>\n",
       "      <td id=\"T_6c163_row48_col2\" class=\"data row48 col2\" >C</td>\n",
       "    </tr>\n",
       "    <tr>\n",
       "      <th id=\"T_6c163_level0_row49\" class=\"row_heading level0 row49\" >Junoon</th>\n",
       "      <td id=\"T_6c163_row49_col0\" class=\"data row49 col0\" >115.250000</td>\n",
       "      <td id=\"T_6c163_row49_col1\" class=\"data row49 col1\" >0.37%</td>\n",
       "      <td id=\"T_6c163_row49_col2\" class=\"data row49 col2\" >C</td>\n",
       "    </tr>\n",
       "    <tr>\n",
       "      <th id=\"T_6c163_level0_row50\" class=\"row_heading level0 row50\" >Delicatessen</th>\n",
       "      <td id=\"T_6c163_row50_col0\" class=\"data row50 col0\" >113.930000</td>\n",
       "      <td id=\"T_6c163_row50_col1\" class=\"data row50 col1\" >0.36%</td>\n",
       "      <td id=\"T_6c163_row50_col2\" class=\"data row50 col2\" >C</td>\n",
       "    </tr>\n",
       "    <tr>\n",
       "      <th id=\"T_6c163_level0_row51\" class=\"row_heading level0 row51\" >Hatsuhana</th>\n",
       "      <td id=\"T_6c163_row51_col0\" class=\"data row51 col0\" >112.780000</td>\n",
       "      <td id=\"T_6c163_row51_col1\" class=\"data row51 col1\" >0.36%</td>\n",
       "      <td id=\"T_6c163_row51_col2\" class=\"data row51 col2\" >C</td>\n",
       "    </tr>\n",
       "    <tr>\n",
       "      <th id=\"T_6c163_level0_row52\" class=\"row_heading level0 row52\" >Sarabeth's East</th>\n",
       "      <td id=\"T_6c163_row52_col0\" class=\"data row52 col0\" >112.640000</td>\n",
       "      <td id=\"T_6c163_row52_col1\" class=\"data row52 col1\" >0.36%</td>\n",
       "      <td id=\"T_6c163_row52_col2\" class=\"data row52 col2\" >C</td>\n",
       "    </tr>\n",
       "    <tr>\n",
       "      <th id=\"T_6c163_level0_row53\" class=\"row_heading level0 row53\" >Waverly Diner</th>\n",
       "      <td id=\"T_6c163_row53_col0\" class=\"data row53 col0\" >106.470000</td>\n",
       "      <td id=\"T_6c163_row53_col1\" class=\"data row53 col1\" >0.34%</td>\n",
       "      <td id=\"T_6c163_row53_col2\" class=\"data row53 col2\" >C</td>\n",
       "    </tr>\n",
       "    <tr>\n",
       "      <th id=\"T_6c163_level0_row54\" class=\"row_heading level0 row54\" >Benihana</th>\n",
       "      <td id=\"T_6c163_row54_col0\" class=\"data row54 col0\" >105.440000</td>\n",
       "      <td id=\"T_6c163_row54_col1\" class=\"data row54 col1\" >0.34%</td>\n",
       "      <td id=\"T_6c163_row54_col2\" class=\"data row54 col2\" >C</td>\n",
       "    </tr>\n",
       "    <tr>\n",
       "      <th id=\"T_6c163_level0_row55\" class=\"row_heading level0 row55\" >Yama 49</th>\n",
       "      <td id=\"T_6c163_row55_col0\" class=\"data row55 col0\" >101.610000</td>\n",
       "      <td id=\"T_6c163_row55_col1\" class=\"data row55 col1\" >0.32%</td>\n",
       "      <td id=\"T_6c163_row55_col2\" class=\"data row55 col2\" >C</td>\n",
       "    </tr>\n",
       "    <tr>\n",
       "      <th id=\"T_6c163_level0_row56\" class=\"row_heading level0 row56\" >Dos Caminos</th>\n",
       "      <td id=\"T_6c163_row56_col0\" class=\"data row56 col0\" >95.220000</td>\n",
       "      <td id=\"T_6c163_row56_col1\" class=\"data row56 col1\" >0.30%</td>\n",
       "      <td id=\"T_6c163_row56_col2\" class=\"data row56 col2\" >C</td>\n",
       "    </tr>\n",
       "    <tr>\n",
       "      <th id=\"T_6c163_level0_row57\" class=\"row_heading level0 row57\" >Pylos</th>\n",
       "      <td id=\"T_6c163_row57_col0\" class=\"data row57 col0\" >94.250000</td>\n",
       "      <td id=\"T_6c163_row57_col1\" class=\"data row57 col1\" >0.30%</td>\n",
       "      <td id=\"T_6c163_row57_col2\" class=\"data row57 col2\" >C</td>\n",
       "    </tr>\n",
       "    <tr>\n",
       "      <th id=\"T_6c163_level0_row58\" class=\"row_heading level0 row58\" >12 Chairs</th>\n",
       "      <td id=\"T_6c163_row58_col0\" class=\"data row58 col0\" >88.570000</td>\n",
       "      <td id=\"T_6c163_row58_col1\" class=\"data row58 col1\" >0.28%</td>\n",
       "      <td id=\"T_6c163_row58_col2\" class=\"data row58 col2\" >C</td>\n",
       "    </tr>\n",
       "    <tr>\n",
       "      <th id=\"T_6c163_level0_row59\" class=\"row_heading level0 row59\" >Serafina Fabulous Pizza</th>\n",
       "      <td id=\"T_6c163_row59_col0\" class=\"data row59 col0\" >87.700000</td>\n",
       "      <td id=\"T_6c163_row59_col1\" class=\"data row59 col1\" >0.28%</td>\n",
       "      <td id=\"T_6c163_row59_col2\" class=\"data row59 col2\" >C</td>\n",
       "    </tr>\n",
       "    <tr>\n",
       "      <th id=\"T_6c163_level0_row60\" class=\"row_heading level0 row60\" >Mission Cantina</th>\n",
       "      <td id=\"T_6c163_row60_col0\" class=\"data row60 col0\" >87.450000</td>\n",
       "      <td id=\"T_6c163_row60_col1\" class=\"data row60 col1\" >0.28%</td>\n",
       "      <td id=\"T_6c163_row60_col2\" class=\"data row60 col2\" >C</td>\n",
       "    </tr>\n",
       "    <tr>\n",
       "      <th id=\"T_6c163_level0_row61\" class=\"row_heading level0 row61\" >Sarabeth's</th>\n",
       "      <td id=\"T_6c163_row61_col0\" class=\"data row61 col0\" >87.400000</td>\n",
       "      <td id=\"T_6c163_row61_col1\" class=\"data row61 col1\" >0.28%</td>\n",
       "      <td id=\"T_6c163_row61_col2\" class=\"data row61 col2\" >C</td>\n",
       "    </tr>\n",
       "    <tr>\n",
       "      <th id=\"T_6c163_level0_row62\" class=\"row_heading level0 row62\" >Cho Dang Gol</th>\n",
       "      <td id=\"T_6c163_row62_col0\" class=\"data row62 col0\" >85.190000</td>\n",
       "      <td id=\"T_6c163_row62_col1\" class=\"data row62 col1\" >0.27%</td>\n",
       "      <td id=\"T_6c163_row62_col2\" class=\"data row62 col2\" >C</td>\n",
       "    </tr>\n",
       "    <tr>\n",
       "      <th id=\"T_6c163_level0_row63\" class=\"row_heading level0 row63\" >Mamoun's Falafel</th>\n",
       "      <td id=\"T_6c163_row63_col0\" class=\"data row63 col0\" >82.770000</td>\n",
       "      <td id=\"T_6c163_row63_col1\" class=\"data row63 col1\" >0.26%</td>\n",
       "      <td id=\"T_6c163_row63_col2\" class=\"data row63 col2\" >C</td>\n",
       "    </tr>\n",
       "    <tr>\n",
       "      <th id=\"T_6c163_level0_row64\" class=\"row_heading level0 row64\" >5 Napkin Burger</th>\n",
       "      <td id=\"T_6c163_row64_col0\" class=\"data row64 col0\" >79.840000</td>\n",
       "      <td id=\"T_6c163_row64_col1\" class=\"data row64 col1\" >0.25%</td>\n",
       "      <td id=\"T_6c163_row64_col2\" class=\"data row64 col2\" >C</td>\n",
       "    </tr>\n",
       "    <tr>\n",
       "      <th id=\"T_6c163_level0_row65\" class=\"row_heading level0 row65\" >Lantern Thai Kitchen</th>\n",
       "      <td id=\"T_6c163_row65_col0\" class=\"data row65 col0\" >78.290000</td>\n",
       "      <td id=\"T_6c163_row65_col1\" class=\"data row65 col1\" >0.25%</td>\n",
       "      <td id=\"T_6c163_row65_col2\" class=\"data row65 col2\" >C</td>\n",
       "    </tr>\n",
       "    <tr>\n",
       "      <th id=\"T_6c163_level0_row66\" class=\"row_heading level0 row66\" >Grand Sichuan International</th>\n",
       "      <td id=\"T_6c163_row66_col0\" class=\"data row66 col0\" >78.090000</td>\n",
       "      <td id=\"T_6c163_row66_col1\" class=\"data row66 col1\" >0.25%</td>\n",
       "      <td id=\"T_6c163_row66_col2\" class=\"data row66 col2\" >C</td>\n",
       "    </tr>\n",
       "    <tr>\n",
       "      <th id=\"T_6c163_level0_row67\" class=\"row_heading level0 row67\" >The Loop</th>\n",
       "      <td id=\"T_6c163_row67_col0\" class=\"data row67 col0\" >77.320000</td>\n",
       "      <td id=\"T_6c163_row67_col1\" class=\"data row67 col1\" >0.25%</td>\n",
       "      <td id=\"T_6c163_row67_col2\" class=\"data row67 col2\" >C</td>\n",
       "    </tr>\n",
       "    <tr>\n",
       "      <th id=\"T_6c163_level0_row68\" class=\"row_heading level0 row68\" >Amma</th>\n",
       "      <td id=\"T_6c163_row68_col0\" class=\"data row68 col0\" >76.690000</td>\n",
       "      <td id=\"T_6c163_row68_col1\" class=\"data row68 col1\" >0.24%</td>\n",
       "      <td id=\"T_6c163_row68_col2\" class=\"data row68 col2\" >C</td>\n",
       "    </tr>\n",
       "    <tr>\n",
       "      <th id=\"T_6c163_level0_row69\" class=\"row_heading level0 row69\" >Tony's Di Napoli</th>\n",
       "      <td id=\"T_6c163_row69_col0\" class=\"data row69 col0\" >76.100000</td>\n",
       "      <td id=\"T_6c163_row69_col1\" class=\"data row69 col1\" >0.24%</td>\n",
       "      <td id=\"T_6c163_row69_col2\" class=\"data row69 col2\" >C</td>\n",
       "    </tr>\n",
       "    <tr>\n",
       "      <th id=\"T_6c163_level0_row70\" class=\"row_heading level0 row70\" >Donburi-ya</th>\n",
       "      <td id=\"T_6c163_row70_col0\" class=\"data row70 col0\" >75.530000</td>\n",
       "      <td id=\"T_6c163_row70_col1\" class=\"data row70 col1\" >0.24%</td>\n",
       "      <td id=\"T_6c163_row70_col2\" class=\"data row70 col2\" >C</td>\n",
       "    </tr>\n",
       "    <tr>\n",
       "      <th id=\"T_6c163_level0_row71\" class=\"row_heading level0 row71\" >Barbounia</th>\n",
       "      <td id=\"T_6c163_row71_col0\" class=\"data row71 col0\" >74.950000</td>\n",
       "      <td id=\"T_6c163_row71_col1\" class=\"data row71 col1\" >0.24%</td>\n",
       "      <td id=\"T_6c163_row71_col2\" class=\"data row71 col2\" >C</td>\n",
       "    </tr>\n",
       "    <tr>\n",
       "      <th id=\"T_6c163_level0_row72\" class=\"row_heading level0 row72\" >Pinto Nouveau Thai Bistro</th>\n",
       "      <td id=\"T_6c163_row72_col0\" class=\"data row72 col0\" >72.420000</td>\n",
       "      <td id=\"T_6c163_row72_col1\" class=\"data row72 col1\" >0.23%</td>\n",
       "      <td id=\"T_6c163_row72_col2\" class=\"data row72 col2\" >C</td>\n",
       "    </tr>\n",
       "    <tr>\n",
       "      <th id=\"T_6c163_level0_row73\" class=\"row_heading level0 row73\" >Kanoyama</th>\n",
       "      <td id=\"T_6c163_row73_col0\" class=\"data row73 col0\" >71.060000</td>\n",
       "      <td id=\"T_6c163_row73_col1\" class=\"data row73 col1\" >0.23%</td>\n",
       "      <td id=\"T_6c163_row73_col2\" class=\"data row73 col2\" >C</td>\n",
       "    </tr>\n",
       "    <tr>\n",
       "      <th id=\"T_6c163_level0_row74\" class=\"row_heading level0 row74\" >Carmine's</th>\n",
       "      <td id=\"T_6c163_row74_col0\" class=\"data row74 col0\" >70.960000</td>\n",
       "      <td id=\"T_6c163_row74_col1\" class=\"data row74 col1\" >0.23%</td>\n",
       "      <td id=\"T_6c163_row74_col2\" class=\"data row74 col2\" >C</td>\n",
       "    </tr>\n",
       "    <tr>\n",
       "      <th id=\"T_6c163_level0_row75\" class=\"row_heading level0 row75\" >Joe's Shanghai _Àü£¾÷´</th>\n",
       "      <td id=\"T_6c163_row75_col0\" class=\"data row75 col0\" >70.370000</td>\n",
       "      <td id=\"T_6c163_row75_col1\" class=\"data row75 col1\" >0.22%</td>\n",
       "      <td id=\"T_6c163_row75_col2\" class=\"data row75 col2\" >C</td>\n",
       "    </tr>\n",
       "    <tr>\n",
       "      <th id=\"T_6c163_level0_row76\" class=\"row_heading level0 row76\" >Saravanaa Bhavan</th>\n",
       "      <td id=\"T_6c163_row76_col0\" class=\"data row76 col0\" >70.190000</td>\n",
       "      <td id=\"T_6c163_row76_col1\" class=\"data row76 col1\" >0.22%</td>\n",
       "      <td id=\"T_6c163_row76_col2\" class=\"data row76 col2\" >C</td>\n",
       "    </tr>\n",
       "    <tr>\n",
       "      <th id=\"T_6c163_level0_row77\" class=\"row_heading level0 row77\" >Vezzo Thin Crust Pizza</th>\n",
       "      <td id=\"T_6c163_row77_col0\" class=\"data row77 col0\" >68.740000</td>\n",
       "      <td id=\"T_6c163_row77_col1\" class=\"data row77 col1\" >0.22%</td>\n",
       "      <td id=\"T_6c163_row77_col2\" class=\"data row77 col2\" >C</td>\n",
       "    </tr>\n",
       "    <tr>\n",
       "      <th id=\"T_6c163_level0_row78\" class=\"row_heading level0 row78\" >Go! Go! Curry!</th>\n",
       "      <td id=\"T_6c163_row78_col0\" class=\"data row78 col0\" >67.230000</td>\n",
       "      <td id=\"T_6c163_row78_col1\" class=\"data row78 col1\" >0.21%</td>\n",
       "      <td id=\"T_6c163_row78_col2\" class=\"data row78 col2\" >C</td>\n",
       "    </tr>\n",
       "    <tr>\n",
       "      <th id=\"T_6c163_level0_row79\" class=\"row_heading level0 row79\" >Blue Ribbon Brooklyn</th>\n",
       "      <td id=\"T_6c163_row79_col0\" class=\"data row79 col0\" >66.120000</td>\n",
       "      <td id=\"T_6c163_row79_col1\" class=\"data row79 col1\" >0.21%</td>\n",
       "      <td id=\"T_6c163_row79_col2\" class=\"data row79 col2\" >C</td>\n",
       "    </tr>\n",
       "    <tr>\n",
       "      <th id=\"T_6c163_level0_row80\" class=\"row_heading level0 row80\" >DuMont Burger</th>\n",
       "      <td id=\"T_6c163_row80_col0\" class=\"data row80 col0\" >65.860000</td>\n",
       "      <td id=\"T_6c163_row80_col1\" class=\"data row80 col1\" >0.21%</td>\n",
       "      <td id=\"T_6c163_row80_col2\" class=\"data row80 col2\" >C</td>\n",
       "    </tr>\n",
       "    <tr>\n",
       "      <th id=\"T_6c163_level0_row81\" class=\"row_heading level0 row81\" >Asuka Sushi</th>\n",
       "      <td id=\"T_6c163_row81_col0\" class=\"data row81 col0\" >65.000000</td>\n",
       "      <td id=\"T_6c163_row81_col1\" class=\"data row81 col1\" >0.21%</td>\n",
       "      <td id=\"T_6c163_row81_col2\" class=\"data row81 col2\" >C</td>\n",
       "    </tr>\n",
       "    <tr>\n",
       "      <th id=\"T_6c163_level0_row82\" class=\"row_heading level0 row82\" >Lucky's Famous Burgers</th>\n",
       "      <td id=\"T_6c163_row82_col0\" class=\"data row82 col0\" >63.830000</td>\n",
       "      <td id=\"T_6c163_row82_col1\" class=\"data row82 col1\" >0.20%</td>\n",
       "      <td id=\"T_6c163_row82_col2\" class=\"data row82 col2\" >C</td>\n",
       "    </tr>\n",
       "    <tr>\n",
       "      <th id=\"T_6c163_level0_row83\" class=\"row_heading level0 row83\" >Tres Carnes</th>\n",
       "      <td id=\"T_6c163_row83_col0\" class=\"data row83 col0\" >62.620000</td>\n",
       "      <td id=\"T_6c163_row83_col1\" class=\"data row83 col1\" >0.20%</td>\n",
       "      <td id=\"T_6c163_row83_col2\" class=\"data row83 col2\" >C</td>\n",
       "    </tr>\n",
       "    <tr>\n",
       "      <th id=\"T_6c163_level0_row84\" class=\"row_heading level0 row84\" >Bhatti Indian Grill</th>\n",
       "      <td id=\"T_6c163_row84_col0\" class=\"data row84 col0\" >62.230000</td>\n",
       "      <td id=\"T_6c163_row84_col1\" class=\"data row84 col1\" >0.20%</td>\n",
       "      <td id=\"T_6c163_row84_col2\" class=\"data row84 col2\" >C</td>\n",
       "    </tr>\n",
       "    <tr>\n",
       "      <th id=\"T_6c163_level0_row85\" class=\"row_heading level0 row85\" >Dickson's Farmstand Meats</th>\n",
       "      <td id=\"T_6c163_row85_col0\" class=\"data row85 col0\" >60.930000</td>\n",
       "      <td id=\"T_6c163_row85_col1\" class=\"data row85 col1\" >0.19%</td>\n",
       "      <td id=\"T_6c163_row85_col2\" class=\"data row85 col2\" >C</td>\n",
       "    </tr>\n",
       "    <tr>\n",
       "      <th id=\"T_6c163_level0_row86\" class=\"row_heading level0 row86\" >Bubby's </th>\n",
       "      <td id=\"T_6c163_row86_col0\" class=\"data row86 col0\" >59.180000</td>\n",
       "      <td id=\"T_6c163_row86_col1\" class=\"data row86 col1\" >0.19%</td>\n",
       "      <td id=\"T_6c163_row86_col2\" class=\"data row86 col2\" >C</td>\n",
       "    </tr>\n",
       "    <tr>\n",
       "      <th id=\"T_6c163_level0_row87\" class=\"row_heading level0 row87\" >Dirty Bird to Go</th>\n",
       "      <td id=\"T_6c163_row87_col0\" class=\"data row87 col0\" >55.250000</td>\n",
       "      <td id=\"T_6c163_row87_col1\" class=\"data row87 col1\" >0.18%</td>\n",
       "      <td id=\"T_6c163_row87_col2\" class=\"data row87 col2\" >C</td>\n",
       "    </tr>\n",
       "    <tr>\n",
       "      <th id=\"T_6c163_level0_row88\" class=\"row_heading level0 row88\" >Hummus Place</th>\n",
       "      <td id=\"T_6c163_row88_col0\" class=\"data row88 col0\" >54.950000</td>\n",
       "      <td id=\"T_6c163_row88_col1\" class=\"data row88 col1\" >0.18%</td>\n",
       "      <td id=\"T_6c163_row88_col2\" class=\"data row88 col2\" >C</td>\n",
       "    </tr>\n",
       "    <tr>\n",
       "      <th id=\"T_6c163_level0_row89\" class=\"row_heading level0 row89\" >Tortaria</th>\n",
       "      <td id=\"T_6c163_row89_col0\" class=\"data row89 col0\" >54.280000</td>\n",
       "      <td id=\"T_6c163_row89_col1\" class=\"data row89 col1\" >0.17%</td>\n",
       "      <td id=\"T_6c163_row89_col2\" class=\"data row89 col2\" >C</td>\n",
       "    </tr>\n",
       "    <tr>\n",
       "      <th id=\"T_6c163_level0_row90\" class=\"row_heading level0 row90\" >Song Thai Restaurant & Bar</th>\n",
       "      <td id=\"T_6c163_row90_col0\" class=\"data row90 col0\" >53.400000</td>\n",
       "      <td id=\"T_6c163_row90_col1\" class=\"data row90 col1\" >0.17%</td>\n",
       "      <td id=\"T_6c163_row90_col2\" class=\"data row90 col2\" >C</td>\n",
       "    </tr>\n",
       "    <tr>\n",
       "      <th id=\"T_6c163_level0_row91\" class=\"row_heading level0 row91\" >da Umberto</th>\n",
       "      <td id=\"T_6c163_row91_col0\" class=\"data row91 col0\" >52.860000</td>\n",
       "      <td id=\"T_6c163_row91_col1\" class=\"data row91 col1\" >0.17%</td>\n",
       "      <td id=\"T_6c163_row91_col2\" class=\"data row91 col2\" >C</td>\n",
       "    </tr>\n",
       "    <tr>\n",
       "      <th id=\"T_6c163_level0_row92\" class=\"row_heading level0 row92\" >V-Nam Cafe</th>\n",
       "      <td id=\"T_6c163_row92_col0\" class=\"data row92 col0\" >52.480000</td>\n",
       "      <td id=\"T_6c163_row92_col1\" class=\"data row92 col1\" >0.17%</td>\n",
       "      <td id=\"T_6c163_row92_col2\" class=\"data row92 col2\" >C</td>\n",
       "    </tr>\n",
       "    <tr>\n",
       "      <th id=\"T_6c163_level0_row93\" class=\"row_heading level0 row93\" >Schnipper's Quality Kitchen</th>\n",
       "      <td id=\"T_6c163_row93_col0\" class=\"data row93 col0\" >51.420000</td>\n",
       "      <td id=\"T_6c163_row93_col1\" class=\"data row93 col1\" >0.16%</td>\n",
       "      <td id=\"T_6c163_row93_col2\" class=\"data row93 col2\" >C</td>\n",
       "    </tr>\n",
       "    <tr>\n",
       "      <th id=\"T_6c163_level0_row94\" class=\"row_heading level0 row94\" >indikitch</th>\n",
       "      <td id=\"T_6c163_row94_col0\" class=\"data row94 col0\" >51.170000</td>\n",
       "      <td id=\"T_6c163_row94_col1\" class=\"data row94 col1\" >0.16%</td>\n",
       "      <td id=\"T_6c163_row94_col2\" class=\"data row94 col2\" >C</td>\n",
       "    </tr>\n",
       "    <tr>\n",
       "      <th id=\"T_6c163_level0_row95\" class=\"row_heading level0 row95\" >Byblos Restaurant</th>\n",
       "      <td id=\"T_6c163_row95_col0\" class=\"data row95 col0\" >49.470000</td>\n",
       "      <td id=\"T_6c163_row95_col1\" class=\"data row95 col1\" >0.16%</td>\n",
       "      <td id=\"T_6c163_row95_col2\" class=\"data row95 col2\" >C</td>\n",
       "    </tr>\n",
       "    <tr>\n",
       "      <th id=\"T_6c163_level0_row96\" class=\"row_heading level0 row96\" >Ravagh Persian Grill</th>\n",
       "      <td id=\"T_6c163_row96_col0\" class=\"data row96 col0\" >47.060000</td>\n",
       "      <td id=\"T_6c163_row96_col1\" class=\"data row96 col1\" >0.15%</td>\n",
       "      <td id=\"T_6c163_row96_col2\" class=\"data row96 col2\" >C</td>\n",
       "    </tr>\n",
       "    <tr>\n",
       "      <th id=\"T_6c163_level0_row97\" class=\"row_heading level0 row97\" >Bistango</th>\n",
       "      <td id=\"T_6c163_row97_col0\" class=\"data row97 col0\" >46.080000</td>\n",
       "      <td id=\"T_6c163_row97_col1\" class=\"data row97 col1\" >0.15%</td>\n",
       "      <td id=\"T_6c163_row97_col2\" class=\"data row97 col2\" >C</td>\n",
       "    </tr>\n",
       "    <tr>\n",
       "      <th id=\"T_6c163_level0_row98\" class=\"row_heading level0 row98\" >Le Grainne Cafe</th>\n",
       "      <td id=\"T_6c163_row98_col0\" class=\"data row98 col0\" >45.210000</td>\n",
       "      <td id=\"T_6c163_row98_col1\" class=\"data row98 col1\" >0.14%</td>\n",
       "      <td id=\"T_6c163_row98_col2\" class=\"data row98 col2\" >C</td>\n",
       "    </tr>\n",
       "    <tr>\n",
       "      <th id=\"T_6c163_level0_row99\" class=\"row_heading level0 row99\" >UVA Wine Bar & Restaurant</th>\n",
       "      <td id=\"T_6c163_row99_col0\" class=\"data row99 col0\" >43.800000</td>\n",
       "      <td id=\"T_6c163_row99_col1\" class=\"data row99 col1\" >0.14%</td>\n",
       "      <td id=\"T_6c163_row99_col2\" class=\"data row99 col2\" >C</td>\n",
       "    </tr>\n",
       "    <tr>\n",
       "      <th id=\"T_6c163_level0_row100\" class=\"row_heading level0 row100\" >Friend of a Farmer</th>\n",
       "      <td id=\"T_6c163_row100_col0\" class=\"data row100 col0\" >43.650000</td>\n",
       "      <td id=\"T_6c163_row100_col1\" class=\"data row100 col1\" >0.14%</td>\n",
       "      <td id=\"T_6c163_row100_col2\" class=\"data row100 col2\" >C</td>\n",
       "    </tr>\n",
       "    <tr>\n",
       "      <th id=\"T_6c163_level0_row101\" class=\"row_heading level0 row101\" >Olea</th>\n",
       "      <td id=\"T_6c163_row101_col0\" class=\"data row101 col0\" >43.120000</td>\n",
       "      <td id=\"T_6c163_row101_col1\" class=\"data row101 col1\" >0.14%</td>\n",
       "      <td id=\"T_6c163_row101_col2\" class=\"data row101 col2\" >C</td>\n",
       "    </tr>\n",
       "    <tr>\n",
       "      <th id=\"T_6c163_level0_row102\" class=\"row_heading level0 row102\" >Terakawa Ramen</th>\n",
       "      <td id=\"T_6c163_row102_col0\" class=\"data row102 col0\" >42.790000</td>\n",
       "      <td id=\"T_6c163_row102_col1\" class=\"data row102 col1\" >0.14%</td>\n",
       "      <td id=\"T_6c163_row102_col2\" class=\"data row102 col2\" >C</td>\n",
       "    </tr>\n",
       "    <tr>\n",
       "      <th id=\"T_6c163_level0_row103\" class=\"row_heading level0 row103\" >Hot Kitchen</th>\n",
       "      <td id=\"T_6c163_row103_col0\" class=\"data row103 col0\" >42.540000</td>\n",
       "      <td id=\"T_6c163_row103_col1\" class=\"data row103 col1\" >0.14%</td>\n",
       "      <td id=\"T_6c163_row103_col2\" class=\"data row103 col2\" >C</td>\n",
       "    </tr>\n",
       "    <tr>\n",
       "      <th id=\"T_6c163_level0_row104\" class=\"row_heading level0 row104\" >Room Service</th>\n",
       "      <td id=\"T_6c163_row104_col0\" class=\"data row104 col0\" >41.230000</td>\n",
       "      <td id=\"T_6c163_row104_col1\" class=\"data row104 col1\" >0.13%</td>\n",
       "      <td id=\"T_6c163_row104_col2\" class=\"data row104 col2\" >C</td>\n",
       "    </tr>\n",
       "    <tr>\n",
       "      <th id=\"T_6c163_level0_row105\" class=\"row_heading level0 row105\" >Tarallucci e Vino Restaurant</th>\n",
       "      <td id=\"T_6c163_row105_col0\" class=\"data row105 col0\" >40.690000</td>\n",
       "      <td id=\"T_6c163_row105_col1\" class=\"data row105 col1\" >0.13%</td>\n",
       "      <td id=\"T_6c163_row105_col2\" class=\"data row105 col2\" >C</td>\n",
       "    </tr>\n",
       "    <tr>\n",
       "      <th id=\"T_6c163_level0_row106\" class=\"row_heading level0 row106\" >Prosperity Dumpling</th>\n",
       "      <td id=\"T_6c163_row106_col0\" class=\"data row106 col0\" >39.830000</td>\n",
       "      <td id=\"T_6c163_row106_col1\" class=\"data row106 col1\" >0.13%</td>\n",
       "      <td id=\"T_6c163_row106_col2\" class=\"data row106 col2\" >C</td>\n",
       "    </tr>\n",
       "    <tr>\n",
       "      <th id=\"T_6c163_level0_row107\" class=\"row_heading level0 row107\" >Don's Bogam BBQ & Wine Bar</th>\n",
       "      <td id=\"T_6c163_row107_col0\" class=\"data row107 col0\" >38.910000</td>\n",
       "      <td id=\"T_6c163_row107_col1\" class=\"data row107 col1\" >0.12%</td>\n",
       "      <td id=\"T_6c163_row107_col2\" class=\"data row107 col2\" >C</td>\n",
       "    </tr>\n",
       "    <tr>\n",
       "      <th id=\"T_6c163_level0_row108\" class=\"row_heading level0 row108\" >Five Leaves</th>\n",
       "      <td id=\"T_6c163_row108_col0\" class=\"data row108 col0\" >37.800000</td>\n",
       "      <td id=\"T_6c163_row108_col1\" class=\"data row108 col1\" >0.12%</td>\n",
       "      <td id=\"T_6c163_row108_col2\" class=\"data row108 col2\" >C</td>\n",
       "    </tr>\n",
       "    <tr>\n",
       "      <th id=\"T_6c163_level0_row109\" class=\"row_heading level0 row109\" >Hangawi</th>\n",
       "      <td id=\"T_6c163_row109_col0\" class=\"data row109 col0\" >37.490000</td>\n",
       "      <td id=\"T_6c163_row109_col1\" class=\"data row109 col1\" >0.12%</td>\n",
       "      <td id=\"T_6c163_row109_col2\" class=\"data row109 col2\" >C</td>\n",
       "    </tr>\n",
       "    <tr>\n",
       "      <th id=\"T_6c163_level0_row110\" class=\"row_heading level0 row110\" >El Parador Cafe</th>\n",
       "      <td id=\"T_6c163_row110_col0\" class=\"data row110 col0\" >37.390000</td>\n",
       "      <td id=\"T_6c163_row110_col1\" class=\"data row110 col1\" >0.12%</td>\n",
       "      <td id=\"T_6c163_row110_col2\" class=\"data row110 col2\" >C</td>\n",
       "    </tr>\n",
       "    <tr>\n",
       "      <th id=\"T_6c163_level0_row111\" class=\"row_heading level0 row111\" >Dirty Bird To Go (archived)</th>\n",
       "      <td id=\"T_6c163_row111_col0\" class=\"data row111 col0\" >36.240000</td>\n",
       "      <td id=\"T_6c163_row111_col1\" class=\"data row111 col1\" >0.12%</td>\n",
       "      <td id=\"T_6c163_row111_col2\" class=\"data row111 col2\" >C</td>\n",
       "    </tr>\n",
       "    <tr>\n",
       "      <th id=\"T_6c163_level0_row112\" class=\"row_heading level0 row112\" >Amy Ruth's</th>\n",
       "      <td id=\"T_6c163_row112_col0\" class=\"data row112 col0\" >35.720000</td>\n",
       "      <td id=\"T_6c163_row112_col1\" class=\"data row112 col1\" >0.11%</td>\n",
       "      <td id=\"T_6c163_row112_col2\" class=\"data row112 col2\" >C</td>\n",
       "    </tr>\n",
       "    <tr>\n",
       "      <th id=\"T_6c163_level0_row113\" class=\"row_heading level0 row113\" >Piccolo Angolo</th>\n",
       "      <td id=\"T_6c163_row113_col0\" class=\"data row113 col0\" >35.260000</td>\n",
       "      <td id=\"T_6c163_row113_col1\" class=\"data row113 col1\" >0.11%</td>\n",
       "      <td id=\"T_6c163_row113_col2\" class=\"data row113 col2\" >C</td>\n",
       "    </tr>\n",
       "    <tr>\n",
       "      <th id=\"T_6c163_level0_row114\" class=\"row_heading level0 row114\" >Haveli Indian Restaurant</th>\n",
       "      <td id=\"T_6c163_row114_col0\" class=\"data row114 col0\" >34.820000</td>\n",
       "      <td id=\"T_6c163_row114_col1\" class=\"data row114 col1\" >0.11%</td>\n",
       "      <td id=\"T_6c163_row114_col2\" class=\"data row114 col2\" >C</td>\n",
       "    </tr>\n",
       "    <tr>\n",
       "      <th id=\"T_6c163_level0_row115\" class=\"row_heading level0 row115\" >The Odeon</th>\n",
       "      <td id=\"T_6c163_row115_col0\" class=\"data row115 col0\" >33.510000</td>\n",
       "      <td id=\"T_6c163_row115_col1\" class=\"data row115 col1\" >0.11%</td>\n",
       "      <td id=\"T_6c163_row115_col2\" class=\"data row115 col2\" >C</td>\n",
       "    </tr>\n",
       "    <tr>\n",
       "      <th id=\"T_6c163_level0_row116\" class=\"row_heading level0 row116\" >Pongsri Thai</th>\n",
       "      <td id=\"T_6c163_row116_col0\" class=\"data row116 col0\" >33.230000</td>\n",
       "      <td id=\"T_6c163_row116_col1\" class=\"data row116 col1\" >0.11%</td>\n",
       "      <td id=\"T_6c163_row116_col2\" class=\"data row116 col2\" >C</td>\n",
       "    </tr>\n",
       "    <tr>\n",
       "      <th id=\"T_6c163_level0_row117\" class=\"row_heading level0 row117\" >DespaÌ±a</th>\n",
       "      <td id=\"T_6c163_row117_col0\" class=\"data row117 col0\" >33.040000</td>\n",
       "      <td id=\"T_6c163_row117_col1\" class=\"data row117 col1\" >0.11%</td>\n",
       "      <td id=\"T_6c163_row117_col2\" class=\"data row117 col2\" >C</td>\n",
       "    </tr>\n",
       "    <tr>\n",
       "      <th id=\"T_6c163_level0_row118\" class=\"row_heading level0 row118\" >Kambi Ramen House</th>\n",
       "      <td id=\"T_6c163_row118_col0\" class=\"data row118 col0\" >32.930000</td>\n",
       "      <td id=\"T_6c163_row118_col1\" class=\"data row118 col1\" >0.11%</td>\n",
       "      <td id=\"T_6c163_row118_col2\" class=\"data row118 col2\" >C</td>\n",
       "    </tr>\n",
       "    <tr>\n",
       "      <th id=\"T_6c163_level0_row119\" class=\"row_heading level0 row119\" >Emporio</th>\n",
       "      <td id=\"T_6c163_row119_col0\" class=\"data row119 col0\" >31.430000</td>\n",
       "      <td id=\"T_6c163_row119_col1\" class=\"data row119 col1\" >0.10%</td>\n",
       "      <td id=\"T_6c163_row119_col2\" class=\"data row119 col2\" >C</td>\n",
       "    </tr>\n",
       "    <tr>\n",
       "      <th id=\"T_6c163_level0_row120\" class=\"row_heading level0 row120\" >Izakaya Ten</th>\n",
       "      <td id=\"T_6c163_row120_col0\" class=\"data row120 col0\" >31.300000</td>\n",
       "      <td id=\"T_6c163_row120_col1\" class=\"data row120 col1\" >0.10%</td>\n",
       "      <td id=\"T_6c163_row120_col2\" class=\"data row120 col2\" >C</td>\n",
       "    </tr>\n",
       "    <tr>\n",
       "      <th id=\"T_6c163_level0_row121\" class=\"row_heading level0 row121\" >Haru Gramercy Park</th>\n",
       "      <td id=\"T_6c163_row121_col0\" class=\"data row121 col0\" >29.830000</td>\n",
       "      <td id=\"T_6c163_row121_col1\" class=\"data row121 col1\" >0.10%</td>\n",
       "      <td id=\"T_6c163_row121_col2\" class=\"data row121 col2\" >C</td>\n",
       "    </tr>\n",
       "    <tr>\n",
       "      <th id=\"T_6c163_level0_row122\" class=\"row_heading level0 row122\" >Lucky Strike</th>\n",
       "      <td id=\"T_6c163_row122_col0\" class=\"data row122 col0\" >29.250000</td>\n",
       "      <td id=\"T_6c163_row122_col1\" class=\"data row122 col1\" >0.09%</td>\n",
       "      <td id=\"T_6c163_row122_col2\" class=\"data row122 col2\" >C</td>\n",
       "    </tr>\n",
       "    <tr>\n",
       "      <th id=\"T_6c163_level0_row123\" class=\"row_heading level0 row123\" >Il Bambino</th>\n",
       "      <td id=\"T_6c163_row123_col0\" class=\"data row123 col0\" >29.250000</td>\n",
       "      <td id=\"T_6c163_row123_col1\" class=\"data row123 col1\" >0.09%</td>\n",
       "      <td id=\"T_6c163_row123_col2\" class=\"data row123 col2\" >C</td>\n",
       "    </tr>\n",
       "    <tr>\n",
       "      <th id=\"T_6c163_level0_row124\" class=\"row_heading level0 row124\" >Rohm Thai</th>\n",
       "      <td id=\"T_6c163_row124_col0\" class=\"data row124 col0\" >29.100000</td>\n",
       "      <td id=\"T_6c163_row124_col1\" class=\"data row124 col1\" >0.09%</td>\n",
       "      <td id=\"T_6c163_row124_col2\" class=\"data row124 col2\" >C</td>\n",
       "    </tr>\n",
       "    <tr>\n",
       "      <th id=\"T_6c163_level0_row125\" class=\"row_heading level0 row125\" >Klong</th>\n",
       "      <td id=\"T_6c163_row125_col0\" class=\"data row125 col0\" >29.050000</td>\n",
       "      <td id=\"T_6c163_row125_col1\" class=\"data row125 col1\" >0.09%</td>\n",
       "      <td id=\"T_6c163_row125_col2\" class=\"data row125 col2\" >C</td>\n",
       "    </tr>\n",
       "    <tr>\n",
       "      <th id=\"T_6c163_level0_row126\" class=\"row_heading level0 row126\" >67 Burger</th>\n",
       "      <td id=\"T_6c163_row126_col0\" class=\"data row126 col0\" >29.050000</td>\n",
       "      <td id=\"T_6c163_row126_col1\" class=\"data row126 col1\" >0.09%</td>\n",
       "      <td id=\"T_6c163_row126_col2\" class=\"data row126 col2\" >C</td>\n",
       "    </tr>\n",
       "    <tr>\n",
       "      <th id=\"T_6c163_level0_row127\" class=\"row_heading level0 row127\" >Aurora</th>\n",
       "      <td id=\"T_6c163_row127_col0\" class=\"data row127 col0\" >28.670000</td>\n",
       "      <td id=\"T_6c163_row127_col1\" class=\"data row127 col1\" >0.09%</td>\n",
       "      <td id=\"T_6c163_row127_col2\" class=\"data row127 col2\" >C</td>\n",
       "    </tr>\n",
       "    <tr>\n",
       "      <th id=\"T_6c163_level0_row128\" class=\"row_heading level0 row128\" >Big Daddy's</th>\n",
       "      <td id=\"T_6c163_row128_col0\" class=\"data row128 col0\" >26.920000</td>\n",
       "      <td id=\"T_6c163_row128_col1\" class=\"data row128 col1\" >0.09%</td>\n",
       "      <td id=\"T_6c163_row128_col2\" class=\"data row128 col2\" >C</td>\n",
       "    </tr>\n",
       "    <tr>\n",
       "      <th id=\"T_6c163_level0_row129\" class=\"row_heading level0 row129\" >Socarrat Paella Bar</th>\n",
       "      <td id=\"T_6c163_row129_col0\" class=\"data row129 col0\" >25.220000</td>\n",
       "      <td id=\"T_6c163_row129_col1\" class=\"data row129 col1\" >0.08%</td>\n",
       "      <td id=\"T_6c163_row129_col2\" class=\"data row129 col2\" >C</td>\n",
       "    </tr>\n",
       "    <tr>\n",
       "      <th id=\"T_6c163_level0_row130\" class=\"row_heading level0 row130\" >Mira Sushi</th>\n",
       "      <td id=\"T_6c163_row130_col0\" class=\"data row130 col0\" >24.840000</td>\n",
       "      <td id=\"T_6c163_row130_col1\" class=\"data row130 col1\" >0.08%</td>\n",
       "      <td id=\"T_6c163_row130_col2\" class=\"data row130 col2\" >C</td>\n",
       "    </tr>\n",
       "    <tr>\n",
       "      <th id=\"T_6c163_level0_row131\" class=\"row_heading level0 row131\" >Posto</th>\n",
       "      <td id=\"T_6c163_row131_col0\" class=\"data row131 col0\" >24.250000</td>\n",
       "      <td id=\"T_6c163_row131_col1\" class=\"data row131 col1\" >0.08%</td>\n",
       "      <td id=\"T_6c163_row131_col2\" class=\"data row131 col2\" >C</td>\n",
       "    </tr>\n",
       "    <tr>\n",
       "      <th id=\"T_6c163_level0_row132\" class=\"row_heading level0 row132\" >Philippe Chow</th>\n",
       "      <td id=\"T_6c163_row132_col0\" class=\"data row132 col0\" >24.200000</td>\n",
       "      <td id=\"T_6c163_row132_col1\" class=\"data row132 col1\" >0.08%</td>\n",
       "      <td id=\"T_6c163_row132_col2\" class=\"data row132 col2\" >C</td>\n",
       "    </tr>\n",
       "    <tr>\n",
       "      <th id=\"T_6c163_level0_row133\" class=\"row_heading level0 row133\" >Bukhara Grill</th>\n",
       "      <td id=\"T_6c163_row133_col0\" class=\"data row133 col0\" >23.720000</td>\n",
       "      <td id=\"T_6c163_row133_col1\" class=\"data row133 col1\" >0.08%</td>\n",
       "      <td id=\"T_6c163_row133_col2\" class=\"data row133 col2\" >C</td>\n",
       "    </tr>\n",
       "    <tr>\n",
       "      <th id=\"T_6c163_level0_row134\" class=\"row_heading level0 row134\" >Olive Garden</th>\n",
       "      <td id=\"T_6c163_row134_col0\" class=\"data row134 col0\" >22.840000</td>\n",
       "      <td id=\"T_6c163_row134_col1\" class=\"data row134 col1\" >0.07%</td>\n",
       "      <td id=\"T_6c163_row134_col2\" class=\"data row134 col2\" >C</td>\n",
       "    </tr>\n",
       "    <tr>\n",
       "      <th id=\"T_6c163_level0_row135\" class=\"row_heading level0 row135\" >Xe May Sandwich Shop</th>\n",
       "      <td id=\"T_6c163_row135_col0\" class=\"data row135 col0\" >22.030000</td>\n",
       "      <td id=\"T_6c163_row135_col1\" class=\"data row135 col1\" >0.07%</td>\n",
       "      <td id=\"T_6c163_row135_col2\" class=\"data row135 col2\" >C</td>\n",
       "    </tr>\n",
       "    <tr>\n",
       "      <th id=\"T_6c163_level0_row136\" class=\"row_heading level0 row136\" >brgr</th>\n",
       "      <td id=\"T_6c163_row136_col0\" class=\"data row136 col0\" >19.790000</td>\n",
       "      <td id=\"T_6c163_row136_col1\" class=\"data row136 col1\" >0.06%</td>\n",
       "      <td id=\"T_6c163_row136_col2\" class=\"data row136 col2\" >C</td>\n",
       "    </tr>\n",
       "    <tr>\n",
       "      <th id=\"T_6c163_level0_row137\" class=\"row_heading level0 row137\" >Haandi</th>\n",
       "      <td id=\"T_6c163_row137_col0\" class=\"data row137 col0\" >18.770000</td>\n",
       "      <td id=\"T_6c163_row137_col1\" class=\"data row137 col1\" >0.06%</td>\n",
       "      <td id=\"T_6c163_row137_col2\" class=\"data row137 col2\" >C</td>\n",
       "    </tr>\n",
       "    <tr>\n",
       "      <th id=\"T_6c163_level0_row138\" class=\"row_heading level0 row138\" >Zero Otto Nove</th>\n",
       "      <td id=\"T_6c163_row138_col0\" class=\"data row138 col0\" >18.050000</td>\n",
       "      <td id=\"T_6c163_row138_col1\" class=\"data row138 col1\" >0.06%</td>\n",
       "      <td id=\"T_6c163_row138_col2\" class=\"data row138 col2\" >C</td>\n",
       "    </tr>\n",
       "    <tr>\n",
       "      <th id=\"T_6c163_level0_row139\" class=\"row_heading level0 row139\" >Anjappar Chettinad</th>\n",
       "      <td id=\"T_6c163_row139_col0\" class=\"data row139 col0\" >16.440000</td>\n",
       "      <td id=\"T_6c163_row139_col1\" class=\"data row139 col1\" >0.05%</td>\n",
       "      <td id=\"T_6c163_row139_col2\" class=\"data row139 col2\" >C</td>\n",
       "    </tr>\n",
       "    <tr>\n",
       "      <th id=\"T_6c163_level0_row140\" class=\"row_heading level0 row140\" >Chote Nawab</th>\n",
       "      <td id=\"T_6c163_row140_col0\" class=\"data row140 col0\" >16.150000</td>\n",
       "      <td id=\"T_6c163_row140_col1\" class=\"data row140 col1\" >0.05%</td>\n",
       "      <td id=\"T_6c163_row140_col2\" class=\"data row140 col2\" >C</td>\n",
       "    </tr>\n",
       "    <tr>\n",
       "      <th id=\"T_6c163_level0_row141\" class=\"row_heading level0 row141\" >Cafe de La Esquina</th>\n",
       "      <td id=\"T_6c163_row141_col0\" class=\"data row141 col0\" >16.060000</td>\n",
       "      <td id=\"T_6c163_row141_col1\" class=\"data row141 col1\" >0.05%</td>\n",
       "      <td id=\"T_6c163_row141_col2\" class=\"data row141 col2\" >C</td>\n",
       "    </tr>\n",
       "    <tr>\n",
       "      <th id=\"T_6c163_level0_row142\" class=\"row_heading level0 row142\" >Galli Restaurant</th>\n",
       "      <td id=\"T_6c163_row142_col0\" class=\"data row142 col0\" >16.060000</td>\n",
       "      <td id=\"T_6c163_row142_col1\" class=\"data row142 col1\" >0.05%</td>\n",
       "      <td id=\"T_6c163_row142_col2\" class=\"data row142 col2\" >C</td>\n",
       "    </tr>\n",
       "    <tr>\n",
       "      <th id=\"T_6c163_level0_row143\" class=\"row_heading level0 row143\" >Paul & Jimmy's</th>\n",
       "      <td id=\"T_6c163_row143_col0\" class=\"data row143 col0\" >16.050000</td>\n",
       "      <td id=\"T_6c163_row143_col1\" class=\"data row143 col1\" >0.05%</td>\n",
       "      <td id=\"T_6c163_row143_col2\" class=\"data row143 col2\" >C</td>\n",
       "    </tr>\n",
       "    <tr>\n",
       "      <th id=\"T_6c163_level0_row144\" class=\"row_heading level0 row144\" >Taro Sushi</th>\n",
       "      <td id=\"T_6c163_row144_col0\" class=\"data row144 col0\" >16.050000</td>\n",
       "      <td id=\"T_6c163_row144_col1\" class=\"data row144 col1\" >0.05%</td>\n",
       "      <td id=\"T_6c163_row144_col2\" class=\"data row144 col2\" >C</td>\n",
       "    </tr>\n",
       "    <tr>\n",
       "      <th id=\"T_6c163_level0_row145\" class=\"row_heading level0 row145\" >Spice Thai</th>\n",
       "      <td id=\"T_6c163_row145_col0\" class=\"data row145 col0\" >15.860000</td>\n",
       "      <td id=\"T_6c163_row145_col1\" class=\"data row145 col1\" >0.05%</td>\n",
       "      <td id=\"T_6c163_row145_col2\" class=\"data row145 col2\" >C</td>\n",
       "    </tr>\n",
       "    <tr>\n",
       "      <th id=\"T_6c163_level0_row146\" class=\"row_heading level0 row146\" >Crema Restaurante</th>\n",
       "      <td id=\"T_6c163_row146_col0\" class=\"data row146 col0\" >15.860000</td>\n",
       "      <td id=\"T_6c163_row146_col1\" class=\"data row146 col1\" >0.05%</td>\n",
       "      <td id=\"T_6c163_row146_col2\" class=\"data row146 col2\" >C</td>\n",
       "    </tr>\n",
       "    <tr>\n",
       "      <th id=\"T_6c163_level0_row147\" class=\"row_heading level0 row147\" >Dig Inn Seasonal Market</th>\n",
       "      <td id=\"T_6c163_row147_col0\" class=\"data row147 col0\" >15.710000</td>\n",
       "      <td id=\"T_6c163_row147_col1\" class=\"data row147 col1\" >0.05%</td>\n",
       "      <td id=\"T_6c163_row147_col2\" class=\"data row147 col2\" >C</td>\n",
       "    </tr>\n",
       "    <tr>\n",
       "      <th id=\"T_6c163_level0_row148\" class=\"row_heading level0 row148\" >Nha Trang One</th>\n",
       "      <td id=\"T_6c163_row148_col0\" class=\"data row148 col0\" >15.670000</td>\n",
       "      <td id=\"T_6c163_row148_col1\" class=\"data row148 col1\" >0.05%</td>\n",
       "      <td id=\"T_6c163_row148_col2\" class=\"data row148 col2\" >C</td>\n",
       "    </tr>\n",
       "    <tr>\n",
       "      <th id=\"T_6c163_level0_row149\" class=\"row_heading level0 row149\" >Le Zie 2000 Trattoria</th>\n",
       "      <td id=\"T_6c163_row149_col0\" class=\"data row149 col0\" >15.470000</td>\n",
       "      <td id=\"T_6c163_row149_col1\" class=\"data row149 col1\" >0.05%</td>\n",
       "      <td id=\"T_6c163_row149_col2\" class=\"data row149 col2\" >C</td>\n",
       "    </tr>\n",
       "    <tr>\n",
       "      <th id=\"T_6c163_level0_row150\" class=\"row_heading level0 row150\" >Moonstruck on Second</th>\n",
       "      <td id=\"T_6c163_row150_col0\" class=\"data row150 col0\" >14.940000</td>\n",
       "      <td id=\"T_6c163_row150_col1\" class=\"data row150 col1\" >0.05%</td>\n",
       "      <td id=\"T_6c163_row150_col2\" class=\"data row150 col2\" >C</td>\n",
       "    </tr>\n",
       "    <tr>\n",
       "      <th id=\"T_6c163_level0_row151\" class=\"row_heading level0 row151\" >Pepe Giallo</th>\n",
       "      <td id=\"T_6c163_row151_col0\" class=\"data row151 col0\" >14.600000</td>\n",
       "      <td id=\"T_6c163_row151_col1\" class=\"data row151 col1\" >0.05%</td>\n",
       "      <td id=\"T_6c163_row151_col2\" class=\"data row151 col2\" >C</td>\n",
       "    </tr>\n",
       "    <tr>\n",
       "      <th id=\"T_6c163_level0_row152\" class=\"row_heading level0 row152\" >Wo Hop Restaurant</th>\n",
       "      <td id=\"T_6c163_row152_col0\" class=\"data row152 col0\" >14.160000</td>\n",
       "      <td id=\"T_6c163_row152_col1\" class=\"data row152 col1\" >0.05%</td>\n",
       "      <td id=\"T_6c163_row152_col2\" class=\"data row152 col2\" >C</td>\n",
       "    </tr>\n",
       "    <tr>\n",
       "      <th id=\"T_6c163_level0_row153\" class=\"row_heading level0 row153\" >Sarabeth's West</th>\n",
       "      <td id=\"T_6c163_row153_col0\" class=\"data row153 col0\" >14.120000</td>\n",
       "      <td id=\"T_6c163_row153_col1\" class=\"data row153 col1\" >0.05%</td>\n",
       "      <td id=\"T_6c163_row153_col2\" class=\"data row153 col2\" >C</td>\n",
       "    </tr>\n",
       "    <tr>\n",
       "      <th id=\"T_6c163_level0_row154\" class=\"row_heading level0 row154\" >Hibino</th>\n",
       "      <td id=\"T_6c163_row154_col0\" class=\"data row154 col0\" >14.020000</td>\n",
       "      <td id=\"T_6c163_row154_col1\" class=\"data row154 col1\" >0.04%</td>\n",
       "      <td id=\"T_6c163_row154_col2\" class=\"data row154 col2\" >C</td>\n",
       "    </tr>\n",
       "    <tr>\n",
       "      <th id=\"T_6c163_level0_row155\" class=\"row_heading level0 row155\" >Sushi Choshi</th>\n",
       "      <td id=\"T_6c163_row155_col0\" class=\"data row155 col0\" >13.730000</td>\n",
       "      <td id=\"T_6c163_row155_col1\" class=\"data row155 col1\" >0.04%</td>\n",
       "      <td id=\"T_6c163_row155_col2\" class=\"data row155 col2\" >C</td>\n",
       "    </tr>\n",
       "    <tr>\n",
       "      <th id=\"T_6c163_level0_row156\" class=\"row_heading level0 row156\" >Coppola's East</th>\n",
       "      <td id=\"T_6c163_row156_col0\" class=\"data row156 col0\" >13.050000</td>\n",
       "      <td id=\"T_6c163_row156_col1\" class=\"data row156 col1\" >0.04%</td>\n",
       "      <td id=\"T_6c163_row156_col2\" class=\"data row156 col2\" >C</td>\n",
       "    </tr>\n",
       "    <tr>\n",
       "      <th id=\"T_6c163_level0_row157\" class=\"row_heading level0 row157\" >Hiroko's Place</th>\n",
       "      <td id=\"T_6c163_row157_col0\" class=\"data row157 col0\" >13.050000</td>\n",
       "      <td id=\"T_6c163_row157_col1\" class=\"data row157 col1\" >0.04%</td>\n",
       "      <td id=\"T_6c163_row157_col2\" class=\"data row157 col2\" >C</td>\n",
       "    </tr>\n",
       "    <tr>\n",
       "      <th id=\"T_6c163_level0_row158\" class=\"row_heading level0 row158\" >Dos Caminos Soho</th>\n",
       "      <td id=\"T_6c163_row158_col0\" class=\"data row158 col0\" >12.660000</td>\n",
       "      <td id=\"T_6c163_row158_col1\" class=\"data row158 col1\" >0.04%</td>\n",
       "      <td id=\"T_6c163_row158_col2\" class=\"data row158 col2\" >C</td>\n",
       "    </tr>\n",
       "    <tr>\n",
       "      <th id=\"T_6c163_level0_row159\" class=\"row_heading level0 row159\" >Alidoro</th>\n",
       "      <td id=\"T_6c163_row159_col0\" class=\"data row159 col0\" >12.610000</td>\n",
       "      <td id=\"T_6c163_row159_col1\" class=\"data row159 col1\" >0.04%</td>\n",
       "      <td id=\"T_6c163_row159_col2\" class=\"data row159 col2\" >C</td>\n",
       "    </tr>\n",
       "    <tr>\n",
       "      <th id=\"T_6c163_level0_row160\" class=\"row_heading level0 row160\" >Hampton Chutney Co.</th>\n",
       "      <td id=\"T_6c163_row160_col0\" class=\"data row160 col0\" >12.370000</td>\n",
       "      <td id=\"T_6c163_row160_col1\" class=\"data row160 col1\" >0.04%</td>\n",
       "      <td id=\"T_6c163_row160_col2\" class=\"data row160 col2\" >C</td>\n",
       "    </tr>\n",
       "    <tr>\n",
       "      <th id=\"T_6c163_level0_row161\" class=\"row_heading level0 row161\" >Kori Restaurant and Bar</th>\n",
       "      <td id=\"T_6c163_row161_col0\" class=\"data row161 col0\" >12.180000</td>\n",
       "      <td id=\"T_6c163_row161_col1\" class=\"data row161 col1\" >0.04%</td>\n",
       "      <td id=\"T_6c163_row161_col2\" class=\"data row161 col2\" >C</td>\n",
       "    </tr>\n",
       "    <tr>\n",
       "      <th id=\"T_6c163_level0_row162\" class=\"row_heading level0 row162\" >The MasalaWala</th>\n",
       "      <td id=\"T_6c163_row162_col0\" class=\"data row162 col0\" >12.130000</td>\n",
       "      <td id=\"T_6c163_row162_col1\" class=\"data row162 col1\" >0.04%</td>\n",
       "      <td id=\"T_6c163_row162_col2\" class=\"data row162 col2\" >C</td>\n",
       "    </tr>\n",
       "    <tr>\n",
       "      <th id=\"T_6c163_level0_row163\" class=\"row_heading level0 row163\" >Rye House</th>\n",
       "      <td id=\"T_6c163_row163_col0\" class=\"data row163 col0\" >12.130000</td>\n",
       "      <td id=\"T_6c163_row163_col1\" class=\"data row163 col1\" >0.04%</td>\n",
       "      <td id=\"T_6c163_row163_col2\" class=\"data row163 col2\" >C</td>\n",
       "    </tr>\n",
       "    <tr>\n",
       "      <th id=\"T_6c163_level0_row164\" class=\"row_heading level0 row164\" >Frank Restaurant</th>\n",
       "      <td id=\"T_6c163_row164_col0\" class=\"data row164 col0\" >12.080000</td>\n",
       "      <td id=\"T_6c163_row164_col1\" class=\"data row164 col1\" >0.04%</td>\n",
       "      <td id=\"T_6c163_row164_col2\" class=\"data row164 col2\" >C</td>\n",
       "    </tr>\n",
       "    <tr>\n",
       "      <th id=\"T_6c163_level0_row165\" class=\"row_heading level0 row165\" >Samurai Mama</th>\n",
       "      <td id=\"T_6c163_row165_col0\" class=\"data row165 col0\" >11.640000</td>\n",
       "      <td id=\"T_6c163_row165_col1\" class=\"data row165 col1\" >0.04%</td>\n",
       "      <td id=\"T_6c163_row165_col2\" class=\"data row165 col2\" >C</td>\n",
       "    </tr>\n",
       "    <tr>\n",
       "      <th id=\"T_6c163_level0_row166\" class=\"row_heading level0 row166\" >Lamarca Pasta</th>\n",
       "      <td id=\"T_6c163_row166_col0\" class=\"data row166 col0\" >9.220000</td>\n",
       "      <td id=\"T_6c163_row166_col1\" class=\"data row166 col1\" >0.03%</td>\n",
       "      <td id=\"T_6c163_row166_col2\" class=\"data row166 col2\" >C</td>\n",
       "    </tr>\n",
       "    <tr>\n",
       "      <th id=\"T_6c163_level0_row167\" class=\"row_heading level0 row167\" >Balade</th>\n",
       "      <td id=\"T_6c163_row167_col0\" class=\"data row167 col0\" >9.220000</td>\n",
       "      <td id=\"T_6c163_row167_col1\" class=\"data row167 col1\" >0.03%</td>\n",
       "      <td id=\"T_6c163_row167_col2\" class=\"data row167 col2\" >C</td>\n",
       "    </tr>\n",
       "    <tr>\n",
       "      <th id=\"T_6c163_level0_row168\" class=\"row_heading level0 row168\" >Gaia Italian Cafe</th>\n",
       "      <td id=\"T_6c163_row168_col0\" class=\"data row168 col0\" >8.780000</td>\n",
       "      <td id=\"T_6c163_row168_col1\" class=\"data row168 col1\" >0.03%</td>\n",
       "      <td id=\"T_6c163_row168_col2\" class=\"data row168 col2\" >C</td>\n",
       "    </tr>\n",
       "    <tr>\n",
       "      <th id=\"T_6c163_level0_row169\" class=\"row_heading level0 row169\" >Chola Eclectic Indian Cuisine</th>\n",
       "      <td id=\"T_6c163_row169_col0\" class=\"data row169 col0\" >8.730000</td>\n",
       "      <td id=\"T_6c163_row169_col1\" class=\"data row169 col1\" >0.03%</td>\n",
       "      <td id=\"T_6c163_row169_col2\" class=\"data row169 col2\" >C</td>\n",
       "    </tr>\n",
       "    <tr>\n",
       "      <th id=\"T_6c163_level0_row170\" class=\"row_heading level0 row170\" >Woorijip</th>\n",
       "      <td id=\"T_6c163_row170_col0\" class=\"data row170 col0\" >8.250000</td>\n",
       "      <td id=\"T_6c163_row170_col1\" class=\"data row170 col1\" >0.03%</td>\n",
       "      <td id=\"T_6c163_row170_col2\" class=\"data row170 col2\" >C</td>\n",
       "    </tr>\n",
       "    <tr>\n",
       "      <th id=\"T_6c163_level0_row171\" class=\"row_heading level0 row171\" >'wichcraft</th>\n",
       "      <td id=\"T_6c163_row171_col0\" class=\"data row171 col0\" >8.100000</td>\n",
       "      <td id=\"T_6c163_row171_col1\" class=\"data row171 col1\" >0.03%</td>\n",
       "      <td id=\"T_6c163_row171_col2\" class=\"data row171 col2\" >C</td>\n",
       "    </tr>\n",
       "    <tr>\n",
       "      <th id=\"T_6c163_level0_row172\" class=\"row_heading level0 row172\" >La Follia</th>\n",
       "      <td id=\"T_6c163_row172_col0\" class=\"data row172 col0\" >8.050000</td>\n",
       "      <td id=\"T_6c163_row172_col1\" class=\"data row172 col1\" >0.03%</td>\n",
       "      <td id=\"T_6c163_row172_col2\" class=\"data row172 col2\" >C</td>\n",
       "    </tr>\n",
       "    <tr>\n",
       "      <th id=\"T_6c163_level0_row173\" class=\"row_heading level0 row173\" >Market Table</th>\n",
       "      <td id=\"T_6c163_row173_col0\" class=\"data row173 col0\" >6.790000</td>\n",
       "      <td id=\"T_6c163_row173_col1\" class=\"data row173 col1\" >0.02%</td>\n",
       "      <td id=\"T_6c163_row173_col2\" class=\"data row173 col2\" >C</td>\n",
       "    </tr>\n",
       "    <tr>\n",
       "      <th id=\"T_6c163_level0_row174\" class=\"row_heading level0 row174\" >Wa Jeal</th>\n",
       "      <td id=\"T_6c163_row174_col0\" class=\"data row174 col0\" >6.740000</td>\n",
       "      <td id=\"T_6c163_row174_col1\" class=\"data row174 col1\" >0.02%</td>\n",
       "      <td id=\"T_6c163_row174_col2\" class=\"data row174 col2\" >C</td>\n",
       "    </tr>\n",
       "    <tr>\n",
       "      <th id=\"T_6c163_level0_row175\" class=\"row_heading level0 row175\" >Cipriani Le Specialita</th>\n",
       "      <td id=\"T_6c163_row175_col0\" class=\"data row175 col0\" >5.920000</td>\n",
       "      <td id=\"T_6c163_row175_col1\" class=\"data row175 col1\" >0.02%</td>\n",
       "      <td id=\"T_6c163_row175_col2\" class=\"data row175 col2\" >C</td>\n",
       "    </tr>\n",
       "    <tr>\n",
       "      <th id=\"T_6c163_level0_row176\" class=\"row_heading level0 row176\" >Big Wong Restaurant _¤¾Ñ¼</th>\n",
       "      <td id=\"T_6c163_row176_col0\" class=\"data row176 col0\" >5.920000</td>\n",
       "      <td id=\"T_6c163_row176_col1\" class=\"data row176 col1\" >0.02%</td>\n",
       "      <td id=\"T_6c163_row176_col2\" class=\"data row176 col2\" >C</td>\n",
       "    </tr>\n",
       "    <tr>\n",
       "      <th id=\"T_6c163_level0_row177\" class=\"row_heading level0 row177\" >Hunan Manor</th>\n",
       "      <td id=\"T_6c163_row177_col0\" class=\"data row177 col0\" >5.720000</td>\n",
       "      <td id=\"T_6c163_row177_col1\" class=\"data row177 col1\" >0.02%</td>\n",
       "      <td id=\"T_6c163_row177_col2\" class=\"data row177 col2\" >C</td>\n",
       "    </tr>\n",
       "  </tbody>\n",
       "</table>\n"
      ],
      "text/plain": [
       "<pandas.io.formats.style.Styler at 0x22f67ca4e90>"
      ]
     },
     "execution_count": 17,
     "metadata": {},
     "output_type": "execute_result"
    }
   ],
   "source": [
    "# Summarize the cost by restaurant\n",
    "restaurant_costs = df.groupby('restaurant_name')['cost_of_the_order'].sum()\n",
    "\n",
    "# Calculate the percentage of costs\n",
    "restaurant_percentage = (restaurant_costs / restaurant_costs.sum()) * 100\n",
    "\n",
    "# Format count values to include the percentage\n",
    "restaurant_costs_with_percent = restaurant_costs.astype(str) + ' (' + restaurant_percentage.round(2).astype(str) + '%)'\n",
    "\n",
    "# Rank the restaurants based on the cost of orders using ABC method\n",
    "restaurant_ranks = pd.qcut(restaurant_costs, q=[0, 0.8, 0.95, 1], labels=['C', 'B', 'A'])\n",
    "\n",
    "# Create a new DataFrame to store the costs, percentage, and ABC ranks\n",
    "restaurant_summary = pd.DataFrame({'Total Cost': restaurant_costs, 'Percentage': restaurant_percentage, 'ABC Rank': restaurant_ranks})\n",
    "\n",
    "# Sort the DataFrame by ABC Rank in descending order\n",
    "restaurant_summary = restaurant_summary.sort_values(by='Total Cost', ascending=False)\n",
    "\n",
    "# Format the DataFrame for display\n",
    "styled_table = restaurant_summary.style.format({\n",
    "    'Percentage': '{:.2f}%'\n",
    "}).set_properties(**{'text-align': 'center'})\n",
    "\n",
    "# Display the styled table\n",
    "styled_table"
   ]
  },
  {
   "cell_type": "code",
   "execution_count": 18,
   "metadata": {},
   "outputs": [
    {
     "data": {
      "text/html": [
       "<style type=\"text/css\">\n",
       "#T_52f2e thead {\n",
       "  text-align: center;\n",
       "}\n",
       "#T_52f2e_row0_col0, #T_52f2e_row0_col1, #T_52f2e_row1_col0, #T_52f2e_row1_col1, #T_52f2e_row2_col0, #T_52f2e_row2_col1 {\n",
       "  text-align: center;\n",
       "}\n",
       "</style>\n",
       "<table id=\"T_52f2e\">\n",
       "  <thead>\n",
       "    <tr>\n",
       "      <th class=\"blank level0\" >&nbsp;</th>\n",
       "      <th id=\"T_52f2e_level0_col0\" class=\"col_heading level0 col0\" >Total Cost</th>\n",
       "      <th id=\"T_52f2e_level0_col1\" class=\"col_heading level0 col1\" >Percentage</th>\n",
       "    </tr>\n",
       "    <tr>\n",
       "      <th class=\"index_name level0\" >ABC Rank</th>\n",
       "      <th class=\"blank col0\" >&nbsp;</th>\n",
       "      <th class=\"blank col1\" >&nbsp;</th>\n",
       "    </tr>\n",
       "  </thead>\n",
       "  <tbody>\n",
       "    <tr>\n",
       "      <th id=\"T_52f2e_level0_row0\" class=\"row_heading level0 row0\" >A</th>\n",
       "      <td id=\"T_52f2e_row0_col0\" class=\"data row0 col0\" >13879.870000</td>\n",
       "      <td id=\"T_52f2e_row0_col1\" class=\"data row0 col1\" >44.32%</td>\n",
       "    </tr>\n",
       "    <tr>\n",
       "      <th id=\"T_52f2e_level0_row1\" class=\"row_heading level0 row1\" >B</th>\n",
       "      <td id=\"T_52f2e_row1_col0\" class=\"data row1 col0\" >10063.650000</td>\n",
       "      <td id=\"T_52f2e_row1_col1\" class=\"data row1 col1\" >32.14%</td>\n",
       "    </tr>\n",
       "    <tr>\n",
       "      <th id=\"T_52f2e_level0_row2\" class=\"row_heading level0 row2\" >C</th>\n",
       "      <td id=\"T_52f2e_row2_col0\" class=\"data row2 col0\" >7371.300000</td>\n",
       "      <td id=\"T_52f2e_row2_col1\" class=\"data row2 col1\" >23.54%</td>\n",
       "    </tr>\n",
       "  </tbody>\n",
       "</table>\n"
      ],
      "text/plain": [
       "<pandas.io.formats.style.Styler at 0x22f67d930d0>"
      ]
     },
     "execution_count": 18,
     "metadata": {},
     "output_type": "execute_result"
    }
   ],
   "source": [
    "# Group the restaurant_summary DataFrame by ABC Rank and calculate the sum of Total Cost for each rank category\n",
    "summary_by_rank = restaurant_summary.groupby('ABC Rank')['Total Cost'].sum()\n",
    "\n",
    "# Calculate the percentage of total cost for each rank category\n",
    "percentage_by_rank = (summary_by_rank / summary_by_rank.sum()) * 100\n",
    "\n",
    "# Create a new DataFrame to store the summarized cost by rank category\n",
    "summary_table = pd.DataFrame({'Total Cost': summary_by_rank, 'Percentage': percentage_by_rank})\n",
    "\n",
    "# Sort the summary_table DataFrame by Total Cost in descending order\n",
    "summary_table_sorted = summary_table.sort_values(by='Total Cost', ascending=False)\n",
    "\n",
    "# Format the DataFrame for display\n",
    "styled_summary_table = summary_table_sorted.style.format({\n",
    "    'Percentage': '{:.2f}%'\n",
    "}).set_properties(**{'text-align': 'center'}).set_table_styles([{\n",
    "    'selector': 'thead',\n",
    "    'props': [('text-align', 'center')]\n",
    "}])\n",
    "\n",
    "# Display the styled summary table\n",
    "styled_summary_table"
   ]
  },
  {
   "cell_type": "code",
   "execution_count": 19,
   "metadata": {},
   "outputs": [
    {
     "data": {
      "image/png": "[encoded data removed]",
      "text/plain": [
       "<Figure size 800x600 with 1 Axes>"
      ]
     },
     "metadata": {},
     "output_type": "display_data"
    }
   ],
   "source": [
    "from scipy import stats\n",
    "\n",
    "# Plotting the summarized cost by rank category\n",
    "plt.figure(figsize=(8, 6))\n",
    "bars = plt.bar(summary_table_sorted.index, summary_table_sorted['Total Cost'], color='blue')\n",
    "\n",
    "# Fit a linear regression model\n",
    "x = np.arange(len(summary_table_sorted))\n",
    "slope, intercept, r_value, p_value, std_err = stats.linregress(x, summary_table_sorted['Total Cost'])\n",
    "trendline = slope * x + intercept\n",
    "\n",
    "# Plot the trendline\n",
    "plt.plot(x, trendline, color='red', linestyle='--', label=f'Trendline: y = {slope:.2f}x + {intercept:.2f}')\n",
    "\n",
    "plt.title('Summarized Cost by Rank Category with Trendline')\n",
    "plt.xlabel('ABC Rank')\n",
    "plt.ylabel('Total Cost')\n",
    "plt.xticks(rotation=0)\n",
    "plt.legend()\n",
    "plt.tight_layout()\n",
    "plt.show()"
   ]
  },
  {
   "cell_type": "markdown",
   "metadata": {},
   "source": [
    "#### 4. Cuisine type "
   ]
  },
  {
   "cell_type": "code",
   "execution_count": 20,
   "metadata": {},
   "outputs": [
    {
     "data": {
      "text/plain": [
       "14"
      ]
     },
     "execution_count": 20,
     "metadata": {},
     "output_type": "execute_result"
    }
   ],
   "source": [
    "# check unique cuisine type\n",
    "df['cuisine_type'].nunique()"
   ]
  },
  {
   "cell_type": "code",
   "execution_count": 21,
   "metadata": {},
   "outputs": [
    {
     "data": {
      "image/png": "[encoded data removed]",
      "text/plain": [
       "<Figure size 1500x500 with 1 Axes>"
      ]
     },
     "metadata": {},
     "output_type": "display_data"
    }
   ],
   "source": [
    "# Get the count of observations for each cuisine type\n",
    "cuisine_counts = df['cuisine_type'].value_counts()\n",
    "\n",
    "# Get the cuisine types sorted by count in descending order\n",
    "cuisine_order = cuisine_counts.index\n",
    "\n",
    "# Plot the count of observations for each cuisine type in descending order\n",
    "plt.figure(figsize=(15, 5))\n",
    "sns.countplot(data=df, x='cuisine_type', order=cuisine_order,color='blue')\n",
    "plt.show()"
   ]
  },
  {
   "cell_type": "markdown",
   "metadata": {},
   "source": [
    "#### Observations:\n",
    "* Upon further analysis, it's evident that the dataset comprises 14 distinct cuisine types, with American cuisine standing out as the most prevalent choice among customers. \n",
    "* The most frequent cuisine type is American followed by Japanese and Italian.\n",
    "* Vietnamese appears to be the least popular of all the cuisines."
   ]
  },
  {
   "cell_type": "markdown",
   "metadata": {},
   "source": [
    "#### 5. Cost of the order"
   ]
  },
  {
   "cell_type": "code",
   "execution_count": 22,
   "metadata": {},
   "outputs": [
    {
     "data": {
      "image/png": "[encoded data removed]",
      "text/plain": [
       "<Figure size 640x480 with 1 Axes>"
      ]
     },
     "metadata": {},
     "output_type": "display_data"
    },
    {
     "data": {
      "image/png": "[encoded data removed]",
      "text/plain": [
       "<Figure size 640x480 with 1 Axes>"
      ]
     },
     "metadata": {},
     "output_type": "display_data"
    }
   ],
   "source": [
    "sns.histplot(data=df,x='cost_of_the_order', color='blue')\n",
    "plt.show()\n",
    "sns.boxplot(data=df,x='cost_of_the_order', color='blue')\n",
    "plt.show()"
   ]
  },
  {
   "cell_type": "markdown",
   "metadata": {},
   "source": [
    "#### Observations:\n",
    "* The mean cost of orders exceeds the median cost, suggesting a right-skewed distribution for order costs.\n",
    "* The mode of the distribution highlights a significant preference for ordering food priced between 10 to 12 dollars.\n",
    "* A limited number of orders surpass the 30-dollar mark, indicating potential purchases of higher-priced meals."
   ]
  },
  {
   "cell_type": "markdown",
   "metadata": {},
   "source": [
    "#### 6. Day of the week"
   ]
  },
  {
   "cell_type": "code",
   "execution_count": 23,
   "metadata": {},
   "outputs": [
    {
     "name": "stdout",
     "output_type": "stream",
     "text": [
      "                 Count  Percentage\n",
      "day_of_the_week                   \n",
      "Weekend           1351    71.18019\n",
      "Weekday            547    28.81981\n"
     ]
    }
   ],
   "source": [
    "# Get the count of observations for day_of_the_week\n",
    "day_of_the_week_counts = df['day_of_the_week'].value_counts()\n",
    "# Calculate the percentage of day_of_the_week\n",
    "day_of_the_week_percentage = (day_of_the_week_counts / len(df)) * 100\n",
    "# Create a new DataFrame to store the counts and percentages\n",
    "day_of_the_week_summary = pd.DataFrame({'Count': day_of_the_week_counts, 'Percentage': day_of_the_week_percentage})\n",
    "# Display the DataFrame\n",
    "print(day_of_the_week_summary)"
   ]
  },
  {
   "cell_type": "code",
   "execution_count": 24,
   "metadata": {},
   "outputs": [
    {
     "data": {
      "image/png": "[encoded data removed]",
      "text/plain": [
       "<Figure size 1000x600 with 1 Axes>"
      ]
     },
     "metadata": {},
     "output_type": "display_data"
    }
   ],
   "source": [
    "# Calculate the count and percentage of each category\n",
    "day_counts = df['day_of_the_week'].value_counts()\n",
    "day_percentage = (day_counts / len(df)) * 100\n",
    "\n",
    "# Plot the count of observations for each day of the week\n",
    "plt.figure(figsize=(10, 6))\n",
    "ax = sns.countplot(data=df, x='day_of_the_week', color='blue')\n",
    "\n",
    "# Annotate the plot with both count and percentage\n",
    "for i, p in enumerate(ax.patches):\n",
    "    height = p.get_height()\n",
    "    ax.text(p.get_x() + p.get_width() / 2., height + 0.5, f'{day_counts[i]} ({day_percentage[i]:.2f}%)', ha='center')\n",
    "\n",
    "plt.show()"
   ]
  },
  {
   "cell_type": "markdown",
   "metadata": {},
   "source": [
    "#### Observations:\n",
    "* Weekend Orders: The count of orders during the weekend is significantly higher, with a total of 1351 orders, representing approximately 71.18% of the total orders in the dataset. This suggests a notable increase in food orders over weekends compared to weekdays.\n",
    "\n",
    "* Weekday Orders: In contrast, orders placed during weekdays are comparatively lower, with a total of 547 orders, accounting for approximately 28.82% of the total orders. This indicates a relatively quieter period for food orders during weekdays compared to weekends."
   ]
  },
  {
   "cell_type": "markdown",
   "metadata": {},
   "source": [
    "#### 7. Rating"
   ]
  },
  {
   "cell_type": "code",
   "execution_count": 25,
   "metadata": {},
   "outputs": [
    {
     "name": "stdout",
     "output_type": "stream",
     "text": [
      "                 Count  Percentage\n",
      "day_of_the_week                   \n",
      "Weekend           1351    71.18019\n",
      "Weekday            547    28.81981\n"
     ]
    }
   ],
   "source": [
    "# check the unique values\n",
    "df['rating'].value_counts()\n",
    "\n",
    "# Get the count of observations for rating\n",
    "rating_counts = df['rating'].value_counts()\n",
    "# Calculate the percentage of day_of_the_week\n",
    "rating_percentage = (rating_counts / len(df)) * 100\n",
    "# Create a new DataFrame to store the counts and percentages\n",
    "rating_summary = pd.DataFrame({'Count': rating_counts, 'Percentage': rating_percentage})\n",
    "# Display the DataFrame\n",
    "print(day_of_the_week_summary)"
   ]
  },
  {
   "cell_type": "code",
   "execution_count": 26,
   "metadata": {},
   "outputs": [
    {
     "data": {
      "image/png": "[encoded data removed]",
      "text/plain": [
       "<Figure size 1000x600 with 1 Axes>"
      ]
     },
     "metadata": {},
     "output_type": "display_data"
    }
   ],
   "source": [
    "# Calculate the count and percentage of each category\n",
    "day_counts = df['rating'].value_counts()\n",
    "day_percentage = (day_counts / len(df)) * 100\n",
    "\n",
    "# Plot the count of observations for each day of the week\n",
    "plt.figure(figsize=(10, 6))\n",
    "ax = sns.countplot(data=df, x='rating',color='blue')\n",
    "\n",
    "# Annotate the plot with both count and percentage\n",
    "for i, p in enumerate(ax.patches):\n",
    "    height = p.get_height()\n",
    "    ax.text(p.get_x() + p.get_width() / 2., height + 0.5, f'{day_counts[i]} ({day_percentage[i]:.2f}%)', ha='center')\n",
    "\n",
    "plt.show()"
   ]
  },
  {
   "cell_type": "markdown",
   "metadata": {},
   "source": [
    "#### Observations:\n",
    "\n",
    "\n",
    "* The rating distribution indicates that the most common rating category is 'not provided', with a subsequent prevalence of a rating of 5.\n",
    "\n",
    "* Approximately 200 orders have received a rating of 3."
   ]
  },
  {
   "cell_type": "markdown",
   "metadata": {},
   "source": [
    "#### 8. Food Preparation time"
   ]
  },
  {
   "cell_type": "code",
   "execution_count": 27,
   "metadata": {
    "scrolled": false
   },
   "outputs": [
    {
     "data": {
      "image/png": "[encoded data removed]",
      "text/plain": [
       "<Figure size 640x480 with 1 Axes>"
      ]
     },
     "metadata": {},
     "output_type": "display_data"
    },
    {
     "data": {
      "image/png": "[encoded data removed]",
      "text/plain": [
       "<Figure size 640x480 with 1 Axes>"
      ]
     },
     "metadata": {},
     "output_type": "display_data"
    }
   ],
   "source": [
    "sns.histplot(data=df,x='food_preparation_time', color='blue')\n",
    "plt.show()\n",
    "sns.boxplot(data=df,x='food_preparation_time', color='blue')\n",
    "plt.show()"
   ]
  },
  {
   "cell_type": "markdown",
   "metadata": {},
   "source": [
    "#### 9. Delivery Time"
   ]
  },
  {
   "cell_type": "code",
   "execution_count": 28,
   "metadata": {},
   "outputs": [
    {
     "data": {
      "image/png": "[encoded data removed]",
      "text/plain": [
       "<Figure size 640x480 with 1 Axes>"
      ]
     },
     "metadata": {},
     "output_type": "display_data"
    },
    {
     "data": {
      "image/png": "[encoded data removed]",
      "text/plain": [
       "<Figure size 640x480 with 1 Axes>"
      ]
     },
     "metadata": {},
     "output_type": "display_data"
    }
   ],
   "source": [
    "sns.histplot(data=df,x='delivery_time', color='blue', kde=True)\n",
    "plt.show()\n",
    "sns.boxplot(data=df,x='delivery_time', color='blue')\n",
    "plt.show()"
   ]
  },
  {
   "cell_type": "markdown",
   "metadata": {},
   "source": [
    "#### Observations:\n",
    "\n",
    "* The average food preparation time is almost equal to the median food preparation time indicating that the distribution is nearly symmetrical.\n",
    "\n",
    "* The food preparation time is pretty evenly distributed between 20 and 30 minutes.\n",
    "\n",
    "* There are no outliers in this column."
   ]
  },
  {
   "cell_type": "markdown",
   "metadata": {},
   "source": [
    "#### Orders by day of the week and delivery time"
   ]
  },
  {
   "cell_type": "code",
   "execution_count": 29,
   "metadata": {},
   "outputs": [
    {
     "data": {
      "text/html": [
       "<div>\n",
       "<style scoped>\n",
       "    .dataframe tbody tr th:only-of-type {\n",
       "        vertical-align: middle;\n",
       "    }\n",
       "\n",
       "    .dataframe tbody tr th {\n",
       "        vertical-align: top;\n",
       "    }\n",
       "\n",
       "    .dataframe thead tr th {\n",
       "        text-align: left;\n",
       "    }\n",
       "\n",
       "    .dataframe thead tr:last-of-type th {\n",
       "        text-align: right;\n",
       "    }\n",
       "</style>\n",
       "<table border=\"1\" class=\"dataframe\">\n",
       "  <thead>\n",
       "    <tr>\n",
       "      <th></th>\n",
       "      <th colspan=\"6\" halign=\"left\">delivery_time</th>\n",
       "    </tr>\n",
       "    <tr>\n",
       "      <th></th>\n",
       "      <th>min</th>\n",
       "      <th>mean</th>\n",
       "      <th>median</th>\n",
       "      <th>max</th>\n",
       "      <th>count</th>\n",
       "      <th>std</th>\n",
       "    </tr>\n",
       "    <tr>\n",
       "      <th>day_of_the_week</th>\n",
       "      <th></th>\n",
       "      <th></th>\n",
       "      <th></th>\n",
       "      <th></th>\n",
       "      <th></th>\n",
       "      <th></th>\n",
       "    </tr>\n",
       "  </thead>\n",
       "  <tbody>\n",
       "    <tr>\n",
       "      <th>Weekday</th>\n",
       "      <td>24</td>\n",
       "      <td>28.340037</td>\n",
       "      <td>28.0</td>\n",
       "      <td>33</td>\n",
       "      <td>547</td>\n",
       "      <td>2.891428</td>\n",
       "    </tr>\n",
       "    <tr>\n",
       "      <th>Weekend</th>\n",
       "      <td>15</td>\n",
       "      <td>22.470022</td>\n",
       "      <td>22.0</td>\n",
       "      <td>30</td>\n",
       "      <td>1351</td>\n",
       "      <td>4.628938</td>\n",
       "    </tr>\n",
       "  </tbody>\n",
       "</table>\n",
       "</div>"
      ],
      "text/plain": [
       "                delivery_time                                      \n",
       "                          min       mean median max count       std\n",
       "day_of_the_week                                                    \n",
       "Weekday                    24  28.340037   28.0  33   547  2.891428\n",
       "Weekend                    15  22.470022   22.0  30  1351  4.628938"
      ]
     },
     "execution_count": 29,
     "metadata": {},
     "output_type": "execute_result"
    }
   ],
   "source": [
    "df[[\"day_of_the_week\", \"delivery_time\"]].groupby(\"day_of_the_week\").agg([\"min\",\"mean\", \"median\",\"max\", \"count\", \"std\"])\n"
   ]
  },
  {
   "cell_type": "markdown",
   "metadata": {},
   "source": [
    "#### Observations:\n",
    "\n",
    "* The mean food preparation time closely aligns with the median food preparation time, suggesting a nearly symmetrical distribution.\n",
    "\n",
    "* Food preparation time is evenly spread across the range of 20 to 35 minutes.\n",
    "\n",
    "* No exceptional values are present in this column."
   ]
  },
  {
   "cell_type": "markdown",
   "metadata": {
    "id": "K9CqA5H_JY_U"
   },
   "source": [
    "#### 10.Top 5 restaurants in terms of the number of orders received"
   ]
  },
  {
   "cell_type": "code",
   "execution_count": 30,
   "metadata": {
    "id": "PaJZ3wlOJY_U"
   },
   "outputs": [
    {
     "name": "stdout",
     "output_type": "stream",
     "text": [
      "restaurant_name\n",
      "Shake Shack                  219\n",
      "The Meatball Shop            132\n",
      "Blue Ribbon Sushi            119\n",
      "Blue Ribbon Fried Chicken     96\n",
      "Parm                          68\n",
      "Name: count, dtype: int64\n"
     ]
    },
    {
     "data": {
      "image/png": "[encoded data removed]",
      "text/plain": [
       "<Figure size 800x400 with 1 Axes>"
      ]
     },
     "metadata": {},
     "output_type": "display_data"
    }
   ],
   "source": [
    "# Get top 5 restaurants with highest number of orders\n",
    "top_restaurants = df['restaurant_name'].value_counts()[:5]\n",
    "print(top_restaurants)\n",
    "\n",
    "# Create a bar chart\n",
    "plt.figure(figsize=(8, 4))\n",
    "top_restaurants.plot(kind='bar', color='blue')\n",
    "plt.title('Top 5 Restaurants with Highest Number of Orders')\n",
    "plt.xlabel('Restaurant Name')\n",
    "plt.ylabel('Number of Orders')\n",
    "plt.xticks(rotation=90, ha='right')\n",
    "plt.tight_layout()\n",
    "plt.show()"
   ]
  },
  {
   "cell_type": "markdown",
   "metadata": {
    "id": "tnjhWgUfJY_U"
   },
   "source": [
    "#### Observations:\n"
   ]
  },
  {
   "cell_type": "markdown",
   "metadata": {
    "id": "gWPMqGq0JY_U"
   },
   "source": [
    "#### 11.The most popular cuisine on weekends"
   ]
  },
  {
   "cell_type": "code",
   "execution_count": 31,
   "metadata": {
    "id": "c-Xnus3VJY_U"
   },
   "outputs": [
    {
     "data": {
      "image/png": "[encoded data removed]",
      "text/plain": [
       "<Figure size 800x400 with 1 Axes>"
      ]
     },
     "metadata": {},
     "output_type": "display_data"
    },
    {
     "data": {
      "text/plain": [
       "cuisine_type\n",
       "American          415\n",
       "Japanese          335\n",
       "Italian           207\n",
       "Chinese           163\n",
       "Mexican            53\n",
       "Indian             49\n",
       "Mediterranean      32\n",
       "Middle Eastern     32\n",
       "Thai               15\n",
       "French             13\n",
       "Korean             11\n",
       "Southern           11\n",
       "Spanish            11\n",
       "Vietnamese          4\n",
       "Name: count, dtype: int64"
      ]
     },
     "execution_count": 31,
     "metadata": {},
     "output_type": "execute_result"
    }
   ],
   "source": [
    "\n",
    "# Filter the DataFrame for weekend days and select the 'cuisine_type' column\n",
    "most_popular_cuisine_on_weekends = df[df['day_of_the_week'].isin(['Weekend'])]['cuisine_type'].value_counts()\n",
    "\n",
    "# Create a bar chart\n",
    "plt.figure(figsize=(8, 4))\n",
    "most_popular_cuisine_on_weekends.plot(kind='bar', color='blue')\n",
    "plt.title('Most Popular Cuisine on Weekends')\n",
    "plt.xlabel('Cuisine Type')\n",
    "plt.ylabel('Number of Orders')\n",
    "plt.xticks(rotation=45, ha='right')\n",
    "plt.tight_layout()\n",
    "plt.show()\n",
    "\n",
    "# Get most popular cuisine on weekends\n",
    "df_weekend = df[df['day_of_the_week'] == 'Weekend']\n",
    "df_weekend['cuisine_type'].value_counts()"
   ]
  },
  {
   "cell_type": "markdown",
   "metadata": {
    "id": "bpQ270TUJY_U"
   },
   "source": [
    "#### Observations:\n"
   ]
  },
  {
   "cell_type": "markdown",
   "metadata": {
    "id": "88xgTqkxJY_U"
   },
   "source": [
    "#### 12. percentage of the orders cost more than 20 dollars? [2 marks]"
   ]
  },
  {
   "cell_type": "code",
   "execution_count": 32,
   "metadata": {},
   "outputs": [
    {
     "name": "stdout",
     "output_type": "stream",
     "text": [
      "  cost_of_the_order  Count\n",
      "0           [5, 10)    385\n",
      "1          [10, 20)    949\n",
      "2          [20, 30)    455\n",
      "3          [30, 36)    100\n"
     ]
    },
    {
     "data": {
      "image/png": "[encoded data removed]",
      "text/plain": [
       "<Figure size 1000x600 with 1 Axes>"
      ]
     },
     "metadata": {},
     "output_type": "display_data"
    }
   ],
   "source": [
    "# Filter orders within the specified cost range\n",
    "filtered_orders = df[(df['cost_of_the_order'] >= 5) & (df['cost_of_the_order'] <= 36)]\n",
    "\n",
    "# Define cost ranges\n",
    "cost_ranges = pd.cut(filtered_orders['cost_of_the_order'], bins=[5, 10, 20, 30, 36], include_lowest=True, right=False)\n",
    "\n",
    "# Group by cost ranges and calculate the count of orders\n",
    "orders_by_range = filtered_orders.groupby(cost_ranges).size().reset_index(name='Count')\n",
    "\n",
    "# Create a table to display the count of orders in each range\n",
    "print(orders_by_range)\n",
    "\n",
    "# Plot a bar chart to visualize the count of orders in each range\n",
    "plt.figure(figsize=(10, 6))\n",
    "plt.bar(orders_by_range.index.astype(str), orders_by_range['Count'], color='blue')\n",
    "plt.title('Count of Orders by Cost Range')\n",
    "plt.xlabel('Cost Range (USD)')\n",
    "plt.ylabel('Count of Orders')\n",
    "plt.xticks(rotation=0)\n",
    "plt.tight_layout()\n",
    "plt.show()\n"
   ]
  },
  {
   "cell_type": "code",
   "execution_count": 33,
   "metadata": {
    "id": "OTpHyTdzJY_U"
   },
   "outputs": [
    {
     "name": "stdout",
     "output_type": "stream",
     "text": [
      "The number of total orders that cost above 20 dollars is: 555\n",
      "Percentage of orders above 20 dollars: 29.24 %\n"
     ]
    }
   ],
   "source": [
    "# Get orders that cost above 20 dollars\n",
    "df_greater_than_20 = df[df['cost_of_the_order'] > 20]\n",
    "\n",
    "# Calculate the number of total orders where the cost is above 20 dollars\n",
    "\n",
    "print('The number of total orders that cost above 20 dollars is:', df_greater_than_20.shape[0])\n",
    "\n",
    "# Calculate percentage of such orders in the dataset\n",
    "percentage = (df_greater_than_20.shape[0] / df.shape[0]) * 100\n",
    "\n",
    "print(\"Percentage of orders above 20 dollars:\", round(percentage, 2), '%')"
   ]
  },
  {
   "cell_type": "markdown",
   "metadata": {
    "id": "77KNAC5zJY_U"
   },
   "source": [
    "#### Observations:\n",
    "* The number of total orders that cost above 20 dollars is: 555\n",
    "* Percentage of orders above 20 dollars: 29.24 %"
   ]
  },
  {
   "cell_type": "markdown",
   "metadata": {
    "id": "HFyHn7hsJY_V"
   },
   "source": [
    "### 13. The mean order delivery time"
   ]
  },
  {
   "cell_type": "code",
   "execution_count": 34,
   "metadata": {},
   "outputs": [
    {
     "name": "stdout",
     "output_type": "stream",
     "text": [
      "  delivery_time  Count\n",
      "0       [5, 10)      0\n",
      "1      [10, 20)    428\n",
      "2      [20, 30)   1188\n",
      "3      [30, 36)    282\n"
     ]
    },
    {
     "data": {
      "image/png": "[encoded data removed]",
      "text/plain": [
       "<Figure size 1000x600 with 1 Axes>"
      ]
     },
     "metadata": {},
     "output_type": "display_data"
    }
   ],
   "source": [
    "# Filter orders within the specified cost range\n",
    "filtered_orders = df[(df['delivery_time'] >= 15) & (df['delivery_time'] <= 35)]\n",
    "\n",
    "# Define cost ranges\n",
    "cost_ranges = pd.cut(filtered_orders['delivery_time'], bins=[5, 10, 20, 30, 36], include_lowest=True, right=False)\n",
    "\n",
    "# Group by cost ranges and calculate the count of orders\n",
    "orders_by_range = filtered_orders.groupby(cost_ranges).size().reset_index(name='Count')\n",
    "\n",
    "# Create a table to display the count of orders in each range\n",
    "print(orders_by_range)\n",
    "\n",
    "# Plot a bar chart to visualize the count of orders in each range\n",
    "plt.figure(figsize=(10, 6))\n",
    "plt.bar(orders_by_range.index.astype(str), orders_by_range['Count'], color='blue')\n",
    "plt.title('delivery time')\n",
    "plt.xlabel('delivery_time)')\n",
    "plt.ylabel('Count of Orders')\n",
    "plt.xticks(rotation=0)\n",
    "plt.tight_layout()\n",
    "plt.show()\n"
   ]
  },
  {
   "cell_type": "code",
   "execution_count": 35,
   "metadata": {
    "id": "cyFL13hNJY_V"
   },
   "outputs": [
    {
     "name": "stdout",
     "output_type": "stream",
     "text": [
      "The mean delivery time for this dataset is 24.16 minutes\n"
     ]
    }
   ],
   "source": [
    "# The mean delivery time\n",
    "print('The mean delivery time for this dataset is', round(df['delivery_time'].mean(), 2), 'minutes')"
   ]
  },
  {
   "cell_type": "markdown",
   "metadata": {
    "id": "F35SRV-HJY_V"
   },
   "source": [
    "#### Observations:\n",
    "* The mean delivery time for this dataset is 24.16 minutes\n"
   ]
  },
  {
   "cell_type": "markdown",
   "metadata": {
    "id": "48IjaOuDJY_V"
   },
   "source": [
    "### 14. The company has decided to give 20% discount vouchers to the top 3 most frequent customers. Find the IDs of these customers and the number of orders they placed."
   ]
  },
  {
   "cell_type": "code",
   "execution_count": 36,
   "metadata": {
    "id": "Hz8-DE4Zge0j"
   },
   "outputs": [
    {
     "data": {
      "text/plain": [
       "customer_id\n",
       "52832     13\n",
       "47440     10\n",
       "83287      9\n",
       "250494     8\n",
       "259341     7\n",
       "Name: count, dtype: int64"
      ]
     },
     "execution_count": 36,
     "metadata": {},
     "output_type": "execute_result"
    }
   ],
   "source": [
    "# Get the counts of  each customer_id\n",
    "df['customer_id'].value_counts().head() "
   ]
  },
  {
   "cell_type": "markdown",
   "metadata": {
    "id": "9tWVwfX6JY_V"
   },
   "source": [
    "#### Observations: \n",
    "* The cosumers 52832, 47440,  83287 will recieve 20% of discount:"
   ]
  },
  {
   "cell_type": "markdown",
   "metadata": {
    "id": "AfIc2jPaJY_V"
   },
   "source": [
    "# Multivariate Analysis"
   ]
  },
  {
   "cell_type": "markdown",
   "metadata": {
    "id": "iqiS0RT_JY_V"
   },
   "source": [
    "### Perform a multivariate analysis to explore relationships between the important variables in the dataset. (It is a good idea to explore relations between numerical variables as well as relations between numerical and categorical variables) \n"
   ]
  },
  {
   "cell_type": "markdown",
   "metadata": {
    "id": "3qt4MCNTJY_V"
   },
   "source": [
    "#### 1. Cuisine vs Cost of the order"
   ]
  },
  {
   "cell_type": "code",
   "execution_count": 37,
   "metadata": {},
   "outputs": [
    {
     "data": {
      "image/png": "[encoded data removed]",
      "text/plain": [
       "<Figure size 1500x700 with 1 Axes>"
      ]
     },
     "metadata": {},
     "output_type": "display_data"
    }
   ],
   "source": [
    "# Relationship between cost of the order and cuisine type\n",
    "plt.figure(figsize=(15,7))\n",
    "sns.boxplot(x = \"cuisine_type\", y = \"cost_of_the_order\", data = df, palette = 'PuBu')\n",
    "plt.xticks(rotation = 60)\n",
    "plt.show()"
   ]
  },
  {
   "cell_type": "markdown",
   "metadata": {},
   "source": [
    "#### Observations:\n",
    "\n",
    "* Vietnamese and Korean cuisines cost less compared to other cuisines.\n",
    "* The boxplots for Italian, American, Chinese, Japanese cuisines are quite similar. This indicates that the quartile costs for these cuisines are quite similar.\n",
    "* Outliers are present for the cost of Korean, Mediterranean and Vietnamese cuisines.\n",
    "* French and Spanish cuisines are costlier compared to other cuisines."
   ]
  },
  {
   "cell_type": "markdown",
   "metadata": {},
   "source": [
    "#### 2. Cuisine vs Food Preparation time"
   ]
  },
  {
   "cell_type": "code",
   "execution_count": 38,
   "metadata": {},
   "outputs": [
    {
     "data": {
      "image/png": "[encoded data removed]",
      "text/plain": [
       "<Figure size 1500x700 with 1 Axes>"
      ]
     },
     "metadata": {},
     "output_type": "display_data"
    }
   ],
   "source": [
    "# Relationship between food preparation time and cuisine type\n",
    "plt.figure(figsize=(15,7))\n",
    "sns.boxplot(x = \"cuisine_type\", y = \"food_preparation_time\", data = df, palette = 'PuBu')\n",
    "plt.xticks(rotation = 60)\n",
    "plt.show()"
   ]
  },
  {
   "cell_type": "markdown",
   "metadata": {},
   "source": [
    "#### Observations:\n",
    "\n",
    "* Food preparation time is very consistent for most of the cuisines. \n",
    "* The median food preparation time lies between 24 and 30 minutes for all the cuisines.\n",
    "* Outliers are present for the food preparation time of Korean cuisine.\n",
    "* Korean cuisine takes less time compared to the other cuisines."
   ]
  },
  {
   "cell_type": "markdown",
   "metadata": {},
   "source": [
    "#### 3. Day of the Week vs Delivery time"
   ]
  },
  {
   "cell_type": "code",
   "execution_count": 39,
   "metadata": {
    "scrolled": false
   },
   "outputs": [
    {
     "data": {
      "image/png": "[encoded data removed]",
      "text/plain": [
       "<Figure size 1500x700 with 1 Axes>"
      ]
     },
     "metadata": {},
     "output_type": "display_data"
    }
   ],
   "source": [
    "# Relationship between day of the week and delivery time\n",
    "plt.figure(figsize=(15,7))\n",
    "sns.boxplot(x = \"day_of_the_week\", y = \"delivery_time\", data = df, palette = 'PuBu')\n",
    "plt.xticks(rotation = 60)\n",
    "plt.savefig(\"output.jpg\", bbox_inches='tight')\n",
    "plt.show()"
   ]
  },
  {
   "cell_type": "markdown",
   "metadata": {},
   "source": [
    "#### Observations:\n",
    "*The delivery time for all the orders over the weekends is less compared to weekdays. This could be due to the dip in traffic over the weekends."
   ]
  },
  {
   "cell_type": "markdown",
   "metadata": {},
   "source": [
    "#### 4. Revenue generated by the restaurants"
   ]
  },
  {
   "cell_type": "code",
   "execution_count": 40,
   "metadata": {},
   "outputs": [
    {
     "data": {
      "text/plain": [
       "restaurant_name\n",
       "Shake Shack                      3579.53\n",
       "The Meatball Shop                2145.21\n",
       "Blue Ribbon Sushi                1903.95\n",
       "Blue Ribbon Fried Chicken        1662.29\n",
       "Parm                             1112.76\n",
       "RedFarm Broadway                  965.13\n",
       "RedFarm Hudson                    921.21\n",
       "TAO                               834.50\n",
       "Han Dynasty                       755.29\n",
       "Blue Ribbon Sushi Bar & Grill     666.62\n",
       "Rubirosa                          660.45\n",
       "Sushi of Gari 46                  640.87\n",
       "Nobu Next Door                    623.67\n",
       "Five Guys Burgers and Fries       506.47\n",
       "Name: cost_of_the_order, dtype: float64"
      ]
     },
     "execution_count": 40,
     "metadata": {},
     "output_type": "execute_result"
    },
    {
     "data": {
      "text/plain": [
       "<Figure size 1500x700 with 0 Axes>"
      ]
     },
     "metadata": {},
     "output_type": "display_data"
    }
   ],
   "source": [
    "plt.figure(figsize = (15, 7))\n",
    "df.groupby(['restaurant_name'])['cost_of_the_order'].sum().sort_values(ascending = False).head(14)"
   ]
  },
  {
   "cell_type": "markdown",
   "metadata": {},
   "source": [
    "#### Observations:\n",
    "\n",
    "* The above 14 restaurants are generating more than 500 dollars revenue."
   ]
  },
  {
   "cell_type": "markdown",
   "metadata": {},
   "source": [
    "#### 5. Rating vs Delivery time"
   ]
  },
  {
   "cell_type": "code",
   "execution_count": 41,
   "metadata": {},
   "outputs": [
    {
     "data": {
      "image/png": "[encoded data removed]",
      "text/plain": [
       "<Figure size 1500x700 with 1 Axes>"
      ]
     },
     "metadata": {},
     "output_type": "display_data"
    }
   ],
   "source": [
    "# Relationship between rating and delivery time\n",
    "plt.figure(figsize=(15, 7))\n",
    "sns.pointplot(x = 'rating', y = 'delivery_time', data = df)\n",
    "plt.show()"
   ]
  },
  {
   "cell_type": "markdown",
   "metadata": {},
   "source": [
    "#### Observations:\n",
    "\n",
    "* It is possible that delivery time plays a role in the low-rating of the orders.\n"
   ]
  },
  {
   "cell_type": "markdown",
   "metadata": {},
   "source": [
    "#### 6. Rating vs Food preparation time"
   ]
  },
  {
   "cell_type": "code",
   "execution_count": 42,
   "metadata": {},
   "outputs": [
    {
     "data": {
      "image/png": "[encoded data removed]",
      "text/plain": [
       "<Figure size 1500x700 with 1 Axes>"
      ]
     },
     "metadata": {},
     "output_type": "display_data"
    }
   ],
   "source": [
    "# Relationship between rating and food preparation time\n",
    "plt.figure(figsize=(15, 7))\n",
    "sns.pointplot(x = 'rating', y = 'food_preparation_time', data = df)\n",
    "plt.show()"
   ]
  },
  {
   "cell_type": "markdown",
   "metadata": {},
   "source": [
    "#### Observations:\n",
    "\n",
    "* It seems that food preparation time does not play a role in the low-rating of the orders."
   ]
  },
  {
   "cell_type": "markdown",
   "metadata": {},
   "source": [
    "#### 7.Rating vs Cost of the order"
   ]
  },
  {
   "cell_type": "code",
   "execution_count": 43,
   "metadata": {},
   "outputs": [
    {
     "data": {
      "image/png": "[encoded data removed]",
      "text/plain": [
       "<Figure size 1500x700 with 1 Axes>"
      ]
     },
     "metadata": {},
     "output_type": "display_data"
    }
   ],
   "source": [
    "# Relationship between rating and cost of the order\n",
    "plt.figure(figsize=(15, 7))\n",
    "sns.pointplot(x = 'rating', y = 'cost_of_the_order', data = df)\n",
    "plt.show()"
   ]
  },
  {
   "cell_type": "markdown",
   "metadata": {},
   "source": [
    "#### Observations\n",
    "\n",
    "* It seems that high-cost orders have been rated well and low-cost orders have not been rated."
   ]
  },
  {
   "cell_type": "markdown",
   "metadata": {},
   "source": [
    "### Correlation among variables"
   ]
  },
  {
   "cell_type": "code",
   "execution_count": 44,
   "metadata": {},
   "outputs": [
    {
     "data": {
      "image/png": "[encoded data removed]",
      "text/plain": [
       "<Figure size 1000x500 with 2 Axes>"
      ]
     },
     "metadata": {},
     "output_type": "display_data"
    }
   ],
   "source": [
    "\n",
    "# plot the heatmap \n",
    "col_list = ['cost_of_the_order', 'food_preparation_time', 'delivery_time']\n",
    "plt.figure(figsize=(10, 5))\n",
    "sns.heatmap(df[col_list].corr(), annot=True, vmin=-1, vmax=1, fmt=\".2f\", cmap=\"Spectral\")\n",
    "plt.show()\n"
   ]
  },
  {
   "cell_type": "markdown",
   "metadata": {},
   "source": [
    "#### Observations:\n",
    "\n",
    "* There is no correlation between cost of the order, delivery time and food preparation time.\n"
   ]
  },
  {
   "cell_type": "markdown",
   "metadata": {},
   "source": [
    "### Situations"
   ]
  },
  {
   "cell_type": "markdown",
   "metadata": {
    "id": "YLkMf09YJY_V"
   },
   "source": [
    "#### 1. The company wants to provide a promotional offer in the advertisement of the restaurants. The condition to get the offer is that the restaurants must have a rating count of more than 50 and the average rating should be greater than 4. Find the restaurants fulfilling the criteria to get the promotional offer. "
   ]
  },
  {
   "cell_type": "code",
   "execution_count": 45,
   "metadata": {
    "id": "0M_QDvbYJY_V"
   },
   "outputs": [
    {
     "data": {
      "text/html": [
       "<div>\n",
       "<style scoped>\n",
       "    .dataframe tbody tr th:only-of-type {\n",
       "        vertical-align: middle;\n",
       "    }\n",
       "\n",
       "    .dataframe tbody tr th {\n",
       "        vertical-align: top;\n",
       "    }\n",
       "\n",
       "    .dataframe thead th {\n",
       "        text-align: right;\n",
       "    }\n",
       "</style>\n",
       "<table border=\"1\" class=\"dataframe\">\n",
       "  <thead>\n",
       "    <tr style=\"text-align: right;\">\n",
       "      <th></th>\n",
       "      <th>restaurant_name</th>\n",
       "      <th>rating</th>\n",
       "    </tr>\n",
       "  </thead>\n",
       "  <tbody>\n",
       "    <tr>\n",
       "      <th>0</th>\n",
       "      <td>Shake Shack</td>\n",
       "      <td>133</td>\n",
       "    </tr>\n",
       "    <tr>\n",
       "      <th>1</th>\n",
       "      <td>The Meatball Shop</td>\n",
       "      <td>84</td>\n",
       "    </tr>\n",
       "    <tr>\n",
       "      <th>2</th>\n",
       "      <td>Blue Ribbon Sushi</td>\n",
       "      <td>73</td>\n",
       "    </tr>\n",
       "    <tr>\n",
       "      <th>3</th>\n",
       "      <td>Blue Ribbon Fried Chicken</td>\n",
       "      <td>64</td>\n",
       "    </tr>\n",
       "    <tr>\n",
       "      <th>4</th>\n",
       "      <td>RedFarm Broadway</td>\n",
       "      <td>41</td>\n",
       "    </tr>\n",
       "  </tbody>\n",
       "</table>\n",
       "</div>"
      ],
      "text/plain": [
       "             restaurant_name  rating\n",
       "0                Shake Shack     133\n",
       "1          The Meatball Shop      84\n",
       "2          Blue Ribbon Sushi      73\n",
       "3  Blue Ribbon Fried Chicken      64\n",
       "4           RedFarm Broadway      41"
      ]
     },
     "execution_count": 45,
     "metadata": {},
     "output_type": "execute_result"
    }
   ],
   "source": [
    "# filter the rated restaurants\n",
    "df_rated = df[df['rating'] != 'Not given'].copy()\n",
    "# convert rating column from object to integer\n",
    "df_rated['rating'] = df_rated['rating'].astype('int')\n",
    "# create a dataframe that contains the restaurant names with their rating counts\n",
    "df_rating_count = df_rated.groupby(['restaurant_name'])['rating'].count().sort_values(ascending = False).reset_index()\n",
    "df_rating_count.head()"
   ]
  },
  {
   "cell_type": "code",
   "execution_count": 46,
   "metadata": {},
   "outputs": [
    {
     "data": {
      "text/html": [
       "<div>\n",
       "<style scoped>\n",
       "    .dataframe tbody tr th:only-of-type {\n",
       "        vertical-align: middle;\n",
       "    }\n",
       "\n",
       "    .dataframe tbody tr th {\n",
       "        vertical-align: top;\n",
       "    }\n",
       "\n",
       "    .dataframe thead th {\n",
       "        text-align: right;\n",
       "    }\n",
       "</style>\n",
       "<table border=\"1\" class=\"dataframe\">\n",
       "  <thead>\n",
       "    <tr style=\"text-align: right;\">\n",
       "      <th></th>\n",
       "      <th>restaurant_name</th>\n",
       "      <th>rating</th>\n",
       "    </tr>\n",
       "  </thead>\n",
       "  <tbody>\n",
       "    <tr>\n",
       "      <th>0</th>\n",
       "      <td>The Meatball Shop</td>\n",
       "      <td>4.511905</td>\n",
       "    </tr>\n",
       "    <tr>\n",
       "      <th>1</th>\n",
       "      <td>Blue Ribbon Fried Chicken</td>\n",
       "      <td>4.328125</td>\n",
       "    </tr>\n",
       "    <tr>\n",
       "      <th>2</th>\n",
       "      <td>Shake Shack</td>\n",
       "      <td>4.278195</td>\n",
       "    </tr>\n",
       "    <tr>\n",
       "      <th>3</th>\n",
       "      <td>Blue Ribbon Sushi</td>\n",
       "      <td>4.219178</td>\n",
       "    </tr>\n",
       "  </tbody>\n",
       "</table>\n",
       "</div>"
      ],
      "text/plain": [
       "             restaurant_name    rating\n",
       "0          The Meatball Shop  4.511905\n",
       "1  Blue Ribbon Fried Chicken  4.328125\n",
       "2                Shake Shack  4.278195\n",
       "3          Blue Ribbon Sushi  4.219178"
      ]
     },
     "execution_count": 46,
     "metadata": {},
     "output_type": "execute_result"
    }
   ],
   "source": [
    "# get the restaurant names that have rating count more than 50\n",
    "rest_names = df_rating_count[df_rating_count['rating'] > 50]['restaurant_name']\n",
    "# filter to get the data of restaurants that have rating count more than 50\n",
    "df_mean_4 = df_rated[df_rated['restaurant_name'].isin(rest_names)].copy()\n",
    "# find the mean rating of the restaurants\n",
    "df_mean_4.groupby(df_mean_4['restaurant_name'])['rating'].mean().sort_values(ascending = False).reset_index()"
   ]
  },
  {
   "cell_type": "markdown",
   "metadata": {},
   "source": [
    "#### Observations:\n",
    "\n",
    "* The restaurants fulfilling the criteria to get the promotional offer are: **'The Meatball Shop', 'Blue Ribbon Fried Chicken',  'Shake Shack' and 'Blue Ribbon Sushi'**."
   ]
  },
  {
   "cell_type": "markdown",
   "metadata": {
    "id": "10uryUMhJY_V"
   },
   "source": [
    "#### Observations:\n"
   ]
  },
  {
   "cell_type": "markdown",
   "metadata": {
    "id": "1gvWBkRUJY_V"
   },
   "source": [
    "#### 2. The company charges the restaurant 25% on the orders having cost greater than 20 dollars and 15% on the orders having cost greater than 5 dollars. Find the net revenue generated by the company across all orders. "
   ]
  },
  {
   "cell_type": "code",
   "execution_count": 47,
   "metadata": {
    "id": "rEjbnTNEJY_W",
    "scrolled": true
   },
   "outputs": [
    {
     "data": {
      "text/html": [
       "<div>\n",
       "<style scoped>\n",
       "    .dataframe tbody tr th:only-of-type {\n",
       "        vertical-align: middle;\n",
       "    }\n",
       "\n",
       "    .dataframe tbody tr th {\n",
       "        vertical-align: top;\n",
       "    }\n",
       "\n",
       "    .dataframe thead th {\n",
       "        text-align: right;\n",
       "    }\n",
       "</style>\n",
       "<table border=\"1\" class=\"dataframe\">\n",
       "  <thead>\n",
       "    <tr style=\"text-align: right;\">\n",
       "      <th></th>\n",
       "      <th>order_id</th>\n",
       "      <th>customer_id</th>\n",
       "      <th>restaurant_name</th>\n",
       "      <th>cuisine_type</th>\n",
       "      <th>cost_of_the_order</th>\n",
       "      <th>day_of_the_week</th>\n",
       "      <th>rating</th>\n",
       "      <th>food_preparation_time</th>\n",
       "      <th>delivery_time</th>\n",
       "      <th>Revenue</th>\n",
       "    </tr>\n",
       "  </thead>\n",
       "  <tbody>\n",
       "    <tr>\n",
       "      <th>0</th>\n",
       "      <td>1477147</td>\n",
       "      <td>337525</td>\n",
       "      <td>Hangawi</td>\n",
       "      <td>Korean</td>\n",
       "      <td>30.75</td>\n",
       "      <td>Weekend</td>\n",
       "      <td>Not given</td>\n",
       "      <td>25</td>\n",
       "      <td>20</td>\n",
       "      <td>7.6875</td>\n",
       "    </tr>\n",
       "    <tr>\n",
       "      <th>1</th>\n",
       "      <td>1477685</td>\n",
       "      <td>358141</td>\n",
       "      <td>Blue Ribbon Sushi Izakaya</td>\n",
       "      <td>Japanese</td>\n",
       "      <td>12.08</td>\n",
       "      <td>Weekend</td>\n",
       "      <td>Not given</td>\n",
       "      <td>25</td>\n",
       "      <td>23</td>\n",
       "      <td>1.8120</td>\n",
       "    </tr>\n",
       "    <tr>\n",
       "      <th>2</th>\n",
       "      <td>1477070</td>\n",
       "      <td>66393</td>\n",
       "      <td>Cafe Habana</td>\n",
       "      <td>Mexican</td>\n",
       "      <td>12.23</td>\n",
       "      <td>Weekday</td>\n",
       "      <td>5</td>\n",
       "      <td>23</td>\n",
       "      <td>28</td>\n",
       "      <td>1.8345</td>\n",
       "    </tr>\n",
       "    <tr>\n",
       "      <th>3</th>\n",
       "      <td>1477334</td>\n",
       "      <td>106968</td>\n",
       "      <td>Blue Ribbon Fried Chicken</td>\n",
       "      <td>American</td>\n",
       "      <td>29.20</td>\n",
       "      <td>Weekend</td>\n",
       "      <td>3</td>\n",
       "      <td>25</td>\n",
       "      <td>15</td>\n",
       "      <td>7.3000</td>\n",
       "    </tr>\n",
       "    <tr>\n",
       "      <th>4</th>\n",
       "      <td>1478249</td>\n",
       "      <td>76942</td>\n",
       "      <td>Dirty Bird to Go</td>\n",
       "      <td>American</td>\n",
       "      <td>11.59</td>\n",
       "      <td>Weekday</td>\n",
       "      <td>4</td>\n",
       "      <td>25</td>\n",
       "      <td>24</td>\n",
       "      <td>1.7385</td>\n",
       "    </tr>\n",
       "  </tbody>\n",
       "</table>\n",
       "</div>"
      ],
      "text/plain": [
       "   order_id  customer_id            restaurant_name cuisine_type  \\\n",
       "0   1477147       337525                    Hangawi       Korean   \n",
       "1   1477685       358141  Blue Ribbon Sushi Izakaya     Japanese   \n",
       "2   1477070        66393                Cafe Habana      Mexican   \n",
       "3   1477334       106968  Blue Ribbon Fried Chicken     American   \n",
       "4   1478249        76942           Dirty Bird to Go     American   \n",
       "\n",
       "   cost_of_the_order day_of_the_week     rating  food_preparation_time  \\\n",
       "0              30.75         Weekend  Not given                     25   \n",
       "1              12.08         Weekend  Not given                     25   \n",
       "2              12.23         Weekday          5                     23   \n",
       "3              29.20         Weekend          3                     25   \n",
       "4              11.59         Weekday          4                     25   \n",
       "\n",
       "   delivery_time  Revenue  \n",
       "0             20   7.6875  \n",
       "1             23   1.8120  \n",
       "2             28   1.8345  \n",
       "3             15   7.3000  \n",
       "4             24   1.7385  "
      ]
     },
     "execution_count": 47,
     "metadata": {},
     "output_type": "execute_result"
    }
   ],
   "source": [
    "# Write the code here#function to determine the net revenue\n",
    "def compute_rev(x):\n",
    "    if x > 20:\n",
    "        return x*0.25\n",
    "    elif x > 5:\n",
    "        return x*0.15\n",
    "    else:\n",
    "        return x*0\n",
    "\n",
    "df['Revenue'] = df['cost_of_the_order'].apply(compute_rev)\n",
    "df.head()"
   ]
  },
  {
   "cell_type": "code",
   "execution_count": 48,
   "metadata": {},
   "outputs": [
    {
     "name": "stdout",
     "output_type": "stream",
     "text": [
      "The net revenue is around 6166.3 dollars\n"
     ]
    }
   ],
   "source": [
    "# get the total revenue and print it\n",
    "total_rev = df['Revenue'].sum()\n",
    "print('The net revenue is around', round(total_rev, 2), 'dollars')"
   ]
  },
  {
   "cell_type": "markdown",
   "metadata": {
    "id": "XHCEJgH0JY_W"
   },
   "source": [
    "#### Observations:\n",
    "\n",
    "* The net revenue generated on all the orders given in the dataset is around 6166.3 dollars."
   ]
  },
  {
   "cell_type": "markdown",
   "metadata": {
    "id": "pRlVW-oeJY_W"
   },
   "source": [
    "### 3. The company wants to analyze the total time required to deliver the food. What percentage of orders take more than 60 minutes to get delivered from the time the order is placed? (The food has to be prepared and then delivered.) "
   ]
  },
  {
   "cell_type": "code",
   "execution_count": 49,
   "metadata": {
    "id": "zxoTrxfLJY_W"
   },
   "outputs": [
    {
     "name": "stdout",
     "output_type": "stream",
     "text": [
      "The percentage of orders that have more than 60 minutes of total delivery time is 10.54 %\n"
     ]
    }
   ],
   "source": [
    "# add a new column to the dataframe df to store the total delivery time\n",
    "df['total_time'] = df['food_preparation_time'] + df['delivery_time']\n",
    "\n",
    "# find the percentage of orders that have more than 60 minutes of total delivery time\n",
    "print ('The percentage of orders that have more than 60 minutes of total delivery time is',\n",
    "       round(df[df['total_time'] > 60].shape[0] / df.shape[0] * 100, 2),'%')"
   ]
  },
  {
   "cell_type": "markdown",
   "metadata": {
    "id": "iqzBXn2yJY_W"
   },
   "source": [
    "#### Observations:\n",
    "\n",
    "* Approximately 10.54 % of the total orders have more than 60 minutes of total delivery time.\n",
    "\n"
   ]
  },
  {
   "cell_type": "markdown",
   "metadata": {
    "id": "bUd6cYpPJY_W"
   },
   "source": [
    "### 4. The company wants to analyze the delivery time of the orders on weekdays and weekends. How does the mean delivery time vary during weekdays and weekends? [2 marks]"
   ]
  },
  {
   "cell_type": "code",
   "execution_count": 50,
   "metadata": {
    "id": "pIU5xZZ6JY_W"
   },
   "outputs": [
    {
     "name": "stdout",
     "output_type": "stream",
     "text": [
      "The mean delivery time on weekdays is around 28 minutes\n",
      "The mean delivery time on weekends is around 22 minutes\n"
     ]
    }
   ],
   "source": [
    "# get the mean delivery time on weekdays and print it\n",
    "print('The mean delivery time on weekdays is around', \n",
    "      round(df[df['day_of_the_week'] == 'Weekday']['delivery_time'].mean()),\n",
    "     'minutes')\n",
    "\n",
    "# get the mean delivery time on weekends and print it\n",
    "print('The mean delivery time on weekends is around', \n",
    "      round(df[df['day_of_the_week'] == 'Weekend']['delivery_time'].mean()),\n",
    "     'minutes')"
   ]
  },
  {
   "cell_type": "markdown",
   "metadata": {
    "id": "8H-ODxbVJY_W"
   },
   "source": [
    "\n",
    "#### Observations:\n",
    "\n",
    "* The mean delivery time on weekdays is around 28 minutes whereas the mean delivery time on weekends is around 22 minutes.\n",
    "\n",
    "* This could be due to the dip of traffic volume in the weekends."
   ]
  },
  {
   "cell_type": "markdown",
   "metadata": {
    "id": "17roJywaJY_W"
   },
   "source": [
    "### Conclusion and Recommendations"
   ]
  },
  {
   "cell_type": "markdown",
   "metadata": {
    "id": "ZdX2Wz4FJY_W"
   },
   "source": [
    "### **Question 17:** What are your conclusions from the analysis? What recommendations would you like to share to help improve the business? (You can use cuisine type and feedback ratings to drive your business recommendations.) [6 marks]"
   ]
  },
  {
   "cell_type": "markdown",
   "metadata": {
    "id": "VTugVsL4Ddz-"
   },
   "source": [
    "### Conclusions:\n",
    "* Approximately 80% of orders are for American, Japanese, Italian, and Chinese cuisines, indicating high popularity among FoodHub customers.\n",
    "* Shake Shack stands out as the most favored restaurant, boasting the highest order count.\n",
    "* Order volumes exhibit an uptick during weekends compared to weekdays.\n",
    "* Delivery times during weekends are generally shorter than weekdays, possibly due to reduced traffic.\n",
    "Roughly 39% of orders remain unrated."
   ]
  },
  {
   "cell_type": "markdown",
   "metadata": {
    "id": "PWnsI0i_guWJ"
   },
   "source": [
    "### Recommendations:\n",
    "\n",
    "* FoodHub should integrate with restaurants serving American, Japanese, Italian and Chinese cuisines as these cuisines are very popular among FoodHub customers.\n",
    "\n",
    "* FoodHub should provide promotional offers to top-rated popular restaurants like Shake Shack that serve most of the orders.\n",
    "\n",
    "* As the order volume is high during the weekends, more delivery persons should be employed during the weekends to ensure timely delivery of the order. Weekend promotional offers should be given to the customers to increase the food orders during weekends.\n",
    "\n",
    "* Customer Rating is a very important factor to gauge customer satisfaction. The company should investigate the reason behind the low count of ratings. They can redesign the rating page in the app and make it more interactive to lure the customers to rate the order.\n",
    "\n",
    "* Around 11% of the total orders have more than 60 minutes of total delivery time. FoodHub should try to minimize such instances in order to avoid customer dissatisfaction. They can provide some reward to the punctual delivery persons."
   ]
  },
  {
   "cell_type": "markdown",
   "metadata": {
    "id": "tSoucKKbg9Hc"
   },
   "source": [
    "---"
   ]
  }
 ],
 "metadata": {
  "colab": {
   "collapsed_sections": [],
   "name": "PYF_Project_LearnerNotebook_FullCode.ipynb",
   "provenance": []
  },
  "kernelspec": {
   "display_name": "Python 3 (ipykernel)",
   "language": "python",
   "name": "python3"
  },
  "language_info": {
   "codemirror_mode": {
    "name": "ipython",
    "version": 3
   },
   "file_extension": ".py",
   "mimetype": "text/x-python",
   "name": "python",
   "nbconvert_exporter": "python",
   "pygments_lexer": "ipython3",
   "version": "3.11.5"
  }
 },
 "nbformat": 4,
 "nbformat_minor": 1
}
